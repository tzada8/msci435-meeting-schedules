{
  "cells": [
    {
      "cell_type": "markdown",
      "metadata": {},
      "source": [
        "## Import Packages"
      ]
    },
    {
      "cell_type": "code",
      "execution_count": 2,
      "metadata": {},
      "outputs": [
        {
          "name": "stdout",
          "output_type": "stream",
          "text": [
            "zsh:1: 9.5.1 not found\n"
          ]
        }
      ],
      "source": [
        "!pip install gurobipy>=9.5.1"
      ]
    },
    {
      "cell_type": "code",
      "execution_count": 3,
      "metadata": {},
      "outputs": [],
      "source": [
        "import gurobipy as gp\n",
        "from gurobipy import GRB as GRB\n",
        "import sys\n",
        "sys.path.insert(0, \"../utils\")\n",
        "\n",
        "import utils_functions\n",
        "from unavailability import chairs_est_unavailability, members_est_unavailability"
      ]
    },
    {
      "cell_type": "markdown",
      "metadata": {
        "id": "jbfGPRhx77mu"
      },
      "source": [
        "## Column Generation"
      ]
    },
    {
      "cell_type": "code",
      "execution_count": 4,
      "metadata": {},
      "outputs": [],
      "source": [
        "chair_unavailability = utils_functions.calculate_unavailability(chairs_est_unavailability)\n",
        "member_unavailability = utils_functions.calculate_unavailability(members_est_unavailability)"
      ]
    },
    {
      "cell_type": "code",
      "execution_count": 23,
      "metadata": {},
      "outputs": [],
      "source": [
        "cleaned_chair_availability = []\n",
        "for chair in chair_unavailability:\n",
        "    cleaned_timeslots = [0] * 170\n",
        "    for timeslot in chair:\n",
        "        cleaned_timeslots[timeslot - 1] = 1\n",
        "    cleaned_chair_availability.append(cleaned_timeslots)\n",
        "\n",
        "cleaned_member_availability = []\n",
        "for member in member_unavailability:\n",
        "    cleaned_timeslots = [0] * 170\n",
        "    for timeslot in member:\n",
        "        cleaned_timeslots[timeslot - 1] = 1\n",
        "    cleaned_member_availability.append(cleaned_timeslots)"
      ]
    },
    {
      "cell_type": "markdown",
      "metadata": {
        "id": "XPDmXSbd7yXx"
      },
      "source": [
        "## Optimization Model"
      ]
    },
    {
      "cell_type": "code",
      "execution_count": 24,
      "metadata": {
        "colab": {
          "base_uri": "https://localhost:8080/"
        },
        "id": "4fPDyvmig1PH",
        "outputId": "4744fbb1-d871-4564-b779-a74ee58b787f"
      },
      "outputs": [
        {
          "name": "stdout",
          "output_type": "stream",
          "text": [
            "Set parameter WLSAccessID\n",
            "Set parameter WLSSecret\n",
            "Set parameter LicenseID to value 868440\n",
            "Academic license 868440 - for non-commercial use only - registered to es___@uwaterloo.ca\n",
            "Set parameter Seed to value 435\n"
          ]
        }
      ],
      "source": [
        "# Setup Gurobi key\n",
        "# Create environment with WLS license\n",
        "e = gp.Env(empty=True)\n",
        "e.setParam('WLSACCESSID', '453f2da9-b8f2-448f-9f06-48081a9c3dc9')\n",
        "e.setParam('WLSSECRET', 'd5675c81-7058-45f9-b6f2-30ca3855ed22')\n",
        "e.setParam('LICENSEID', 868440)\n",
        "e.start()\n",
        "\n",
        "# Create the model within the Gurobi environment. This environment will be passed in as a parameter into all subsequent models\n",
        "model = gp.Model(env=e)\n",
        "model.setParam('Seed', 435)"
      ]
    },
    {
      "cell_type": "code",
      "execution_count": 25,
      "metadata": {
        "id": "Ytmz6IwTXDTr"
      },
      "outputs": [],
      "source": [
        "# Sets\n",
        "G = range(1, 2 + 1)\n",
        "C = range(1, 10 + 1)\n",
        "M = range(1, 30 + 1)\n",
        "T = range(1, 170 + 1)"
      ]
    },
    {
      "cell_type": "code",
      "execution_count": 26,
      "metadata": {
        "id": "zV_lSO51a7nW"
      },
      "outputs": [],
      "source": [
        "# Parameters\n",
        "b = cleaned_chair_availability\n",
        "a = cleaned_member_availability\n",
        "NC = 5\n",
        "NM = 15\n",
        "R = 5"
      ]
    },
    {
      "cell_type": "code",
      "execution_count": 27,
      "metadata": {
        "id": "IeqEV5qrnB91"
      },
      "outputs": [],
      "source": [
        "# Decision Varbiables\n",
        "x = model.addVars(C, G, vtype=GRB.BINARY, name=\"x\")\n",
        "y = model.addVars(M, G, vtype=GRB.BINARY, name=\"y\")"
      ]
    },
    {
      "cell_type": "code",
      "execution_count": 28,
      "metadata": {
        "id": "hLBoOX3RnUi1"
      },
      "outputs": [],
      "source": [
        "# Objective Value\n",
        "model.setObjective(sum((sum(b[c-1][t-1] * x[c, g] for c in C) + sum(a[m-1][t-1] * y[m, g] for m in M)) for t in T for g in G), sense=GRB.MINIMIZE)"
      ]
    },
    {
      "cell_type": "code",
      "execution_count": 29,
      "metadata": {
        "id": "HurC0aJzn3KJ"
      },
      "outputs": [
        {
          "data": {
            "text/plain": [
              "{1: <gurobi.Constr *Awaiting Model Update*>,\n",
              " 2: <gurobi.Constr *Awaiting Model Update*>}"
            ]
          },
          "execution_count": 29,
          "metadata": {},
          "output_type": "execute_result"
        }
      ],
      "source": [
        "# Constraints\n",
        "model.addConstrs(sum(x[c, g] for g in G) == 1 for c in C)\n",
        "model.addConstrs(sum(y[m, g] for g in G) == 1 for m in M)\n",
        "model.addConstrs(sum(x[c, g] for c in C) == NC for g in G)\n",
        "model.addConstrs(sum(y[m, g] for m in M) == NM for g in G)\n",
        "# model.addConstrs(R * sum(x[c, g] for c in C) == sum(y[m, g] for m in M) for g in G)"
      ]
    },
    {
      "cell_type": "code",
      "execution_count": 30,
      "metadata": {
        "colab": {
          "base_uri": "https://localhost:8080/"
        },
        "id": "ZQzVKDAasC0l",
        "outputId": "325a488e-ab46-4ebb-f472-497b62d63eae"
      },
      "outputs": [
        {
          "name": "stdout",
          "output_type": "stream",
          "text": [
            "Gurobi Optimizer version 11.0.1 build v11.0.1rc0 (mac64[arm] - Darwin 23.4.0 23E224)\n",
            "\n",
            "CPU model: Apple M2\n",
            "Thread count: 8 physical cores, 8 logical processors, using up to 8 threads\n",
            "\n",
            "Academic license 868440 - for non-commercial use only - registered to es___@uwaterloo.ca\n",
            "Optimize a model with 44 rows, 80 columns and 160 nonzeros\n",
            "Model fingerprint: 0xc0b88719\n",
            "Variable types: 0 continuous, 80 integer (80 binary)\n",
            "Coefficient statistics:\n",
            "  Matrix range     [1e+00, 1e+00]\n",
            "  Objective range  [2e+01, 3e+01]\n",
            "  Bounds range     [1e+00, 1e+00]\n",
            "  RHS range        [1e+00, 2e+01]\n",
            "Found heuristic solution: objective 1183.0000000\n",
            "Presolve removed 44 rows and 80 columns\n",
            "Presolve time: 0.01s\n",
            "Presolve: All rows and columns removed\n",
            "\n",
            "Explored 0 nodes (0 simplex iterations) in 0.04 seconds (0.00 work units)\n",
            "Thread count was 1 (of 8 available processors)\n",
            "\n",
            "Solution count 1: 1183 \n",
            "\n",
            "Optimal solution found (tolerance 1.00e-04)\n",
            "Best objective 1.183000000000e+03, best bound 1.183000000000e+03, gap 0.0000%\n"
          ]
        }
      ],
      "source": [
        "model.optimize()"
      ]
    },
    {
      "cell_type": "code",
      "execution_count": 31,
      "metadata": {
        "colab": {
          "base_uri": "https://localhost:8080/"
        },
        "id": "46mc9EmDsMA4",
        "outputId": "35b24764-6347-4c47-ca9c-8050fe1a01be"
      },
      "outputs": [
        {
          "name": "stdout",
          "output_type": "stream",
          "text": [
            "Group 1:\n",
            "\tChairs: [2, 7, 8, 9, 10]\n",
            "\tMembers: [6, 7, 8, 9, 10, 21, 22, 23, 24, 25, 26, 27, 28, 29, 30]\n",
            "Group 2:\n",
            "\tChairs: [1, 3, 4, 5, 6]\n",
            "\tMembers: [1, 2, 3, 4, 5, 11, 12, 13, 14, 15, 16, 17, 18, 19, 20]\n"
          ]
        }
      ],
      "source": [
        "for g in G:\n",
        "  print(f\"Group {g}:\")\n",
        "  chairs = [c for c in C if x[c, g].X == 1]\n",
        "  members = [m for m in M if y[m, g].X == 1]\n",
        "  print(f\"\\tChairs: {chairs}\")\n",
        "  print(f\"\\tMembers: {members}\")"
      ]
    }
  ],
  "metadata": {
    "colab": {
      "provenance": []
    },
    "kernelspec": {
      "display_name": "Python 3",
      "name": "python3"
    },
    "language_info": {
      "codemirror_mode": {
        "name": "ipython",
        "version": 3
      },
      "file_extension": ".py",
      "mimetype": "text/x-python",
      "name": "python",
      "nbconvert_exporter": "python",
      "pygments_lexer": "ipython3",
      "version": "3.12.0"
    }
  },
  "nbformat": 4,
  "nbformat_minor": 0
}
