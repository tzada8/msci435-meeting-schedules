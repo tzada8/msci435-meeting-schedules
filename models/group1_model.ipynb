{
  "cells": [
    {
      "cell_type": "markdown",
      "metadata": {
        "id": "jbfGPRhx77mu"
      },
      "source": [
        "# Column Generation"
      ]
    },
    {
      "cell_type": "code",
      "execution_count": 5,
      "metadata": {
        "id": "TMRFlku97uyy"
      },
      "outputs": [],
      "source": [
        "import itertools\n",
        "import pandas as pd"
      ]
    },
    {
      "cell_type": "code",
      "execution_count": 6,
      "metadata": {
        "id": "qF0gXuPUo_C8"
      },
      "outputs": [],
      "source": [
        "# Each row is a person's unavailability in EST time: [personal commitments, morning break, afternoon break, lunch break]\n",
        "chairs_est_unavailability = [\n",
        "    [\"M/W 13:00 to 15:00\", \"M/T/W/Th/F 12:20 to 12:40\", \"M/T/W/Th/F 17:20 to 17:40\", \"M/T/W/Th/F 15:20 to 16:00\"],\n",
        "    [\"T/Th 16:00 to 18:00\", \"M/T/W/Th/F 11:20 to 11:40\", \"M/T/W/Th/F 16:20 to 16:40\", \"M/T/W/Th/F 14:20 to 15:00\"],\n",
        "    [\"M/W 13:00 to 15:00\", \"M/T/W/Th/F 9:20 to 9:40\", \"M/T/W/Th/F 14:20 to 14:40\", \"M/T/W/Th/F 12:20 to 13:00\"],\n",
        "    [\"T/F 9:00 to 11:00\", \"M/T/W/Th/F 9:20 to 9:40\", \"M/T/W/Th/F 14:20 to 14:40\", \"M/T/W/Th/F 12:20 to 13:00\"],\n",
        "    [\"Th 11:00 to 15:00\", \"M/T/W/Th/F 12:20 to 12:40\", \"M/T/W/Th/F 17:20 to 17:40\", \"M/T/W/Th/F 15:20 to 16:00\"],\n",
        "    [\"W/F 10:00 to 12:00\", \"M/T/W/Th/F 9:20 to 9:40\", \"M/T/W/Th/F 14:20 to 14:40\", \"M/T/W/Th/F 12:20 to 13:00\"],\n",
        "    [\"T/Th 16:00 to 18:00\", \"M/T/W/Th/F 12:20 to 12:40\", \"M/T/W/Th/F 17:20 to 17:40\", \"M/T/W/Th/F 15:20 to 16:00\"],\n",
        "    [\"Th 8:00 to 12:00\", \"M/T/W/Th/F 9:20 to 9:40\", \"M/T/W/Th/F 14:20 to 14:40\", \"M/T/W/Th/F 12:20 to 13:00\"],\n",
        "    [\"T/F 10:00 to 12:00\", \"M/T/W/Th/F 9:20 to 9:40\", \"M/T/W/Th/F 14:20 to 14:40\", \"M/T/W/Th/F 12:20 to 13:00\"],\n",
        "    [\"M/F 11:00 to 14:00\", \"M/T/W/Th/F 9:20 to 9:40\", \"M/T/W/Th/F 14:20 to 14:40\", \"M/T/W/Th/F 12:20 to 13:00\"]\n",
        "]\n",
        "members_est_unavailability = [\n",
        "    [\"T/Th 14:00 to 16:00\", \"M/T/W/Th/F 9:20 to 9:40\", \"M/T/W/Th/F 14:20 to 14:40\", \"M/T/W/Th/F 12:20 to 13:00\"],\n",
        "    [\"M/W 13:00 to 15:00\", \"M/T/W/Th/F 9:20 to 9:40\", \"M/T/W/Th/F 14:20 to 14:40\", \"M/T/W/Th/F 12:20 to 13:00\"],\n",
        "    [\"T/F 9:00 to 11:00\", \"M/T/W/Th/F 9:20 to 9:40\", \"M/T/W/Th/F 14:20 to 14:40\", \"M/T/W/Th/F 12:20 to 13:00\"],\n",
        "    [\"M/Th 11:00 to 13:00\", \"M/T/W/Th/F 9:20 to 9:40\", \"M/T/W/Th/F 14:20 to 14:40\", \"M/T/W/Th/F 12:20 to 13:00\"],\n",
        "    [\"M/F 14:00 to 16:00\", \"M/T/W/Th/F 9:20 to 9:40\", \"M/T/W/Th/F 14:20 to 14:40\", \"M/T/W/Th/F 12:20 to 13:00\"],\n",
        "    [\"M/F 17:00 to 19:00\", \"M/T/W/Th/F 11:20 to 11:40\", \"M/T/W/Th/F 16:20 to 16:40\", \"M/T/W/Th/F 14:20 to 15:00\"],\n",
        "    [\"M 12:00 to 14:00\", \"M/T/W/Th/F 8:20 to 8:40\", \"M/T/W/Th/F 13:20 to 13:40\", \"M/T/W/Th/F 11:20 to 12:00\"],\n",
        "    [\"M/W 11:00 to 13:00\", \"M/T/W/Th/F 10:20 to 10:40\", \"M/T/W/Th/F 15:20 to 15:40\", \"M/T/W/Th/F 13:20 to 14:00\"],\n",
        "    [\"Th 8:00 to 12:00\", \"M/T/W/Th/F 9:20 to 9:40\", \"M/T/W/Th/F 14:20 to 14:40\", \"M/T/W/Th/F 12:20 to 13:00\"],\n",
        "    [\"F 11:00 to 13:00\", \"M/T/W/Th/F 9:20 to 9:40\", \"M/T/W/Th/F 14:20 to 14:40\", \"M/T/W/Th/F 12:20 to 13:00\"],\n",
        "    [\"M/Th 10:00 to 12:00\", \"M/T/W/Th/F 8:20 to 8:40\", \"M/T/W/Th/F 13:20 to 13:40\", \"M/T/W/Th/F 11:20 to 12:00\"],\n",
        "    [\"M/F 14:00 to 16:00\", \"M/T/W/Th/F 9:20 to 9:40\", \"M/T/W/Th/F 14:20 to 14:40\", \"M/T/W/Th/F 12:20 to 13:00\"],\n",
        "    [\"M/F 15:00 to 17:00\", \"M/T/W/Th/F 9:20 to 9:40\", \"M/T/W/Th/F 14:20 to 14:40\", \"M/T/W/Th/F 12:20 to 13:00\"],\n",
        "    [\"W 12:00 to 17:00\", \"M/T/W/Th/F 9:20 to 9:40\", \"M/T/W/Th/F 14:20 to 14:40\", \"M/T/W/Th/F 12:20 to 13:00\"],\n",
        "    [\"W/F 10:00 to 12:00\", \"M/T/W/Th/F 9:20 to 9:40\", \"M/T/W/Th/F 14:20 to 14:40\", \"M/T/W/Th/F 12:20 to 13:00\"],\n",
        "    [\"T/Th 13:00 to 15:00\", \"M/T/W/Th/F 9:20 to 9:40\", \"M/T/W/Th/F 14:20 to 14:40\", \"M/T/W/Th/F 12:20 to 13:00\"],\n",
        "    [\"M/W 10:00 to 12:00\", \"M/T/W/Th/F 9:20 to 9:40\", \"M/T/W/Th/F 14:20 to 14:40\", \"M/T/W/Th/F 12:20 to 13:00\"],\n",
        "    [\"T/F 10:00 to 12:00\", \"M/T/W/Th/F 9:20 to 9:40\", \"M/T/W/Th/F 14:20 to 14:40\", \"M/T/W/Th/F 12:20 to 13:00\"],\n",
        "    [\"Th 10:00 to 15:00\", \"M/T/W/Th/F 9:20 to 9:40\", \"M/T/W/Th/F 14:20 to 14:40\", \"M/T/W/Th/F 12:20 to 13:00\"],\n",
        "    [\"T/Th 15:00 to 17:00\", \"M/T/W/Th/F 9:20 to 9:40\", \"M/T/W/Th/F 14:20 to 14:40\", \"M/T/W/Th/F 12:20 to 13:00\"],\n",
        "    [\"M/T 8:00 to 10:00\", \"M/T/W/Th/F 4:20 to 4:40\", \"M/T/W/Th/F 9:20 to 9:40\", \"M/T/W/Th/F 7:20 to 8:00\"],\n",
        "    [\"Th 11:00 to 15:00\", \"M/T/W/Th/F 12:20 to 12:40\", \"M/T/W/Th/F 17:20 to 17:40\", \"M/T/W/Th/F 15:20 to 16:00\"],\n",
        "    [\"M/T 12:00 to 14:00\", \"M/T/W/Th/F 11:20 to 11:40\", \"M/T/W/Th/F 16:20 to 16:40\", \"M/T/W/Th/F 14:20 to 15:00\"],\n",
        "    [\"T/W 17:00 to 19:00\", \"M/T/W/Th/F 11:20 to 11:40\", \"M/T/W/Th/F 16:20 to 16:40\", \"M/T/W/Th/F 14:20 to 15:00\"],\n",
        "    [\"T/W 15:00 to 17:00\", \"M/T/W/Th/F 9:20 to 9:40\", \"M/T/W/Th/F 14:20 to 14:40\", \"M/T/W/Th/F 12:20 to 13:00\"],\n",
        "    [\"M/W 12:00 to 14:00\", \"M/T/W/Th/F 11:20 to 11:40\", \"M/T/W/Th/F 16:20 to 16:40\", \"M/T/W/Th/F 14:20 to 15:00\"],\n",
        "    [\"M/F 11:00 to 14:00\", \"M/T/W/Th/F 9:20 to 9:40\", \"M/T/W/Th/F 14:20 to 14:40\", \"M/T/W/Th/F 12:20 to 13:00\"],\n",
        "    [\"T/Th 6:00 to 8:00\", \"M/T/W/Th/F 2:20 to 2:40\", \"M/T/W/Th/F 7:20 to 7:40\", \"M/T/W/Th/F 5:20 to 6:00\"],\n",
        "    [\"F 13:00 to 17:00\", \"M/T/W/Th/F 10:20 to 10:40\", \"M/T/W/Th/F 15:20 to 15:40\", \"M/T/W/Th/F 13:20 to 14:00\"],\n",
        "    [\"T/Th 8:00 to 10:00\", \"M/T/W/Th/F 9:20 to 9:40\", \"M/T/W/Th/F 14:20 to 14:40\", \"M/T/W/Th/F 12:20 to 13:00\"],\n",
        "]\n",
        "\n",
        "group1_est_unavailability = [*[members_est_unavailability[i-1] for i in [1,5,7,2,3]],*[members_est_unavailability[i-1] for i in [22,6,24,26,23,8,29,1,2,3,4,5,9,10,12]]]\n",
        "group2_est_unavailability = [*[members_est_unavailability[i-1] for i in [4,6,8,9,10]],*[members_est_unavailability[i-1] for i in [13,14,15,16,17,18,19,20,25,27,30,7,11,21,28]]]"
      ]
    },
    {
      "cell_type": "code",
      "execution_count": 7,
      "metadata": {
        "id": "S46BG7za7-f2"
      },
      "outputs": [],
      "source": [
        "# Monday    =   1 -  34\n",
        "# Tuesday   =  35 -  68\n",
        "# Wednesday =  69 - 102\n",
        "# Thursday  = 103 - 136\n",
        "# Friday    = 137 - 170\n",
        "days_slot_start = {\n",
        "    \"M\": 0,\n",
        "    \"T\": 34,\n",
        "    \"W\": 68,\n",
        "    \"Th\": 102,\n",
        "    \"F\": 136,\n",
        "}\n",
        "\n",
        "def calculate_unavailability(unavailable_times):\n",
        "  overall_busy = []\n",
        "  for busy_person in unavailable_times:\n",
        "    person_busyness = []\n",
        "    for busy_time in busy_person:\n",
        "      days_and_time = busy_time.split(\" \")\n",
        "      days = days_and_time[0].split(\"/\")\n",
        "      start_time = days_and_time[1].split(\":\")\n",
        "      end_time = days_and_time[3].split(\":\")\n",
        "      start_minutes = int(start_time[0]) * 60 + int(start_time[1])\n",
        "      end_minutes = int(end_time[0]) * 60 + int(end_time[1])\n",
        "\n",
        "      # 8am to 7:20pm in minutes\n",
        "      day_start = 8 * 60\n",
        "      day_end = 19 * 60 + 20\n",
        "\n",
        "      # Ensure times are within the available day\n",
        "      start_minutes = max(start_minutes, day_start)\n",
        "      end_minutes = min(end_minutes, day_end)\n",
        "\n",
        "      # Calculate unavailability\n",
        "      slots = []\n",
        "      for slot_num in range(1, 35):\n",
        "        slot_start = (slot_num - 1) * 20 + day_start\n",
        "        slot_end = slot_num * 20 + day_start\n",
        "\n",
        "        if slot_start >= end_minutes:\n",
        "          break\n",
        "        if slot_end <= start_minutes:\n",
        "          continue\n",
        "        slot_start = max(slot_start, start_minutes)\n",
        "        slot_end = min(slot_end, end_minutes)\n",
        "\n",
        "        # Add unavailability for all days\n",
        "        for d in days:\n",
        "          slot_i = days_slot_start[d]\n",
        "          slots.append((slot_num + slot_i))\n",
        "      person_busyness.append(slots)\n",
        "\n",
        "    flattened_unavailability = [timeslot for sublist in person_busyness for timeslot in sublist]\n",
        "    overall_busy.append(list(set(flattened_unavailability)))\n",
        "  return overall_busy\n",
        "\n",
        "group1_person_unavailability = calculate_unavailability(group1_est_unavailability)\n",
        "group2_person_unavailability = calculate_unavailability(group2_est_unavailability)"
      ]
    },
    {
      "cell_type": "code",
      "execution_count": 8,
      "metadata": {
        "colab": {
          "base_uri": "https://localhost:8080/"
        },
        "id": "GQxaVT2b8I6m",
        "outputId": "cfdefd5a-5b3f-4f3a-8cf4-f848235c3ac6"
      },
      "outputs": [
        {
          "name": "stdout",
          "output_type": "stream",
          "text": [
            "{1: [], 2: [2], 3: [], 4: [], 5: [0, 1, 3, 4, 12, 13, 14, 15, 16, 17, 18, 19], 6: [], 7: [], 8: [10, 11], 9: [], 10: [10, 15], 11: [2, 6, 7, 8, 9, 10, 15], 12: [2, 10, 15], 13: [2, 8, 9, 10, 15], 14: [0, 1, 2, 3, 4, 5, 8, 9, 10, 12, 13, 14, 15, 16, 17, 18, 19], 15: [0, 1, 2, 3, 4, 8, 9, 10, 12, 13, 14, 15, 16, 17, 18, 19], 16: [2, 3, 8, 9, 13], 17: [2, 3, 8, 9, 10, 11, 13], 18: [2, 3, 8, 9, 10, 11, 13], 19: [1, 3, 13, 16, 19], 20: [0, 1, 3, 4, 6, 7, 8, 9, 12, 13, 14, 15, 16, 17, 18, 19], 21: [1, 3, 6, 7, 8, 9, 13, 16, 19], 22: [1, 16, 19], 23: [1, 5, 10, 11, 16, 19], 24: [1, 5, 16, 19], 25: [], 26: [6, 7, 8, 9], 27: [], 28: [6], 29: [5, 6], 30: [6], 31: [6], 32: [6], 33: [6], 34: [], 35: [], 36: [2], 37: [], 38: [4, 14], 39: [0, 1, 3, 4, 12, 13, 14, 15, 16, 17, 18, 19], 40: [4, 14], 41: [4, 14], 42: [4, 10, 11, 14], 43: [4, 14], 44: [], 45: [2, 6, 7, 8, 9], 46: [2], 47: [9], 48: [0, 1, 3, 4, 5, 9, 12, 13, 14, 15, 16, 17, 18, 19], 49: [0, 1, 3, 4, 9, 12, 13, 14, 15, 16, 17, 18, 19], 50: [9], 51: [2, 9, 10, 11], 52: [9, 10, 11], 53: [0, 12], 54: [0, 1, 3, 4, 6, 7, 8, 9, 12, 13, 14, 15, 16, 17, 18, 19], 55: [0, 6, 7, 8, 9, 12], 56: [0, 12], 57: [0, 5, 10, 11, 12], 58: [0, 5, 12], 59: [], 60: [6, 7, 8, 9], 61: [], 62: [7], 63: [5, 7], 64: [7], 65: [7], 66: [7], 67: [7], 68: [], 69: [], 70: [2], 71: [], 72: [], 73: [0, 1, 3, 4, 12, 13, 14, 15, 16, 17, 18, 19], 74: [], 75: [], 76: [10, 11], 77: [], 78: [10], 79: [2, 6, 7, 8, 9, 10], 80: [2, 10], 81: [8, 10], 82: [0, 1, 3, 4, 5, 8, 10, 12, 13, 14, 15, 16, 17, 18, 19], 83: [0, 1, 3, 4, 8, 10, 12, 13, 14, 15, 16, 17, 18, 19], 84: [3, 8, 13], 85: [2, 3, 8, 10, 11, 13], 86: [3, 8, 10, 11, 13], 87: [3, 13], 88: [0, 1, 3, 4, 6, 7, 8, 9, 12, 13, 14, 15, 16, 17, 18, 19], 89: [3, 6, 7, 8, 9, 13], 90: [], 91: [5, 10, 11], 92: [5], 93: [], 94: [6, 7, 8, 9], 95: [], 96: [7], 97: [5, 7], 98: [7], 99: [7], 100: [7], 101: [7], 102: [], 103: [17], 104: [2, 17], 105: [17], 106: [17], 107: [0, 1, 3, 4, 12, 13, 14, 15, 16, 17, 18, 19], 108: [17], 109: [17], 110: [10, 11, 17], 111: [17], 112: [5, 15, 17], 113: [2, 5, 6, 7, 8, 9, 15, 17], 114: [2, 5, 15, 17], 115: [5, 15], 116: [0, 1, 3, 4, 5, 12, 13, 14, 15, 16, 17, 18, 19], 117: [0, 1, 3, 4, 5, 12, 13, 14, 15, 16, 17, 18, 19], 118: [5], 119: [2, 5, 10, 11], 120: [5, 10, 11], 121: [0, 5, 12], 122: [0, 1, 3, 4, 5, 6, 7, 8, 9, 12, 13, 14, 15, 16, 17, 18, 19], 123: [0, 5, 6, 7, 8, 9, 12], 124: [0, 12], 125: [0, 5, 10, 11, 12], 126: [0, 5, 12], 127: [], 128: [6, 7, 8, 9], 129: [], 130: [], 131: [5], 132: [], 133: [], 134: [], 135: [], 136: [], 137: [], 138: [2], 139: [], 140: [4, 14], 141: [0, 1, 3, 4, 12, 13, 14, 15, 16, 17, 18, 19], 142: [4, 14], 143: [4, 14], 144: [4, 10, 11, 14], 145: [4, 14], 146: [18], 147: [2, 6, 7, 8, 9, 18], 148: [2, 18], 149: [18], 150: [0, 1, 3, 4, 5, 12, 13, 14, 15, 16, 17, 18, 19], 151: [0, 1, 3, 4, 12, 13, 14, 15, 16, 17, 18, 19], 152: [11], 153: [2, 10, 11], 154: [10, 11], 155: [1, 11, 16, 19], 156: [0, 1, 3, 4, 6, 7, 8, 9, 11, 12, 13, 14, 15, 16, 17, 18, 19], 157: [1, 6, 7, 8, 9, 11, 16, 19], 158: [1, 11, 16, 19], 159: [1, 5, 10, 11, 16, 19], 160: [1, 5, 11, 16, 19], 161: [11], 162: [6, 7, 8, 9, 11], 163: [11], 164: [6], 165: [5, 6], 166: [6], 167: [6], 168: [6], 169: [6], 170: []}\n",
            "{1: [18], 2: [16, 17, 18], 3: [18], 4: [18], 5: [0, 3, 4, 5, 6, 7, 8, 9, 10, 11, 12, 13, 14, 15, 18], 6: [18], 7: [9, 17], 8: [2, 9, 17], 9: [9, 17], 10: [0, 2, 9, 14, 17], 11: [0, 1, 2, 9, 14, 16, 17], 12: [0, 2, 9, 14, 16, 17], 13: [0, 2, 14, 16], 14: [0, 2, 3, 4, 5, 6, 7, 8, 9, 10, 11, 12, 13, 14, 15, 16], 15: [0, 2, 3, 4, 5, 6, 7, 8, 9, 10, 11, 12, 13, 14, 15, 16], 16: [14, 16], 17: [2, 14, 16, 17], 18: [2, 14, 16], 19: [], 20: [0, 1, 3, 4, 5, 6, 7, 8, 9, 10, 11, 12, 13, 14, 15], 21: [1], 22: [5], 23: [2, 5], 24: [5], 25: [5], 26: [1, 5], 27: [5], 28: [1], 29: [1], 30: [1], 31: [1], 32: [1], 33: [1], 34: [], 35: [15, 18], 36: [15, 16, 17, 18], 37: [15, 18], 38: [15, 18], 39: [0, 3, 4, 5, 6, 7, 8, 9, 10, 11, 12, 13, 14, 15, 18], 40: [15, 18], 41: [10], 42: [2, 10], 43: [10], 44: [10], 45: [1, 10, 16, 17], 46: [10, 16, 17], 47: [], 48: [0, 3, 4, 5, 6, 7, 8, 9, 10, 11, 12, 13, 14, 15], 49: [0, 3, 4, 5, 6, 7, 8, 9, 10, 11, 12, 13, 14, 15], 50: [8], 51: [2, 8, 16, 17], 52: [2, 8], 53: [8], 54: [0, 1, 3, 4, 5, 6, 7, 8, 9, 10, 11, 12, 13, 14, 15], 55: [1, 8], 56: [12, 13], 57: [2, 12, 13], 58: [12, 13], 59: [12, 13], 60: [1, 12, 13], 61: [12, 13], 62: [], 63: [], 64: [], 65: [], 66: [], 67: [], 68: [], 69: [], 70: [16, 17], 71: [], 72: [], 73: [0, 3, 4, 5, 6, 7, 8, 9, 10, 11, 12, 13, 14, 15, 18], 74: [], 75: [7, 9], 76: [2, 7, 9], 77: [7, 9], 78: [2, 7, 9], 79: [1, 2, 7, 9, 16, 17], 80: [2, 7, 9, 16, 17], 81: [2, 6], 82: [0, 2, 3, 4, 5, 6, 7, 8, 9, 10, 11, 12, 13, 14, 15], 83: [0, 2, 3, 4, 5, 6, 7, 8, 9, 10, 11, 12, 13, 14, 15], 84: [6], 85: [2, 6, 16, 17], 86: [2, 6], 87: [6], 88: [0, 1, 3, 4, 5, 6, 7, 8, 9, 10, 11, 12, 13, 14, 15], 89: [1, 6], 90: [6, 13], 91: [2, 6, 13], 92: [6, 13], 93: [6, 13], 94: [1, 6, 13], 95: [6, 13], 96: [], 97: [], 98: [], 99: [], 100: [], 101: [], 102: [], 103: [3, 15], 104: [3, 15, 16, 17], 105: [3, 15], 106: [3, 15], 107: [0, 3, 4, 5, 6, 7, 8, 9, 10, 11, 12, 13, 14, 15, 18], 108: [3, 15], 109: [3, 11, 17], 110: [2, 3, 11, 17], 111: [3, 11, 17], 112: [0, 3, 11, 17], 113: [0, 1, 3, 11, 16, 17], 114: [0, 3, 11, 16, 17], 115: [0, 11], 116: [0, 3, 4, 5, 6, 7, 8, 9, 10, 11, 12, 13, 14, 15], 117: [0, 3, 4, 5, 6, 7, 8, 9, 10, 11, 12, 13, 14, 15], 118: [8, 11], 119: [2, 8, 11, 16, 17], 120: [2, 8, 11], 121: [8, 11], 122: [0, 1, 3, 4, 5, 6, 7, 8, 9, 10, 11, 12, 13, 14, 15], 123: [1, 8, 11], 124: [12], 125: [2, 12], 126: [12], 127: [12], 128: [1, 12], 129: [12], 130: [], 131: [], 132: [], 133: [], 134: [], 135: [], 136: [], 137: [], 138: [16, 17], 139: [], 140: [], 141: [0, 3, 4, 5, 6, 7, 8, 9, 10, 11, 12, 13, 14, 15, 18], 142: [], 143: [7, 10], 144: [2, 7, 10], 145: [7, 10], 146: [4, 7, 10, 14], 147: [1, 4, 7, 10, 14, 16, 17], 148: [4, 7, 10, 14, 16, 17], 149: [4, 14], 150: [0, 3, 4, 5, 6, 7, 8, 9, 10, 11, 12, 13, 14, 15], 151: [0, 3, 4, 5, 6, 7, 8, 9, 10, 11, 12, 13, 14, 15], 152: [14], 153: [2, 14, 16, 17], 154: [2, 14], 155: [], 156: [0, 1, 3, 4, 5, 6, 7, 8, 9, 10, 11, 12, 13, 14, 15], 157: [1], 158: [5], 159: [2, 5], 160: [5], 161: [5], 162: [1, 5], 163: [5], 164: [1], 165: [1], 166: [1], 167: [1], 168: [1], 169: [1], 170: []}\n"
          ]
        }
      ],
      "source": [
        "# Maps which members are unavailable for each timeslot\n",
        "group1_unavailability_mapping = {key: [] for key in range(1, 171)}\n",
        "for i, person_times in enumerate(group1_person_unavailability):\n",
        "  for timeslot in person_times:\n",
        "    group1_unavailability_mapping[timeslot].append(i)\n",
        "\n",
        "print(group1_unavailability_mapping)\n",
        "\n",
        "group2_unavailability_mapping = {key: [] for key in range(1, 171)}\n",
        "for i, person_times in enumerate(group2_person_unavailability):\n",
        "  for timeslot in person_times:\n",
        "    group2_unavailability_mapping[timeslot].append(i)\n",
        "\n",
        "print(group2_unavailability_mapping)"
      ]
    },
    {
      "cell_type": "code",
      "execution_count": 9,
      "metadata": {
        "colab": {
          "base_uri": "https://localhost:8080/"
        },
        "id": "jRTyGFk-66VR",
        "outputId": "f14e06a0-3b92-4b0f-ed0f-24cb23aa3c0d"
      },
      "outputs": [
        {
          "name": "stdout",
          "output_type": "stream",
          "text": [
            "Total possible combinations: 1048576\n",
            "Total feasible combinations: 45046\n"
          ]
        }
      ],
      "source": [
        "num_people = 20\n",
        "combinations = list(itertools.product([0, 1], repeat=num_people))\n",
        "\n",
        "# Infeasible columns criteria\n",
        "max_people_in_meetings = 12\n",
        "total_sums_allowed = [0,6, 12]\n",
        "members_i_start = 5  # Corresponds to member 1 in list (6th element).\n",
        "member_to_chair_ratio = 5  # 5 members per 1 chair.\n",
        "\n",
        "# Filters Applied:\n",
        "#   1. At most 12 people can be in meetings at a time for each subgroup.\n",
        "#   2. Each room requires 6 attendees.\n",
        "#   3. A 1:5 ratio between chairs and members must be respected.\n",
        "generic_feasible_combinations = [\n",
        "    combo for combo in combinations\n",
        "    if sum(combo) in total_sums_allowed and sum(combo) <= max_people_in_meetings\n",
        "    and sum(combo[:members_i_start]) * member_to_chair_ratio == sum(combo[members_i_start:])\n",
        "]\n",
        "\n",
        "print(\"Total possible combinations:\", len(combinations))\n",
        "print(\"Total feasible combinations:\", len(generic_feasible_combinations))"
      ]
    },
    {
      "cell_type": "code",
      "execution_count": 10,
      "metadata": {
        "colab": {
          "base_uri": "https://localhost:8080/"
        },
        "id": "mBEqGgmp8MKX",
        "outputId": "8664642e-e018-4c4b-d6f8-03802540097e"
      },
      "outputs": [
        {
          "name": "stdout",
          "output_type": "stream",
          "text": [
            "Possible Number of Combinations for Group 1 Timeslots: [45046, 30031, 45046, 45046, 22, 45046, 45046, 9296, 45046, 9296, 505, 6865, 1915, 1, 1, 2575, 760, 760, 2575, 1, 169, 6865, 1015, 3565, 45046, 2421, 45046, 20021, 9296, 20021, 20021, 20021, 20021, 45046, 45046, 30031, 45046, 14015, 22, 14015, 14015, 3565, 14015, 45046, 1915, 30031, 20021, 2, 7, 20021, 3565, 4621, 14015, 1, 1015, 14015, 1915, 6865, 45046, 2421, 45046, 20021, 9296, 20021, 20021, 20021, 20021, 45046, 45046, 30031, 45046, 45046, 22, 45046, 45046, 9296, 45046, 20021, 1015, 14015, 9296, 1, 2, 6865, 1420, 1915, 14015, 1, 1015, 45046, 4621, 20021, 45046, 2421, 45046, 20021, 9296, 20021, 20021, 20021, 20021, 45046, 20021, 14015, 20021, 20021, 22, 20021, 20021, 4621, 20021, 4621, 225, 3565, 9296, 7, 7, 20021, 3565, 4621, 6865, 1, 505, 14015, 1915, 6865, 45046, 2421, 45046, 45046, 20021, 45046, 45046, 45046, 45046, 45046, 45046, 30031, 45046, 14015, 22, 14015, 14015, 3565, 14015, 20021, 1015, 14015, 20021, 7, 22, 20021, 6865, 9296, 3565, 1, 225, 3565, 1015, 1915, 20021, 1271, 20021, 20021, 9296, 20021, 20021, 20021, 20021, 45046]\n",
            "Possible Number of Combinations for Group 2 Timeslots: [20021, 4621, 20021, 20021, 1, 20021, 9296, 6865, 9296, 2575, 936, 1420, 4720, 1, 1, 9296, 3565, 6865, 45046, 1, 30031, 20021, 14015, 20021, 20021, 14015, 20021, 30031, 30031, 30031, 30031, 30031, 30031, 45046, 9296, 2421, 9296, 9296, 1, 9296, 20021, 14015, 20021, 20021, 3565, 4621, 45046, 1, 1, 20021, 3565, 14015, 20021, 1, 14015, 9296, 6865, 9296, 9296, 6865, 9296, 45046, 45046, 45046, 45046, 45046, 45046, 45046, 45046, 9296, 45046, 45046, 1, 45046, 9296, 6865, 9296, 6865, 1420, 1915, 14015, 1, 1, 20021, 3565, 14015, 20021, 1, 14015, 9296, 6865, 9296, 9296, 6865, 9296, 45046, 45046, 45046, 45046, 45046, 45046, 45046, 14015, 3565, 14015, 14015, 1, 14015, 6865, 4720, 6865, 4720, 1651, 2575, 14015, 1, 1, 9296, 1915, 6865, 9296, 1, 6865, 20021, 14015, 20021, 20021, 14015, 20021, 45046, 45046, 45046, 45046, 45046, 45046, 45046, 45046, 9296, 45046, 45046, 1, 45046, 9296, 6865, 9296, 3565, 760, 1015, 14015, 1, 1, 20021, 3565, 14015, 45046, 1, 30031, 20021, 14015, 20021, 20021, 14015, 20021, 30031, 30031, 30031, 30031, 30031, 30031, 45046]\n"
          ]
        }
      ],
      "source": [
        "# Filter applied ensures unavailable individuals are not assigned meetings.\n",
        "group1_feasible_combinations = [\n",
        "    [\n",
        "        combo for combo in generic_feasible_combinations\n",
        "        if all(combo[i] == 0 for i in group1_unavailability_mapping[timeslot])\n",
        "    ] for timeslot in range(1, 171)\n",
        "]\n",
        "\n",
        "group2_feasible_combinations = [\n",
        "    [\n",
        "        combo for combo in generic_feasible_combinations\n",
        "        if all(combo[i] == 0 for i in group2_unavailability_mapping[timeslot])\n",
        "    ] for timeslot in range(1, 171)\n",
        "]\n",
        "\n",
        "print(\"Possible Number of Combinations for Group 1 Timeslots:\", [len(timeslot_combo) for timeslot_combo in group1_feasible_combinations])\n",
        "print(\"Possible Number of Combinations for Group 2 Timeslots:\", [len(timeslot_combo) for timeslot_combo in group2_feasible_combinations])"
      ]
    },
    {
      "cell_type": "markdown",
      "metadata": {
        "id": "XPDmXSbd7yXx"
      },
      "source": [
        "# Main"
      ]
    },
    {
      "cell_type": "code",
      "execution_count": 11,
      "metadata": {
        "id": "BbtucAt9bOJW"
      },
      "outputs": [],
      "source": [
        "!pip install gurobipy>=9.5.1"
      ]
    },
    {
      "cell_type": "code",
      "execution_count": 12,
      "metadata": {
        "id": "-s1ajv6xjDmy"
      },
      "outputs": [],
      "source": [
        "import gurobipy as gp\n",
        "import itertools\n",
        "from gurobipy import GRB as GRB"
      ]
    },
    {
      "cell_type": "code",
      "execution_count": 13,
      "metadata": {
        "colab": {
          "base_uri": "https://localhost:8080/"
        },
        "id": "4fPDyvmig1PH",
        "outputId": "4744fbb1-d871-4564-b779-a74ee58b787f"
      },
      "outputs": [
        {
          "name": "stdout",
          "output_type": "stream",
          "text": [
            "Set parameter Username\n",
            "Set parameter WLSAccessID\n",
            "Set parameter WLSSecret\n",
            "Set parameter LicenseID to value 868440\n",
            "Set parameter Seed to value 435\n",
            "Academic license 868440 - for non-commercial use only - registered to es___@uwaterloo.ca\n"
          ]
        }
      ],
      "source": [
        "#Setup Gurobi key\n",
        "# Create environment with WLS license\n",
        "e = gp.Env(empty=True)\n",
        "e.setParam('WLSACCESSID', '453f2da9-b8f2-448f-9f06-48081a9c3dc9')\n",
        "e.setParam('WLSSECRET', 'd5675c81-7058-45f9-b6f2-30ca3855ed22')\n",
        "e.setParam('LICENSEID', 868440)\n",
        "e.setParam('Seed', 435)\n",
        "e.start()\n",
        "\n",
        "# Create the model within the Gurobi environment. This environment will be passed in as a parameter into all subsequent models\n",
        "model = gp.Model(env=e)"
      ]
    },
    {
      "cell_type": "code",
      "execution_count": 14,
      "metadata": {
        "id": "Ytmz6IwTXDTr"
      },
      "outputs": [],
      "source": [
        "# Sets\n",
        "D = range(1,6)\n",
        "T = range(1,171)\n",
        "T_d = {d : (T[(d-1)*len(T)//len(D):(d)*len(T)//len(D)])for d in D}\n",
        "C = range(1,6)\n",
        "M = range(6,21)\n",
        "I = (*C,*M)\n",
        "H_t = {t : range(1,len(group1_feasible_combinations[t-1])) for t in T}"
      ]
    },
    {
      "cell_type": "code",
      "execution_count": 15,
      "metadata": {
        "id": "uYL_ovYJdWmx"
      },
      "outputs": [],
      "source": [
        "# penalties\n",
        "# separated to make them easier to read\n",
        "# taken from this graph: https://www.desmos.com/calculator/g5rhs6n2ke\n",
        "penalties = [(0,0), (4,4), (8, 11.31), (12, 20.78), (16, 32), (34, 99.13)]\n",
        "Q = range(1,len(penalties)+1)"
      ]
    },
    {
      "cell_type": "code",
      "execution_count": 16,
      "metadata": {
        "id": "zV_lSO51a7nW"
      },
      "outputs": [],
      "source": [
        "# Parameters\n",
        "\n",
        "# need to sort this one out with column generation\n",
        "\n",
        "a = group1_feasible_combinations\n",
        "f = [[sum(a[t-1][h-1]) // 6 for h in H_t[t]] for t in T]\n",
        "n = 8 # Need to inpute\n",
        "u = {q : penalties[q-1][1] for q in Q}\n",
        "v = {q : penalties[q-1][0] for q in Q}\n",
        "w = .001 # Need to inpute"
      ]
    },
    {
      "cell_type": "code",
      "execution_count": 17,
      "metadata": {
        "id": "6OLq1F8Tz1Pw"
      },
      "outputs": [],
      "source": [
        "indices = [(t, h) for t in T for h in H_t[t]]"
      ]
    },
    {
      "cell_type": "code",
      "execution_count": 18,
      "metadata": {
        "id": "IeqEV5qrnB91"
      },
      "outputs": [],
      "source": [
        "# Decision Varbiables\n",
        "alpha = model.addVars(indices, vtype=GRB.BINARY, name=\"alpha\")\n",
        "y = model.addVars(I, D, Q, lb=0.0, ub=1.0, vtype=GRB.CONTINUOUS, name = \"y\")"
      ]
    },
    {
      "cell_type": "code",
      "execution_count": 19,
      "metadata": {},
      "outputs": [],
      "source": [
        "for i in I:\n",
        "    for d in D:\n",
        "        model.addSOS(GRB.SOS_TYPE2, [y[i,d,q] for q in Q])"
      ]
    },
    {
      "cell_type": "code",
      "execution_count": 20,
      "metadata": {
        "id": "hLBoOX3RnUi1"
      },
      "outputs": [],
      "source": [
        "# Objective Value\n",
        "model.setObjective(sum(f[t-1][h-1]*alpha[t,h] for t in T for h in H_t[t]) - w * sum(u[q] * y[i,d,q] for i in I for d in D for q in Q),sense=GRB.MAXIMIZE)"
      ]
    },
    {
      "cell_type": "code",
      "execution_count": null,
      "metadata": {
        "id": "HurC0aJzn3KJ"
      },
      "outputs": [],
      "source": [
        "# Constraints\n",
        "model.addConstrs(sum(alpha[t,h] for h in H_t[t]) <= 1 for t in T)\n",
        "model.addConstrs(sum(a[t-1][h-1][i-1]*alpha[t,h] for t in T_d[d] for h in H_t[t]) <= n for i in I for d in D)\n",
        "model.addConstrs(sum(a[t-1][h-1][i-1]*alpha[t,h] for t in T_d[d] for h in H_t[t]) == sum(v[q]*y[i,d,q] for q in Q) for i in I for d in D)\n",
        "model.addConstrs(sum(y[i,d,q] for q in Q) == 1 for i in I for d in D)"
      ]
    },
    {
      "cell_type": "code",
      "execution_count": 22,
      "metadata": {
        "colab": {
          "base_uri": "https://localhost:8080/"
        },
        "id": "ZQzVKDAasC0l",
        "outputId": "325a488e-ab46-4ebb-f472-497b62d63eae"
      },
      "outputs": [
        {
          "name": "stdout",
          "output_type": "stream",
          "text": [
            "Gurobi Optimizer version 11.0.1 build v11.0.1rc0 (win64 - Windows 11.0 (22631.2))\n",
            "\n",
            "CPU model: Intel(R) Core(TM) i5-8250U CPU @ 1.60GHz, instruction set [SSE2|AVX|AVX2]\n",
            "Thread count: 4 physical cores, 8 logical processors, using up to 8 threads\n",
            "\n",
            "Academic license 868440 - for non-commercial use only - registered to es___@uwaterloo.ca\n",
            "Optimize a model with 470 rows, 2954309 columns and 58555957 nonzeros\n",
            "Model fingerprint: 0x2578ff9b\n",
            "Model has 100 SOS constraints\n",
            "Variable types: 600 continuous, 2953709 integer (2953709 binary)\n",
            "Coefficient statistics:\n",
            "  Matrix range     [1e+00, 3e+01]\n",
            "  Objective range  [4e-03, 2e+00]\n",
            "  Bounds range     [1e+00, 1e+00]\n",
            "  RHS range        [1e+00, 8e+00]\n",
            "Presolve removed 0 rows and 0 columns (presolve time = 7s) ...\n",
            "Presolve removed 10 rows and 162 columns (presolve time = 11s) ...\n",
            "Presolve removed 10 rows and 162 columns (presolve time = 15s) ...\n",
            "Presolve removed 10 rows and 162 columns (presolve time = 20s) ...\n",
            "Presolve removed 10 rows and 162 columns (presolve time = 26s) ...\n",
            "Presolve removed 10 rows and 162 columns (presolve time = 30s) ...\n",
            "Presolve removed 10 rows and 162 columns (presolve time = 35s) ...\n",
            "Presolve removed 10 rows and 162 columns (presolve time = 40s) ...\n",
            "Presolve removed 10 rows and 162 columns (presolve time = 45s) ...\n",
            "Presolve removed 10 rows and 162 columns (presolve time = 50s) ...\n",
            "Presolve removed 10 rows and 162 columns (presolve time = 55s) ...\n",
            "Presolve removed 10 rows and 162 columns (presolve time = 60s) ...\n",
            "Presolve removed 10 rows and 162 columns (presolve time = 65s) ...\n",
            "Presolve removed 10 rows and 162 columns (presolve time = 70s) ...\n",
            "Presolve removed 10 rows and 162 columns (presolve time = 76s) ...\n",
            "Presolve removed 110 rows and 162 columns (presolve time = 81s) ...\n",
            "Presolve removed 110 rows and 162 columns (presolve time = 85s) ...\n",
            "Presolve removed 110 rows and 162 columns (presolve time = 90s) ...\n",
            "Presolve removed 110 rows and 162 columns (presolve time = 95s) ...\n",
            "Presolve removed 110 rows and 162 columns (presolve time = 100s) ...\n",
            "Presolve removed 479 rows and 2258001 columns (presolve time = 258s) ...\n",
            "Presolve removed 379 rows and 2258381 columns\n",
            "Presolve time: 258.97s\n",
            "Presolved: 91 rows, 695928 columns, 7340058 nonzeros\n",
            "Presolved model has 20 SOS constraint(s)\n",
            "Variable types: 120 continuous, 695808 integer (695788 binary)\n",
            "\n",
            "Root simplex log...\n",
            "\n",
            "Iteration    Objective       Primal Inf.    Dual Inf.      Time\n",
            "       0    1.5621216e+02   9.150000e+01   0.000000e+00    264s\n",
            "     129    1.5621209e+02   1.266575e+03   0.000000e+00    265s\n",
            "     549    1.2823355e+02   5.806632e+01   0.000000e+00    272s\n",
            "     802    1.1901520e+02   0.000000e+00   0.000000e+00    276s\n",
            "\n",
            "Root relaxation: objective 1.190152e+02, 802 iterations, 12.30 seconds (14.67 work units)\n",
            "Total elapsed time = 285.76s (DegenMoves)\n",
            "Total elapsed time = 296.92s (DegenMoves)\n",
            "\n",
            "    Nodes    |    Current Node    |     Objective Bounds      |     Work\n",
            " Expl Unexpl |  Obj  Depth IntInf | Incumbent    BestBd   Gap | It/Node Time\n",
            "\n",
            "     0     0  119.01520    0    4          -  119.01520      -     -  297s\n",
            "H    0     0                     119.0152000  119.01520  0.00%     -  303s\n",
            "     0     0  119.01520    0    4  119.01520  119.01520  0.00%     -  303s\n",
            "\n",
            "Explored 1 nodes (37826 simplex iterations) in 303.84 seconds (270.55 work units)\n",
            "Thread count was 8 (of 8 available processors)\n",
            "\n",
            "Solution count 1: 119.015 \n",
            "\n",
            "Optimal solution found (tolerance 1.00e-04)\n",
            "Best objective 1.190152000000e+02, best bound 1.190152000000e+02, gap 0.0000%\n"
          ]
        }
      ],
      "source": [
        "model.optimize()"
      ]
    },
    {
      "cell_type": "code",
      "execution_count": 23,
      "metadata": {
        "colab": {
          "base_uri": "https://localhost:8080/"
        },
        "id": "46mc9EmDsMA4",
        "outputId": "35b24764-6347-4c47-ca9c-8050fe1a01be"
      },
      "outputs": [
        {
          "name": "stdout",
          "output_type": "stream",
          "text": [
            "2 (1, 1, 0, 0, 0, 0, 1, 0, 0, 1, 1, 1, 1, 1, 0, 0, 1, 1, 1, 1)\n",
            "3 (0, 0, 0, 1, 0, 0, 0, 0, 1, 1, 0, 0, 1, 0, 1, 1, 0, 0, 0, 0)\n",
            "4 (1, 0, 0, 0, 0, 0, 1, 0, 0, 0, 0, 1, 0, 0, 0, 0, 0, 1, 1, 1)\n",
            "5 (0, 0, 1, 0, 0, 1, 1, 1, 1, 0, 0, 1, 0, 0, 0, 0, 0, 0, 0, 0)\n",
            "6 (0, 0, 1, 0, 1, 1, 1, 0, 1, 1, 0, 0, 0, 0, 1, 1, 1, 1, 1, 1)\n",
            "7 (0, 1, 0, 0, 0, 0, 0, 0, 1, 1, 1, 0, 0, 0, 1, 1, 0, 0, 0, 0)\n",
            "8 (1, 0, 0, 0, 0, 0, 0, 1, 0, 0, 0, 0, 0, 1, 1, 0, 0, 0, 1, 1)\n",
            "11 (1, 0, 0, 0, 0, 1, 0, 0, 0, 0, 0, 1, 0, 0, 0, 0, 1, 1, 0, 1)\n",
            "13 (0, 0, 0, 1, 0, 0, 1, 1, 0, 0, 0, 0, 0, 1, 0, 0, 0, 1, 0, 1)\n",
            "16 (1, 0, 0, 0, 1, 1, 1, 1, 0, 0, 1, 1, 1, 0, 1, 1, 1, 1, 0, 0)\n",
            "17 (1, 0, 0, 0, 0, 0, 0, 1, 0, 0, 0, 0, 1, 0, 0, 0, 1, 0, 1, 1)\n",
            "21 (0, 0, 0, 0, 1, 1, 0, 0, 0, 0, 1, 0, 0, 0, 0, 1, 0, 1, 1, 0)\n",
            "24 (1, 0, 0, 1, 0, 0, 1, 1, 1, 1, 1, 1, 1, 1, 1, 1, 0, 0, 0, 0)\n",
            "28 (0, 1, 0, 1, 0, 1, 0, 0, 1, 1, 1, 1, 1, 1, 1, 1, 1, 0, 0, 0)\n",
            "32 (1, 0, 0, 0, 0, 0, 0, 1, 0, 0, 1, 0, 0, 1, 0, 0, 1, 0, 1, 0)\n",
            "33 (0, 1, 1, 0, 0, 1, 0, 1, 1, 1, 1, 1, 1, 1, 1, 1, 0, 0, 0, 0)\n",
            "34 (0, 0, 1, 0, 1, 1, 1, 0, 1, 1, 0, 0, 1, 1, 0, 0, 1, 1, 1, 1)\n",
            "35 (1, 0, 0, 1, 0, 1, 1, 1, 0, 0, 0, 1, 1, 0, 1, 1, 1, 0, 1, 1)\n",
            "36 (0, 0, 0, 0, 1, 0, 1, 0, 0, 0, 0, 0, 1, 1, 1, 0, 0, 1, 0, 0)\n",
            "37 (0, 1, 0, 0, 0, 0, 0, 0, 1, 0, 1, 0, 1, 1, 0, 0, 0, 1, 0, 0)\n",
            "38 (1, 0, 1, 0, 0, 1, 1, 1, 1, 1, 1, 1, 1, 1, 0, 0, 0, 0, 0, 1)\n",
            "43 (0, 1, 1, 0, 0, 1, 0, 1, 0, 1, 1, 1, 1, 1, 0, 1, 0, 0, 1, 1)\n",
            "44 (1, 0, 0, 0, 0, 1, 0, 0, 0, 1, 1, 1, 0, 0, 0, 1, 0, 0, 0, 0)\n",
            "45 (0, 0, 0, 0, 1, 0, 0, 0, 0, 0, 0, 1, 1, 0, 1, 0, 1, 0, 1, 0)\n",
            "46 (0, 0, 0, 1, 0, 0, 0, 1, 1, 0, 0, 0, 0, 0, 1, 0, 0, 1, 1, 0)\n",
            "47 (0, 1, 0, 0, 0, 0, 1, 0, 0, 0, 0, 0, 0, 0, 0, 1, 1, 1, 0, 1)\n",
            "53 (0, 1, 0, 0, 0, 0, 1, 1, 0, 0, 1, 0, 0, 0, 1, 0, 0, 0, 0, 1)\n",
            "56 (0, 1, 0, 0, 1, 1, 1, 1, 1, 1, 1, 1, 0, 0, 1, 0, 1, 1, 0, 0)\n",
            "58 (0, 1, 0, 0, 0, 0, 0, 0, 0, 1, 0, 1, 0, 1, 0, 1, 0, 1, 0, 0)\n",
            "59 (0, 0, 0, 1, 1, 1, 0, 1, 1, 1, 0, 0, 1, 0, 1, 1, 1, 1, 1, 0)\n",
            "61 (1, 0, 0, 0, 0, 0, 0, 1, 0, 0, 0, 0, 0, 0, 1, 0, 1, 1, 1, 0)\n",
            "64 (0, 1, 0, 1, 0, 1, 1, 0, 1, 1, 1, 0, 0, 1, 0, 1, 1, 0, 1, 1)\n",
            "65 (0, 1, 1, 0, 0, 1, 0, 0, 1, 1, 1, 1, 1, 1, 0, 1, 1, 0, 0, 1)\n",
            "66 (0, 0, 1, 0, 0, 0, 1, 0, 1, 0, 0, 0, 0, 1, 0, 0, 0, 0, 1, 1)\n",
            "70 (0, 1, 0, 1, 0, 0, 1, 1, 1, 1, 1, 1, 0, 1, 0, 0, 0, 1, 1, 1)\n",
            "71 (0, 0, 1, 0, 0, 1, 0, 1, 0, 1, 0, 0, 1, 1, 0, 0, 0, 0, 0, 0)\n",
            "72 (1, 0, 0, 0, 0, 0, 0, 1, 0, 0, 0, 1, 0, 0, 0, 1, 1, 0, 1, 0)\n",
            "74 (0, 1, 0, 0, 0, 0, 1, 1, 0, 0, 0, 0, 0, 0, 1, 0, 0, 1, 0, 1)\n",
            "75 (0, 0, 1, 0, 1, 1, 0, 1, 1, 1, 1, 0, 1, 0, 1, 1, 0, 1, 0, 1)\n",
            "77 (0, 1, 0, 0, 1, 1, 1, 0, 0, 1, 1, 0, 1, 1, 1, 1, 1, 0, 1, 0)\n",
            "80 (1, 1, 0, 0, 0, 1, 0, 1, 1, 1, 0, 1, 0, 1, 0, 1, 0, 1, 1, 1)\n",
            "81 (1, 0, 0, 1, 0, 0, 1, 1, 0, 1, 0, 0, 1, 1, 1, 1, 0, 1, 1, 1)\n",
            "84 (0, 0, 0, 0, 1, 1, 0, 0, 0, 0, 1, 0, 0, 0, 1, 1, 1, 0, 0, 0)\n",
            "87 (0, 0, 1, 0, 0, 0, 0, 1, 0, 1, 0, 1, 1, 0, 1, 0, 0, 0, 0, 0)\n",
            "89 (0, 1, 0, 0, 0, 1, 0, 0, 0, 0, 1, 1, 0, 0, 1, 0, 0, 0, 1, 0)\n",
            "93 (0, 0, 1, 0, 0, 1, 0, 0, 0, 0, 1, 0, 1, 1, 0, 1, 0, 0, 0, 0)\n",
            "96 (0, 1, 0, 0, 0, 0, 1, 0, 1, 0, 0, 1, 0, 1, 0, 0, 1, 0, 0, 0)\n",
            "97 (0, 1, 0, 0, 0, 0, 0, 0, 1, 0, 0, 0, 1, 1, 0, 0, 1, 1, 0, 0)\n",
            "99 (0, 0, 0, 1, 0, 0, 0, 0, 0, 0, 1, 1, 0, 0, 1, 0, 1, 0, 0, 1)\n",
            "100 (0, 0, 0, 0, 1, 0, 1, 0, 1, 0, 1, 0, 0, 0, 0, 0, 1, 0, 0, 1)\n",
            "101 (1, 1, 0, 0, 0, 1, 1, 0, 1, 1, 0, 0, 1, 0, 0, 1, 1, 1, 1, 1)\n",
            "102 (0, 0, 0, 1, 0, 0, 1, 0, 1, 0, 0, 1, 0, 0, 0, 0, 0, 1, 1, 0)\n",
            "104 (0, 1, 0, 0, 0, 1, 1, 0, 0, 0, 0, 0, 1, 0, 0, 1, 0, 0, 0, 1)\n",
            "105 (0, 0, 0, 1, 0, 0, 1, 0, 1, 0, 1, 1, 1, 0, 0, 0, 0, 0, 0, 0)\n",
            "106 (0, 0, 0, 0, 1, 1, 1, 0, 1, 0, 0, 1, 0, 1, 0, 0, 0, 0, 0, 0)\n",
            "107 (0, 0, 1, 0, 0, 1, 1, 0, 0, 1, 1, 1, 0, 0, 0, 0, 0, 0, 0, 0)\n",
            "108 (0, 0, 1, 0, 0, 0, 0, 1, 0, 0, 1, 1, 1, 0, 0, 0, 0, 0, 1, 0)\n",
            "109 (0, 0, 0, 0, 1, 1, 0, 0, 0, 0, 0, 0, 0, 1, 1, 0, 1, 0, 1, 0)\n",
            "110 (0, 0, 1, 0, 0, 1, 0, 1, 0, 0, 0, 0, 1, 0, 0, 1, 1, 0, 0, 0)\n",
            "111 (1, 0, 0, 0, 0, 0, 1, 0, 0, 0, 0, 1, 1, 1, 1, 0, 0, 0, 0, 0)\n",
            "112 (0, 1, 0, 0, 0, 0, 1, 1, 1, 0, 0, 0, 1, 0, 0, 0, 0, 0, 0, 1)\n",
            "114 (1, 0, 0, 0, 0, 0, 1, 0, 0, 1, 1, 1, 0, 1, 0, 0, 0, 0, 0, 0)\n",
            "115 (0, 0, 0, 1, 0, 0, 0, 0, 1, 1, 0, 0, 0, 0, 1, 0, 0, 1, 1, 0)\n",
            "118 (0, 1, 0, 0, 0, 0, 0, 0, 1, 0, 1, 0, 0, 0, 0, 1, 0, 1, 1, 0)\n",
            "121 (0, 0, 0, 1, 0, 0, 0, 1, 1, 0, 0, 1, 0, 1, 0, 0, 0, 0, 0, 1)\n",
            "123 (0, 0, 1, 0, 0, 0, 0, 0, 0, 0, 0, 0, 0, 0, 0, 1, 1, 1, 1, 1)\n",
            "124 (0, 1, 0, 0, 0, 1, 0, 1, 0, 0, 1, 0, 0, 0, 1, 0, 0, 0, 0, 1)\n",
            "126 (0, 1, 0, 0, 0, 0, 0, 1, 0, 0, 0, 0, 0, 0, 1, 1, 1, 0, 1, 0)\n",
            "129 (0, 1, 0, 0, 0, 0, 1, 1, 0, 0, 0, 0, 0, 1, 0, 0, 0, 1, 0, 1)\n",
            "130 (0, 1, 0, 0, 0, 0, 0, 0, 0, 0, 1, 0, 1, 0, 0, 0, 1, 1, 0, 1)\n",
            "131 (0, 0, 0, 0, 1, 0, 0, 0, 0, 1, 0, 1, 0, 1, 0, 0, 1, 0, 0, 1)\n",
            "132 (1, 0, 0, 0, 0, 1, 0, 0, 0, 1, 0, 0, 0, 0, 0, 1, 0, 1, 1, 0)\n",
            "133 (0, 0, 1, 0, 0, 0, 0, 0, 1, 1, 0, 0, 0, 1, 1, 0, 0, 0, 1, 0)\n",
            "135 (1, 0, 0, 0, 0, 0, 0, 0, 0, 1, 0, 0, 0, 0, 1, 1, 1, 1, 0, 0)\n",
            "136 (0, 0, 0, 1, 1, 1, 0, 1, 1, 1, 1, 0, 1, 0, 1, 1, 1, 1, 0, 0)\n",
            "137 (0, 1, 0, 0, 1, 1, 1, 1, 0, 0, 0, 1, 1, 1, 0, 1, 1, 1, 1, 0)\n",
            "138 (0, 0, 0, 1, 0, 0, 0, 0, 0, 0, 0, 0, 1, 0, 1, 1, 1, 1, 0, 0)\n",
            "139 (0, 0, 1, 0, 0, 0, 1, 0, 0, 0, 1, 1, 1, 0, 0, 0, 0, 0, 0, 1)\n",
            "140 (0, 1, 1, 0, 0, 1, 1, 1, 1, 1, 1, 1, 1, 1, 0, 0, 0, 1, 0, 0)\n",
            "141 (0, 0, 1, 0, 0, 1, 1, 1, 0, 1, 1, 0, 0, 0, 0, 0, 0, 0, 0, 0)\n",
            "143 (0, 0, 0, 1, 0, 0, 1, 0, 1, 0, 0, 1, 0, 0, 0, 0, 0, 1, 1, 0)\n",
            "144 (1, 1, 0, 0, 0, 1, 1, 1, 1, 1, 0, 0, 1, 1, 0, 1, 1, 0, 0, 1)\n",
            "146 (0, 0, 1, 0, 0, 0, 0, 1, 0, 1, 0, 1, 0, 0, 1, 0, 0, 0, 0, 1)\n",
            "148 (0, 0, 0, 1, 0, 0, 0, 0, 0, 0, 1, 0, 1, 0, 1, 1, 1, 0, 0, 0)\n",
            "149 (1, 0, 0, 0, 0, 0, 0, 1, 0, 0, 1, 1, 0, 0, 0, 0, 0, 1, 0, 1)\n",
            "153 (1, 1, 0, 0, 0, 1, 1, 1, 1, 1, 0, 0, 1, 1, 1, 1, 0, 0, 0, 1)\n",
            "154 (0, 0, 0, 0, 1, 0, 1, 0, 0, 1, 0, 0, 0, 0, 0, 1, 0, 1, 1, 0)\n",
            "155 (0, 0, 0, 1, 0, 0, 0, 1, 1, 0, 0, 0, 0, 1, 0, 1, 0, 0, 1, 0)\n",
            "157 (0, 0, 0, 0, 1, 1, 0, 0, 0, 0, 1, 0, 0, 0, 1, 0, 0, 1, 1, 0)\n",
            "161 (0, 0, 0, 1, 0, 1, 0, 0, 1, 0, 0, 0, 0, 0, 1, 1, 0, 0, 0, 1)\n",
            "162 (1, 0, 0, 0, 0, 0, 0, 0, 0, 0, 0, 0, 0, 1, 1, 0, 1, 0, 1, 1)\n",
            "164 (0, 0, 0, 0, 1, 0, 0, 0, 0, 0, 1, 0, 1, 0, 1, 0, 1, 0, 0, 1)\n",
            "165 (0, 0, 0, 0, 1, 0, 0, 0, 1, 1, 0, 1, 0, 0, 0, 0, 0, 1, 1, 0)\n",
            "166 (0, 0, 0, 1, 0, 1, 0, 0, 0, 1, 0, 0, 0, 1, 0, 0, 1, 0, 1, 0)\n",
            "168 (0, 0, 0, 1, 0, 0, 0, 0, 1, 0, 1, 1, 0, 1, 0, 0, 1, 0, 0, 0)\n"
          ]
        }
      ],
      "source": [
        "for t in T:\n",
        "  for h in H_t[t]:\n",
        "    if alpha[t,h].X == 1:\n",
        "      print(t, a[t-1][h-1])\n",
        "      # print(f\"Time Period : {t} uses schedule {h}\")\n"
      ]
    },
    {
      "cell_type": "code",
      "execution_count": 24,
      "metadata": {},
      "outputs": [
        {
          "name": "stdout",
          "output_type": "stream",
          "text": [
            "0.0\n"
          ]
        }
      ],
      "source": [
        "print(sum(alpha[1,h].X for h in H_t[1]))"
      ]
    },
    {
      "cell_type": "markdown",
      "metadata": {},
      "source": []
    }
  ],
  "metadata": {
    "colab": {
      "provenance": []
    },
    "kernelspec": {
      "display_name": "Python 3",
      "name": "python3"
    },
    "language_info": {
      "codemirror_mode": {
        "name": "ipython",
        "version": 3
      },
      "file_extension": ".py",
      "mimetype": "text/x-python",
      "name": "python",
      "nbconvert_exporter": "python",
      "pygments_lexer": "ipython3",
      "version": "3.9.4"
    }
  },
  "nbformat": 4,
  "nbformat_minor": 0
}
