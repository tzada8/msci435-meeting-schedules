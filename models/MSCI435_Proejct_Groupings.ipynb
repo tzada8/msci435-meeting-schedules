{
 "cells": [
  {
   "cell_type": "code",
   "execution_count": 1,
   "metadata": {},
   "outputs": [],
   "source": [
    "!pip install gurobipy>=9.5.1"
   ]
  },
  {
   "cell_type": "code",
   "execution_count": 2,
   "metadata": {},
   "outputs": [],
   "source": [
    "import gurobipy as gp\n",
    "from gurobipy import GRB as GRB\n",
    "import sys\n",
    "sys.path.insert(0, \"../utils\")\n",
    "\n",
    "import utils_functions as uf\n",
    "import unavailability"
   ]
  },
  {
   "cell_type": "code",
   "execution_count": 3,
   "metadata": {},
   "outputs": [],
   "source": [
    "T = range(1,171)\n",
    "ab = uf.calculate_unavailability(unavailability.all_group_est_unavailability)\n",
    "\n",
    "b = {}\n",
    "for n, p in enumerate(ab):\n",
    "    b[n+1] = {}\n",
    "    for t in T:\n",
    "        if t in p:\n",
    "            b[n+1][t] = 1\n",
    "        else:\n",
    "            b[n+1][t] = 0"
   ]
  },
  {
   "cell_type": "code",
   "execution_count": 4,
   "metadata": {},
   "outputs": [
    {
     "name": "stdout",
     "output_type": "stream",
     "text": [
      "Set parameter Username\n",
      "Set parameter WLSAccessID\n",
      "Set parameter WLSSecret\n",
      "Set parameter LicenseID to value 868440\n",
      "Academic license 868440 - for non-commercial use only - registered to es___@uwaterloo.ca\n",
      "Set parameter Seed to value 435\n"
     ]
    }
   ],
   "source": [
    "# Setup Gurobi key\n",
    "# Create environment with WLS license\n",
    "e = gp.Env(empty=True)\n",
    "e.setParam('WLSACCESSID', '453f2da9-b8f2-448f-9f06-48081a9c3dc9')\n",
    "e.setParam('WLSSECRET', 'd5675c81-7058-45f9-b6f2-30ca3855ed22')\n",
    "e.setParam('LICENSEID', 868440)\n",
    "e.start()\n",
    "\n",
    "# Create the model within the Gurobi environment. This environment will be passed in as a parameter into all subsequent models\n",
    "model = gp.Model(env=e)\n",
    "model.setParam('Seed', 435)"
   ]
  },
  {
   "cell_type": "code",
   "execution_count": 5,
   "metadata": {},
   "outputs": [],
   "source": [
    "C = range(1,11)\n",
    "M = range(11,41)\n",
    "G = range(1,3)\n",
    "I = range(1,41)\n",
    "BIGM = 100"
   ]
  },
  {
   "cell_type": "code",
   "execution_count": 6,
   "metadata": {},
   "outputs": [],
   "source": [
    "p = model.addVars(I,G, vtype=GRB.BINARY, name=\"p\")\n",
    "x = model.addVars(G,T, vtype=GRB.BINARY, name=\"x\")"
   ]
  },
  {
   "cell_type": "code",
   "execution_count": 7,
   "metadata": {},
   "outputs": [],
   "source": [
    "model.setObjective(sum(x[g,t] for g in G for t in T), sense=GRB.MINIMIZE)"
   ]
  },
  {
   "cell_type": "code",
   "execution_count": 8,
   "metadata": {},
   "outputs": [
    {
     "data": {
      "text/plain": [
       "{1: <gurobi.Constr *Awaiting Model Update*>,\n",
       " 2: <gurobi.Constr *Awaiting Model Update*>}"
      ]
     },
     "execution_count": 8,
     "metadata": {},
     "output_type": "execute_result"
    }
   ],
   "source": [
    "model.addConstrs(sum(b[i][t]*p[i,g] for i in I)  <= BIGM*x[g,t] for g in G for t in T)\n",
    "model.addConstrs(sum(p[i,g] for g in G) == 1 for i in I)\n",
    "model.addConstrs(sum(p[c,g] for c in C) >= 5 for g in G)\n",
    "model.addConstrs(sum(p[m,g] for m in M) >= 15 for g in G)"
   ]
  },
  {
   "cell_type": "code",
   "execution_count": 9,
   "metadata": {},
   "outputs": [
    {
     "name": "stdout",
     "output_type": "stream",
     "text": [
      "Gurobi Optimizer version 11.0.1 build v11.0.1rc0 (win64 - Windows 11.0 (22631.2))\n",
      "\n",
      "CPU model: Intel(R) Core(TM) i5-8250U CPU @ 1.60GHz, instruction set [SSE2|AVX|AVX2]\n",
      "Thread count: 4 physical cores, 8 logical processors, using up to 8 threads\n",
      "\n",
      "Academic license 868440 - for non-commercial use only - registered to es___@uwaterloo.ca\n",
      "Optimize a model with 384 rows, 420 columns and 2866 nonzeros\n",
      "Model fingerprint: 0xffa16d69\n",
      "Variable types: 0 continuous, 420 integer (420 binary)\n",
      "Coefficient statistics:\n",
      "  Matrix range     [1e+00, 1e+02]\n",
      "  Objective range  [1e+00, 1e+00]\n",
      "  Bounds range     [1e+00, 1e+00]\n",
      "  RHS range        [1e+00, 2e+01]\n",
      "Found heuristic solution: objective 261.0000000\n",
      "Presolve removed 202 rows and 201 columns\n",
      "Presolve time: 0.01s\n",
      "Presolved: 182 rows, 219 columns, 1235 nonzeros\n",
      "Variable types: 0 continuous, 219 integer (218 binary)\n",
      "\n",
      "Root relaxation: objective 1.760000e+02, 456 iterations, 0.00 seconds (0.00 work units)\n",
      "\n",
      "    Nodes    |    Current Node    |     Objective Bounds      |     Work\n",
      " Expl Unexpl |  Obj  Depth IntInf | Incumbent    BestBd   Gap | It/Node Time\n",
      "\n",
      "     0     0  176.00000    0  118  261.00000  176.00000  32.6%     -    0s\n",
      "H    0     0                     242.0000000  176.00000  27.3%     -    0s\n",
      "H    0     0                     236.0000000  176.00000  25.4%     -    0s\n",
      "H    0     0                     234.0000000  176.00000  24.8%     -    0s\n",
      "H    0     0                     233.0000000  176.00000  24.5%     -    0s\n",
      "     0     0  176.00000    0  205  233.00000  176.00000  24.5%     -    0s\n",
      "H    0     0                     230.0000000  176.00000  23.5%     -    0s\n",
      "H    0     0                     223.0000000  176.00000  21.1%     -    0s\n",
      "H    0     0                     218.0000000  176.00000  19.3%     -    0s\n",
      "H    0     0                     215.0000000  176.00000  18.1%     -    0s\n",
      "     0     0  176.00000    0  204  215.00000  176.00000  18.1%     -    0s\n",
      "H    0     0                     210.0000000  176.00000  16.2%     -    0s\n",
      "     0     0  180.71230    0  204  210.00000  180.71230  13.9%     -    0s\n",
      "     0     0  182.17674    0  206  210.00000  182.17674  13.2%     -    0s\n",
      "     0     0  184.19581    0  214  210.00000  184.19581  12.3%     -    0s\n",
      "     0     2  184.27464    0  214  210.00000  184.27464  12.3%     -    0s\n",
      "\n",
      "Cutting planes:\n",
      "  Gomory: 11\n",
      "  Cover: 241\n",
      "  Implied bound: 3\n",
      "  Clique: 235\n",
      "  MIR: 74\n",
      "  StrongCG: 20\n",
      "  Flow cover: 13\n",
      "  Zero half: 11\n",
      "  Relax-and-lift: 3\n",
      "\n",
      "Explored 140 nodes (8933 simplex iterations) in 0.45 seconds (0.27 work units)\n",
      "Thread count was 8 (of 8 available processors)\n",
      "\n",
      "Solution count 10: 210 215 218 ... 261\n",
      "\n",
      "Optimal solution found (tolerance 1.00e-04)\n",
      "Best objective 2.100000000000e+02, best bound 2.100000000000e+02, gap 0.0000%\n"
     ]
    }
   ],
   "source": [
    "model.optimize()"
   ]
  },
  {
   "cell_type": "code",
   "execution_count": 13,
   "metadata": {},
   "outputs": [
    {
     "name": "stdout",
     "output_type": "stream",
     "text": [
      "\tTeam 1 has person 4\n",
      "\tTeam 1 has person 6\n",
      "\tTeam 1 has person 8\n",
      "\tTeam 1 has person 9\n",
      "\tTeam 1 has person 10\n",
      "\tTeam 1 has person 13\n",
      "\tTeam 1 has person 14\n",
      "\tTeam 1 has person 17\n",
      "\tTeam 1 has person 18\n",
      "\tTeam 1 has person 19\n",
      "\tTeam 1 has person 20\n",
      "\tTeam 1 has person 21\n",
      "\tTeam 1 has person 25\n",
      "\tTeam 1 has person 27\n",
      "\tTeam 1 has person 28\n",
      "\tTeam 1 has person 31\n",
      "\tTeam 1 has person 37\n",
      "\tTeam 1 has person 38\n",
      "\tTeam 1 has person 39\n",
      "\tTeam 1 has person 40\n",
      "Team 1 is busy for 97.0 time slots\n",
      "Team 1 has size 20\n",
      "\tTeam 2 has person 1\n",
      "\tTeam 2 has person 2\n",
      "\tTeam 2 has person 3\n",
      "\tTeam 2 has person 5\n",
      "\tTeam 2 has person 7\n",
      "\tTeam 2 has person 11\n",
      "\tTeam 2 has person 12\n",
      "\tTeam 2 has person 15\n",
      "\tTeam 2 has person 16\n",
      "\tTeam 2 has person 22\n",
      "\tTeam 2 has person 23\n",
      "\tTeam 2 has person 24\n",
      "\tTeam 2 has person 26\n",
      "\tTeam 2 has person 29\n",
      "\tTeam 2 has person 30\n",
      "\tTeam 2 has person 32\n",
      "\tTeam 2 has person 33\n",
      "\tTeam 2 has person 34\n",
      "\tTeam 2 has person 35\n",
      "\tTeam 2 has person 36\n",
      "Team 2 is busy for 113.0 time slots\n",
      "Team 2 has size 20\n"
     ]
    }
   ],
   "source": [
    "\n",
    "for g in G:\n",
    "    ts = 0\n",
    "    for i in I:\n",
    "        if p[i,g].X == 1:\n",
    "            ts += 1\n",
    "            print(f'\\tTeam {g} has person {i}')\n",
    "    print(f'Team {g} is busy for {sum([x[g,t].X for t in T])} time slots')\n",
    "    print(f'Team {g} has size {ts}')"
   ]
  }
 ],
 "metadata": {
  "kernelspec": {
   "display_name": "Python 3",
   "language": "python",
   "name": "python3"
  },
  "language_info": {
   "codemirror_mode": {
    "name": "ipython",
    "version": 3
   },
   "file_extension": ".py",
   "mimetype": "text/x-python",
   "name": "python",
   "nbconvert_exporter": "python",
   "pygments_lexer": "ipython3",
   "version": "3.9.4"
  }
 },
 "nbformat": 4,
 "nbformat_minor": 2
}
