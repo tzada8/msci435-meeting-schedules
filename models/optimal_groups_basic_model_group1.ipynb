{
  "cells": [
    {
      "cell_type": "markdown",
      "metadata": {},
      "source": [
        "## Import Packages"
      ]
    },
    {
      "cell_type": "code",
      "execution_count": 1,
      "metadata": {},
      "outputs": [
        {
          "name": "stdout",
          "output_type": "stream",
          "text": [
            "zsh:1: 9.5.1 not found\n"
          ]
        }
      ],
      "source": [
        "!pip install gurobipy>=9.5.1"
      ]
    },
    {
      "cell_type": "code",
      "execution_count": 2,
      "metadata": {},
      "outputs": [],
      "source": [
        "import gurobipy as gp\n",
        "from gurobipy import GRB as GRB\n",
        "import sys\n",
        "sys.path.insert(0, \"../utils\")\n",
        "\n",
        "import column_generation\n",
        "from unavailability import optimal_group1_unavailability"
      ]
    },
    {
      "cell_type": "markdown",
      "metadata": {
        "id": "jbfGPRhx77mu"
      },
      "source": [
        "## Column Generation"
      ]
    },
    {
      "cell_type": "code",
      "execution_count": 3,
      "metadata": {},
      "outputs": [
        {
          "name": "stdout",
          "output_type": "stream",
          "text": [
            "Total possible combinations: 1048576\n",
            "Total feasible combinations: 45046\n",
            "Group 1 Unavailability Mapping: {1: [15], 2: [7, 11, 15], 3: [15], 4: [15], 5: [0, 1, 2, 3, 4, 5, 6, 9, 10, 12, 13, 14, 15, 16, 19], 6: [15], 7: [11, 13], 8: [8, 11, 13, 18], 9: [11, 13], 10: [4, 6, 8, 11, 13, 16], 11: [4, 6, 7, 8, 11, 13, 16], 12: [4, 6, 7, 8, 11, 13, 16], 13: [4, 6, 7, 8, 16], 14: [0, 1, 2, 3, 4, 5, 6, 7, 8, 9, 10, 12, 13, 14, 16, 19], 15: [0, 1, 2, 3, 4, 5, 6, 7, 8, 9, 10, 12, 13, 14, 16, 19], 16: [4, 7, 16], 17: [4, 7, 8, 11, 16, 18], 18: [4, 7, 8, 16, 18], 19: [], 20: [0, 1, 2, 3, 4, 5, 6, 9, 10, 12, 13, 14, 16, 19], 21: [], 22: [], 23: [8, 18], 24: [], 25: [], 26: [], 27: [], 28: [], 29: [], 30: [], 31: [], 32: [], 33: [], 34: [], 35: [15, 19], 36: [7, 11, 15, 19], 37: [15, 19], 38: [0, 5, 15, 19], 39: [0, 1, 2, 3, 4, 5, 6, 9, 10, 12, 13, 14, 15, 16, 19], 40: [0, 5, 15, 19], 41: [0, 3, 5, 14], 42: [0, 3, 5, 8, 14, 18], 43: [0, 3, 5, 14], 44: [3, 14], 45: [3, 7, 11, 14], 46: [3, 7, 11, 14], 47: [], 48: [0, 1, 2, 3, 4, 5, 6, 9, 10, 12, 13, 14, 16, 19], 49: [0, 1, 2, 3, 4, 5, 6, 9, 10, 12, 13, 14, 16, 19], 50: [], 51: [7, 8, 11, 18], 52: [8, 18], 53: [], 54: [0, 1, 2, 3, 4, 5, 6, 9, 10, 12, 13, 14, 16, 19], 55: [], 56: [], 57: [8, 18], 58: [], 59: [], 60: [], 61: [], 62: [], 63: [], 64: [], 65: [], 66: [], 67: [], 68: [], 69: [], 70: [7, 11], 71: [], 72: [], 73: [0, 1, 2, 3, 4, 5, 6, 9, 10, 12, 13, 14, 15, 16, 19], 74: [], 75: [1, 12, 13], 76: [1, 8, 12, 13, 18], 77: [1, 12, 13], 78: [1, 8, 12, 13], 79: [1, 7, 8, 11, 12, 13], 80: [1, 7, 8, 11, 12, 13], 81: [8], 82: [0, 1, 2, 3, 4, 5, 6, 8, 9, 10, 12, 13, 14, 16, 19], 83: [0, 1, 2, 3, 4, 5, 6, 8, 9, 10, 12, 13, 14, 16, 19], 84: [], 85: [7, 8, 11, 18], 86: [8, 18], 87: [], 88: [0, 1, 2, 3, 4, 5, 6, 9, 10, 12, 13, 14, 16, 19], 89: [], 90: [], 91: [8, 18], 92: [], 93: [], 94: [], 95: [], 96: [], 97: [], 98: [], 99: [], 100: [], 101: [], 102: [], 103: [2, 9, 19], 104: [2, 7, 9, 11, 19], 105: [2, 9, 19], 106: [2, 9, 19], 107: [0, 1, 2, 3, 4, 5, 6, 9, 10, 12, 13, 14, 15, 16, 19], 108: [2, 9, 19], 109: [2, 9, 11], 110: [2, 8, 9, 11, 18], 111: [2, 9, 11], 112: [2, 6, 9, 11], 113: [2, 6, 7, 9, 11], 114: [2, 6, 7, 9, 11], 115: [6], 116: [0, 1, 2, 3, 4, 5, 6, 9, 10, 12, 13, 14, 16, 19], 117: [0, 1, 2, 3, 4, 5, 6, 9, 10, 12, 13, 14, 16, 19], 118: [], 119: [7, 8, 11, 18], 120: [8, 18], 121: [], 122: [0, 1, 2, 3, 4, 5, 6, 9, 10, 12, 13, 14, 16, 19], 123: [], 124: [], 125: [8, 18], 126: [], 127: [], 128: [], 129: [], 130: [], 131: [], 132: [], 133: [], 134: [], 135: [], 136: [], 137: [], 138: [7, 11], 139: [], 140: [0, 5], 141: [0, 1, 2, 3, 4, 5, 6, 9, 10, 12, 13, 14, 15, 16, 19], 142: [0, 5], 143: [0, 1, 3, 5, 12, 14], 144: [0, 1, 3, 5, 8, 12, 14, 18], 145: [0, 1, 3, 5, 12, 14], 146: [1, 3, 4, 10, 12, 14, 16], 147: [1, 3, 4, 7, 10, 11, 12, 14, 16], 148: [1, 3, 4, 7, 10, 11, 12, 14, 16], 149: [4, 10, 16], 150: [0, 1, 2, 3, 4, 5, 6, 9, 10, 12, 13, 14, 16, 19], 151: [0, 1, 2, 3, 4, 5, 6, 9, 10, 12, 13, 14, 16, 19], 152: [4, 16, 18], 153: [4, 7, 8, 11, 16, 18], 154: [4, 8, 16, 18], 155: [18], 156: [0, 1, 2, 3, 4, 5, 6, 9, 10, 12, 13, 14, 16, 18, 19], 157: [18], 158: [18], 159: [8, 18], 160: [18], 161: [18], 162: [18], 163: [18], 164: [], 165: [], 166: [], 167: [], 168: [], 169: [], 170: []}\n",
            "Possible Number of Combinations for Group 1 Timeslots: [20021, 4621, 20021, 20021, 1, 20021, 9296, 2421, 9296, 1015, 505, 505, 1915, 1, 1, 6865, 1015, 1915, 45046, 1, 45046, 45046, 9296, 45046, 45046, 45046, 45046, 45046, 45046, 45046, 45046, 45046, 45046, 45046, 9296, 2421, 9296, 3565, 1, 3565, 4720, 1420, 4720, 14015, 3565, 3565, 45046, 1, 1, 45046, 2421, 9296, 45046, 1, 45046, 45046, 9296, 45046, 45046, 45046, 45046, 45046, 45046, 45046, 45046, 45046, 45046, 45046, 45046, 9296, 45046, 45046, 1, 45046, 6865, 1915, 6865, 3565, 1015, 1015, 20021, 1, 1, 45046, 2421, 9296, 45046, 1, 45046, 45046, 9296, 45046, 45046, 45046, 45046, 45046, 45046, 45046, 45046, 45046, 45046, 45046, 6865, 1915, 6865, 6865, 1, 6865, 6865, 1915, 6865, 3565, 1915, 1915, 20021, 1, 1, 45046, 2421, 9296, 45046, 1, 45046, 45046, 9296, 45046, 45046, 45046, 45046, 45046, 45046, 45046, 45046, 45046, 45046, 45046, 45046, 9296, 45046, 14015, 1, 14015, 1651, 506, 1651, 936, 253, 253, 6865, 1, 1, 6865, 1015, 3565, 20021, 1, 20021, 20021, 9296, 20021, 20021, 20021, 20021, 45046, 45046, 45046, 45046, 45046, 45046, 45046]\n"
          ]
        }
      ],
      "source": [
        "generic_columns = column_generation.generic_column_generation(5)\n",
        "group1_feasible_combinations = column_generation.group_column_generation(1, optimal_group1_unavailability, generic_columns)"
      ]
    },
    {
      "cell_type": "markdown",
      "metadata": {
        "id": "XPDmXSbd7yXx"
      },
      "source": [
        "## Optimization Model"
      ]
    },
    {
      "cell_type": "code",
      "execution_count": 4,
      "metadata": {
        "colab": {
          "base_uri": "https://localhost:8080/"
        },
        "id": "4fPDyvmig1PH",
        "outputId": "4744fbb1-d871-4564-b779-a74ee58b787f"
      },
      "outputs": [
        {
          "name": "stdout",
          "output_type": "stream",
          "text": [
            "Set parameter WLSAccessID\n",
            "Set parameter WLSSecret\n",
            "Set parameter LicenseID to value 868440\n",
            "Academic license 868440 - for non-commercial use only - registered to es___@uwaterloo.ca\n",
            "Set parameter Seed to value 435\n"
          ]
        }
      ],
      "source": [
        "# Setup Gurobi key\n",
        "# Create environment with WLS license\n",
        "e = gp.Env(empty=True)\n",
        "e.setParam('WLSACCESSID', '453f2da9-b8f2-448f-9f06-48081a9c3dc9')\n",
        "e.setParam('WLSSECRET', 'd5675c81-7058-45f9-b6f2-30ca3855ed22')\n",
        "e.setParam('LICENSEID', 868440)\n",
        "e.start()\n",
        "\n",
        "# Create the model within the Gurobi environment. This environment will be passed in as a parameter into all subsequent models\n",
        "model = gp.Model(env=e)\n",
        "model.setParam('Seed', 435)"
      ]
    },
    {
      "cell_type": "code",
      "execution_count": 5,
      "metadata": {
        "id": "Ytmz6IwTXDTr"
      },
      "outputs": [],
      "source": [
        "# Sets\n",
        "D = range(1,6)\n",
        "T = range(1,171)\n",
        "T_d = {d : (T[(d-1)*len(T)//len(D):(d)*len(T)//len(D)])for d in D}\n",
        "C = range(1,6)\n",
        "M = range(6,21)\n",
        "I = (*C,*M)\n",
        "H_t = {t : range(1,len(group1_feasible_combinations[t-1])) for t in T}"
      ]
    },
    {
      "cell_type": "code",
      "execution_count": 6,
      "metadata": {
        "id": "uYL_ovYJdWmx"
      },
      "outputs": [],
      "source": [
        "# penalties\n",
        "# separated to make them easier to read\n",
        "# taken from this graph: https://www.desmos.com/calculator/g5rhs6n2ke\n",
        "penalties = [(0,0), (4,4), (8, 11.31), (12, 20.78), (16, 32), (34, 99.13)]\n",
        "Q = range(1,len(penalties)+1)"
      ]
    },
    {
      "cell_type": "code",
      "execution_count": 7,
      "metadata": {
        "id": "zV_lSO51a7nW"
      },
      "outputs": [],
      "source": [
        "# Parameters\n",
        "\n",
        "# need to sort this one out with column generation\n",
        "\n",
        "a = group1_feasible_combinations\n",
        "f = [[sum(a[t-1][h-1]) // 6 for h in H_t[t]] for t in T]\n",
        "n = 8 # Need to inpute\n",
        "u = {q : penalties[q-1][1] for q in Q}\n",
        "v = {q : penalties[q-1][0] for q in Q}\n",
        "w = .001 # Need to inpute"
      ]
    },
    {
      "cell_type": "code",
      "execution_count": 8,
      "metadata": {
        "id": "6OLq1F8Tz1Pw"
      },
      "outputs": [],
      "source": [
        "indices = [(t, h) for t in T for h in H_t[t]]"
      ]
    },
    {
      "cell_type": "code",
      "execution_count": 9,
      "metadata": {
        "id": "IeqEV5qrnB91"
      },
      "outputs": [],
      "source": [
        "# Decision Varbiables\n",
        "alpha = model.addVars(indices, vtype=GRB.BINARY, name=\"alpha\")\n",
        "y = model.addVars(I, D, Q, lb=0.0, ub=1.0, vtype=GRB.CONTINUOUS, name = \"y\")"
      ]
    },
    {
      "cell_type": "code",
      "execution_count": 10,
      "metadata": {},
      "outputs": [],
      "source": [
        "for i in I:\n",
        "    for d in D:\n",
        "        model.addSOS(GRB.SOS_TYPE2, [y[i,d,q] for q in Q])"
      ]
    },
    {
      "cell_type": "code",
      "execution_count": 11,
      "metadata": {
        "id": "hLBoOX3RnUi1"
      },
      "outputs": [],
      "source": [
        "# Objective Value\n",
        "model.setObjective(sum(f[t-1][h-1]*alpha[t,h] for t in T for h in H_t[t]) - w * sum(u[q] * y[i,d,q] for i in I for d in D for q in Q),sense=GRB.MAXIMIZE)"
      ]
    },
    {
      "cell_type": "code",
      "execution_count": 12,
      "metadata": {
        "id": "HurC0aJzn3KJ"
      },
      "outputs": [
        {
          "data": {
            "text/plain": [
              "{(1, 1): <gurobi.Constr *Awaiting Model Update*>,\n",
              " (1, 2): <gurobi.Constr *Awaiting Model Update*>,\n",
              " (1, 3): <gurobi.Constr *Awaiting Model Update*>,\n",
              " (1, 4): <gurobi.Constr *Awaiting Model Update*>,\n",
              " (1, 5): <gurobi.Constr *Awaiting Model Update*>,\n",
              " (2, 1): <gurobi.Constr *Awaiting Model Update*>,\n",
              " (2, 2): <gurobi.Constr *Awaiting Model Update*>,\n",
              " (2, 3): <gurobi.Constr *Awaiting Model Update*>,\n",
              " (2, 4): <gurobi.Constr *Awaiting Model Update*>,\n",
              " (2, 5): <gurobi.Constr *Awaiting Model Update*>,\n",
              " (3, 1): <gurobi.Constr *Awaiting Model Update*>,\n",
              " (3, 2): <gurobi.Constr *Awaiting Model Update*>,\n",
              " (3, 3): <gurobi.Constr *Awaiting Model Update*>,\n",
              " (3, 4): <gurobi.Constr *Awaiting Model Update*>,\n",
              " (3, 5): <gurobi.Constr *Awaiting Model Update*>,\n",
              " (4, 1): <gurobi.Constr *Awaiting Model Update*>,\n",
              " (4, 2): <gurobi.Constr *Awaiting Model Update*>,\n",
              " (4, 3): <gurobi.Constr *Awaiting Model Update*>,\n",
              " (4, 4): <gurobi.Constr *Awaiting Model Update*>,\n",
              " (4, 5): <gurobi.Constr *Awaiting Model Update*>,\n",
              " (5, 1): <gurobi.Constr *Awaiting Model Update*>,\n",
              " (5, 2): <gurobi.Constr *Awaiting Model Update*>,\n",
              " (5, 3): <gurobi.Constr *Awaiting Model Update*>,\n",
              " (5, 4): <gurobi.Constr *Awaiting Model Update*>,\n",
              " (5, 5): <gurobi.Constr *Awaiting Model Update*>,\n",
              " (6, 1): <gurobi.Constr *Awaiting Model Update*>,\n",
              " (6, 2): <gurobi.Constr *Awaiting Model Update*>,\n",
              " (6, 3): <gurobi.Constr *Awaiting Model Update*>,\n",
              " (6, 4): <gurobi.Constr *Awaiting Model Update*>,\n",
              " (6, 5): <gurobi.Constr *Awaiting Model Update*>,\n",
              " (7, 1): <gurobi.Constr *Awaiting Model Update*>,\n",
              " (7, 2): <gurobi.Constr *Awaiting Model Update*>,\n",
              " (7, 3): <gurobi.Constr *Awaiting Model Update*>,\n",
              " (7, 4): <gurobi.Constr *Awaiting Model Update*>,\n",
              " (7, 5): <gurobi.Constr *Awaiting Model Update*>,\n",
              " (8, 1): <gurobi.Constr *Awaiting Model Update*>,\n",
              " (8, 2): <gurobi.Constr *Awaiting Model Update*>,\n",
              " (8, 3): <gurobi.Constr *Awaiting Model Update*>,\n",
              " (8, 4): <gurobi.Constr *Awaiting Model Update*>,\n",
              " (8, 5): <gurobi.Constr *Awaiting Model Update*>,\n",
              " (9, 1): <gurobi.Constr *Awaiting Model Update*>,\n",
              " (9, 2): <gurobi.Constr *Awaiting Model Update*>,\n",
              " (9, 3): <gurobi.Constr *Awaiting Model Update*>,\n",
              " (9, 4): <gurobi.Constr *Awaiting Model Update*>,\n",
              " (9, 5): <gurobi.Constr *Awaiting Model Update*>,\n",
              " (10, 1): <gurobi.Constr *Awaiting Model Update*>,\n",
              " (10, 2): <gurobi.Constr *Awaiting Model Update*>,\n",
              " (10, 3): <gurobi.Constr *Awaiting Model Update*>,\n",
              " (10, 4): <gurobi.Constr *Awaiting Model Update*>,\n",
              " (10, 5): <gurobi.Constr *Awaiting Model Update*>,\n",
              " (11, 1): <gurobi.Constr *Awaiting Model Update*>,\n",
              " (11, 2): <gurobi.Constr *Awaiting Model Update*>,\n",
              " (11, 3): <gurobi.Constr *Awaiting Model Update*>,\n",
              " (11, 4): <gurobi.Constr *Awaiting Model Update*>,\n",
              " (11, 5): <gurobi.Constr *Awaiting Model Update*>,\n",
              " (12, 1): <gurobi.Constr *Awaiting Model Update*>,\n",
              " (12, 2): <gurobi.Constr *Awaiting Model Update*>,\n",
              " (12, 3): <gurobi.Constr *Awaiting Model Update*>,\n",
              " (12, 4): <gurobi.Constr *Awaiting Model Update*>,\n",
              " (12, 5): <gurobi.Constr *Awaiting Model Update*>,\n",
              " (13, 1): <gurobi.Constr *Awaiting Model Update*>,\n",
              " (13, 2): <gurobi.Constr *Awaiting Model Update*>,\n",
              " (13, 3): <gurobi.Constr *Awaiting Model Update*>,\n",
              " (13, 4): <gurobi.Constr *Awaiting Model Update*>,\n",
              " (13, 5): <gurobi.Constr *Awaiting Model Update*>,\n",
              " (14, 1): <gurobi.Constr *Awaiting Model Update*>,\n",
              " (14, 2): <gurobi.Constr *Awaiting Model Update*>,\n",
              " (14, 3): <gurobi.Constr *Awaiting Model Update*>,\n",
              " (14, 4): <gurobi.Constr *Awaiting Model Update*>,\n",
              " (14, 5): <gurobi.Constr *Awaiting Model Update*>,\n",
              " (15, 1): <gurobi.Constr *Awaiting Model Update*>,\n",
              " (15, 2): <gurobi.Constr *Awaiting Model Update*>,\n",
              " (15, 3): <gurobi.Constr *Awaiting Model Update*>,\n",
              " (15, 4): <gurobi.Constr *Awaiting Model Update*>,\n",
              " (15, 5): <gurobi.Constr *Awaiting Model Update*>,\n",
              " (16, 1): <gurobi.Constr *Awaiting Model Update*>,\n",
              " (16, 2): <gurobi.Constr *Awaiting Model Update*>,\n",
              " (16, 3): <gurobi.Constr *Awaiting Model Update*>,\n",
              " (16, 4): <gurobi.Constr *Awaiting Model Update*>,\n",
              " (16, 5): <gurobi.Constr *Awaiting Model Update*>,\n",
              " (17, 1): <gurobi.Constr *Awaiting Model Update*>,\n",
              " (17, 2): <gurobi.Constr *Awaiting Model Update*>,\n",
              " (17, 3): <gurobi.Constr *Awaiting Model Update*>,\n",
              " (17, 4): <gurobi.Constr *Awaiting Model Update*>,\n",
              " (17, 5): <gurobi.Constr *Awaiting Model Update*>,\n",
              " (18, 1): <gurobi.Constr *Awaiting Model Update*>,\n",
              " (18, 2): <gurobi.Constr *Awaiting Model Update*>,\n",
              " (18, 3): <gurobi.Constr *Awaiting Model Update*>,\n",
              " (18, 4): <gurobi.Constr *Awaiting Model Update*>,\n",
              " (18, 5): <gurobi.Constr *Awaiting Model Update*>,\n",
              " (19, 1): <gurobi.Constr *Awaiting Model Update*>,\n",
              " (19, 2): <gurobi.Constr *Awaiting Model Update*>,\n",
              " (19, 3): <gurobi.Constr *Awaiting Model Update*>,\n",
              " (19, 4): <gurobi.Constr *Awaiting Model Update*>,\n",
              " (19, 5): <gurobi.Constr *Awaiting Model Update*>,\n",
              " (20, 1): <gurobi.Constr *Awaiting Model Update*>,\n",
              " (20, 2): <gurobi.Constr *Awaiting Model Update*>,\n",
              " (20, 3): <gurobi.Constr *Awaiting Model Update*>,\n",
              " (20, 4): <gurobi.Constr *Awaiting Model Update*>,\n",
              " (20, 5): <gurobi.Constr *Awaiting Model Update*>}"
            ]
          },
          "execution_count": 12,
          "metadata": {},
          "output_type": "execute_result"
        }
      ],
      "source": [
        "# Constraints\n",
        "model.addConstrs(sum(alpha[t,h] for h in H_t[t]) <= 1 for t in T)\n",
        "model.addConstrs(sum(a[t-1][h-1][i-1]*alpha[t,h] for t in T_d[d] for h in H_t[t]) <= n for i in I for d in D)\n",
        "model.addConstrs(sum(a[t-1][h-1][i-1]*alpha[t,h] for t in T_d[d] for h in H_t[t]) == sum(v[q]*y[i,d,q] for q in Q) for i in I for d in D)\n",
        "model.addConstrs(sum(y[i,d,q] for q in Q) == 1 for i in I for d in D)"
      ]
    },
    {
      "cell_type": "code",
      "execution_count": 13,
      "metadata": {
        "colab": {
          "base_uri": "https://localhost:8080/"
        },
        "id": "ZQzVKDAasC0l",
        "outputId": "325a488e-ab46-4ebb-f472-497b62d63eae"
      },
      "outputs": [
        {
          "name": "stdout",
          "output_type": "stream",
          "text": [
            "Gurobi Optimizer version 11.0.1 build v11.0.1rc0 (mac64[arm] - Darwin 23.4.0 23E224)\n",
            "\n",
            "CPU model: Apple M2\n",
            "Thread count: 8 physical cores, 8 logical processors, using up to 8 threads\n",
            "\n",
            "Academic license 868440 - for non-commercial use only - registered to es___@uwaterloo.ca\n",
            "Optimize a model with 470 rows, 3874066 columns and 79220058 nonzeros\n",
            "Model fingerprint: 0xcda34f52\n",
            "Model has 100 SOS constraints\n",
            "Variable types: 600 continuous, 3873466 integer (3873466 binary)\n",
            "Coefficient statistics:\n",
            "  Matrix range     [1e+00, 3e+01]\n",
            "  Objective range  [4e-03, 2e+00]\n",
            "  Bounds range     [1e+00, 1e+00]\n",
            "  RHS range        [1e+00, 8e+00]\n",
            "Presolve removed 20 rows and 150 columns (presolve time = 6s) ...\n",
            "Presolve removed 20 rows and 150 columns (presolve time = 11s) ...\n",
            "Presolve removed 20 rows and 150 columns (presolve time = 16s) ...\n",
            "Presolve removed 20 rows and 150 columns (presolve time = 20s) ...\n",
            "Presolve removed 20 rows and 150 columns (presolve time = 25s) ...\n",
            "Presolve removed 20 rows and 150 columns (presolve time = 30s) ...\n",
            "Presolve removed 20 rows and 150 columns (presolve time = 35s) ...\n",
            "Presolve removed 20 rows and 150 columns (presolve time = 40s) ...\n",
            "Presolve removed 20 rows and 150 columns (presolve time = 45s) ...\n",
            "Presolve removed 20 rows and 150 columns (presolve time = 50s) ...\n",
            "Presolve removed 20 rows and 150 columns (presolve time = 55s) ...\n",
            "Presolve removed 120 rows and 150 columns (presolve time = 60s) ...\n",
            "Presolve removed 120 rows and 150 columns (presolve time = 65s) ...\n",
            "Presolve removed 120 rows and 150 columns (presolve time = 70s) ...\n",
            "Presolve removed 480 rows and 2946162 columns (presolve time = 201s) ...\n",
            "Presolve removed 480 rows and 2946642 columns (presolve time = 206s) ...\n",
            "Presolve removed 380 rows and 2946542 columns\n",
            "Presolve time: 207.46s\n",
            "Presolved: 90 rows, 927524 columns, 10050824 nonzeros\n",
            "Presolved model has 20 SOS constraint(s)\n",
            "Variable types: 120 continuous, 927404 integer (927384 binary)\n",
            "\n",
            "Root simplex log...\n",
            "\n",
            "Iteration    Objective       Primal Inf.    Dual Inf.      Time\n",
            "       0    1.5521216e+02   9.000000e+01   0.000000e+00    210s\n",
            "     759    1.3242611e+02   1.671343e+02   0.000000e+00    215s\n",
            "    1056    1.1901520e+02   0.000000e+00   0.000000e+00    217s\n",
            "\n",
            "Root relaxation: objective 1.190152e+02, 1056 iterations, 6.89 seconds (23.46 work units)\n",
            "\n",
            "    Nodes    |    Current Node    |     Objective Bounds      |     Work\n",
            " Expl Unexpl |  Obj  Depth IntInf | Incumbent    BestBd   Gap | It/Node Time\n",
            "\n",
            "*    0     0               0     119.0152000  119.01520  0.00%     -  223s\n",
            "\n",
            "Explored 1 nodes (6807 simplex iterations) in 224.34 seconds (425.48 work units)\n",
            "Thread count was 8 (of 8 available processors)\n",
            "\n",
            "Solution count 1: 119.015 \n",
            "\n",
            "Optimal solution found (tolerance 1.00e-04)\n",
            "Best objective 1.190152000000e+02, best bound 1.190152000000e+02, gap 0.0000%\n"
          ]
        }
      ],
      "source": [
        "model.optimize()"
      ]
    },
    {
      "cell_type": "code",
      "execution_count": 15,
      "metadata": {
        "colab": {
          "base_uri": "https://localhost:8080/"
        },
        "id": "46mc9EmDsMA4",
        "outputId": "35b24764-6347-4c47-ca9c-8050fe1a01be"
      },
      "outputs": [
        {
          "name": "stdout",
          "output_type": "stream",
          "text": [
            "3 (1, 0, 0, 0, 1, 1, 1, 0, 1, 1, 0, 1, 1, 1, 0, 0, 1, 1, 0, 1)\n",
            "4 (0, 0, 1, 0, 1, 1, 0, 1, 1, 1, 0, 1, 1, 1, 1, 0, 0, 1, 0, 1)\n",
            "6 (0, 0, 0, 1, 1, 0, 1, 1, 1, 0, 1, 1, 1, 1, 1, 0, 1, 0, 1, 0)\n",
            "7 (0, 0, 0, 1, 1, 0, 1, 1, 1, 1, 1, 0, 1, 0, 1, 1, 1, 0, 1, 0)\n",
            "9 (0, 1, 0, 1, 0, 0, 0, 1, 0, 1, 1, 0, 1, 0, 1, 1, 1, 1, 1, 1)\n",
            "11 (0, 0, 0, 1, 0, 1, 0, 0, 0, 1, 1, 0, 1, 0, 0, 1, 0, 0, 0, 0)\n",
            "12 (1, 0, 0, 0, 0, 0, 0, 0, 0, 1, 1, 0, 1, 0, 1, 0, 0, 0, 0, 1)\n",
            "18 (0, 1, 0, 0, 0, 1, 1, 0, 0, 0, 0, 0, 0, 1, 0, 1, 0, 0, 0, 1)\n",
            "21 (0, 0, 0, 0, 1, 0, 1, 0, 1, 0, 0, 1, 0, 0, 0, 0, 1, 0, 1, 0)\n",
            "23 (0, 1, 0, 0, 1, 1, 1, 1, 0, 1, 1, 1, 1, 1, 0, 1, 0, 1, 0, 0)\n",
            "24 (0, 0, 0, 0, 1, 1, 1, 0, 0, 0, 0, 0, 0, 0, 0, 1, 1, 0, 0, 1)\n",
            "25 (1, 0, 0, 0, 0, 0, 0, 1, 1, 0, 0, 1, 0, 0, 0, 0, 0, 1, 0, 1)\n",
            "28 (1, 0, 0, 0, 0, 0, 0, 0, 1, 0, 0, 0, 0, 1, 1, 0, 0, 1, 1, 0)\n",
            "29 (0, 0, 1, 0, 0, 0, 1, 1, 0, 0, 0, 1, 0, 0, 0, 0, 0, 1, 1, 0)\n",
            "30 (0, 1, 1, 0, 0, 1, 0, 0, 1, 0, 1, 0, 0, 1, 1, 1, 1, 1, 1, 1)\n",
            "34 (0, 0, 1, 0, 1, 1, 0, 1, 0, 1, 1, 1, 0, 1, 1, 1, 1, 0, 1, 0)\n",
            "35 (0, 0, 0, 1, 1, 1, 1, 1, 1, 1, 1, 1, 0, 1, 1, 0, 0, 0, 1, 0)\n",
            "37 (0, 0, 0, 0, 1, 1, 1, 1, 0, 0, 0, 0, 0, 0, 1, 0, 1, 0, 0, 0)\n",
            "38 (0, 1, 0, 0, 0, 0, 0, 0, 0, 0, 1, 1, 0, 1, 1, 0, 1, 0, 0, 0)\n",
            "41 (0, 1, 1, 0, 0, 0, 1, 1, 1, 1, 1, 1, 1, 1, 0, 1, 0, 0, 1, 0)\n",
            "43 (0, 0, 0, 0, 1, 0, 0, 0, 0, 1, 0, 1, 1, 0, 0, 1, 0, 1, 0, 0)\n",
            "50 (0, 0, 1, 1, 0, 1, 1, 1, 0, 0, 1, 1, 0, 1, 1, 1, 0, 1, 1, 0)\n",
            "53 (1, 0, 0, 0, 0, 1, 0, 1, 0, 0, 0, 0, 0, 0, 0, 1, 0, 0, 1, 1)\n",
            "55 (0, 1, 0, 0, 0, 0, 0, 0, 1, 0, 0, 0, 0, 1, 1, 0, 1, 0, 0, 1)\n",
            "56 (0, 1, 1, 0, 0, 0, 0, 1, 1, 1, 0, 0, 1, 1, 1, 0, 1, 1, 1, 1)\n",
            "58 (1, 1, 0, 0, 0, 1, 1, 1, 0, 0, 1, 1, 0, 0, 0, 1, 1, 1, 1, 1)\n",
            "59 (0, 0, 0, 1, 1, 1, 1, 0, 1, 0, 1, 1, 1, 1, 0, 0, 0, 1, 1, 1)\n",
            "62 (0, 0, 0, 1, 0, 0, 0, 0, 0, 1, 0, 0, 1, 1, 1, 0, 1, 0, 0, 0)\n",
            "64 (1, 0, 0, 0, 0, 0, 0, 0, 1, 1, 0, 0, 0, 0, 0, 0, 1, 1, 0, 1)\n",
            "65 (1, 0, 1, 0, 0, 1, 1, 1, 1, 1, 1, 1, 1, 0, 0, 1, 0, 0, 1, 0)\n",
            "66 (0, 0, 1, 0, 0, 0, 0, 0, 0, 0, 0, 0, 1, 0, 0, 1, 1, 1, 0, 1)\n",
            "67 (0, 1, 0, 1, 0, 1, 1, 0, 1, 1, 1, 0, 1, 0, 1, 1, 0, 1, 0, 1)\n",
            "69 (0, 0, 0, 1, 0, 1, 1, 1, 0, 0, 0, 0, 0, 0, 0, 1, 0, 0, 1, 0)\n",
            "72 (0, 1, 0, 1, 0, 0, 0, 0, 1, 1, 0, 1, 1, 1, 0, 1, 1, 1, 1, 1)\n",
            "74 (1, 0, 0, 0, 0, 0, 1, 1, 1, 0, 0, 0, 0, 0, 0, 0, 0, 1, 1, 0)\n",
            "76 (0, 0, 0, 1, 0, 1, 1, 0, 0, 1, 0, 0, 0, 0, 0, 0, 1, 1, 0, 0)\n",
            "87 (0, 1, 1, 0, 0, 1, 1, 1, 0, 1, 1, 1, 1, 1, 0, 1, 0, 0, 0, 1)\n",
            "89 (0, 0, 1, 1, 0, 1, 1, 0, 1, 1, 1, 0, 1, 1, 1, 0, 1, 0, 0, 1)\n",
            "91 (0, 1, 1, 0, 0, 1, 0, 1, 0, 1, 1, 1, 1, 0, 1, 1, 1, 1, 0, 0)\n",
            "93 (0, 0, 1, 0, 1, 1, 0, 1, 1, 0, 1, 0, 1, 0, 1, 1, 0, 1, 1, 1)\n",
            "94 (1, 0, 0, 1, 0, 0, 0, 0, 1, 0, 1, 1, 1, 1, 1, 1, 0, 1, 1, 1)\n",
            "95 (0, 1, 0, 1, 0, 0, 1, 1, 0, 1, 1, 1, 0, 1, 1, 0, 1, 0, 1, 1)\n",
            "97 (0, 0, 0, 1, 1, 1, 1, 0, 1, 1, 1, 1, 0, 1, 1, 0, 0, 0, 1, 1)\n",
            "98 (1, 0, 0, 0, 1, 1, 0, 0, 0, 0, 1, 1, 1, 1, 1, 1, 1, 1, 0, 1)\n",
            "99 (0, 0, 0, 1, 0, 0, 1, 1, 1, 0, 0, 0, 1, 0, 0, 0, 1, 0, 0, 0)\n",
            "101 (1, 0, 0, 0, 1, 0, 0, 1, 1, 1, 0, 1, 0, 1, 1, 1, 1, 1, 1, 0)\n",
            "106 (0, 0, 0, 0, 1, 1, 1, 0, 1, 0, 0, 0, 0, 0, 0, 1, 1, 0, 0, 0)\n",
            "108 (0, 1, 0, 0, 0, 1, 0, 0, 1, 0, 0, 0, 0, 1, 1, 0, 0, 0, 1, 0)\n",
            "109 (1, 0, 0, 0, 0, 1, 0, 1, 1, 0, 0, 0, 0, 1, 0, 0, 0, 0, 1, 0)\n",
            "111 (0, 1, 0, 0, 0, 0, 0, 1, 1, 0, 1, 0, 0, 0, 0, 0, 0, 0, 1, 1)\n",
            "112 (1, 0, 0, 0, 0, 0, 0, 0, 0, 0, 1, 0, 0, 0, 1, 0, 1, 1, 0, 1)\n",
            "115 (0, 0, 0, 1, 0, 0, 0, 0, 0, 1, 0, 1, 0, 1, 1, 0, 0, 0, 0, 1)\n",
            "118 (1, 1, 0, 0, 0, 0, 1, 0, 1, 1, 1, 1, 1, 1, 0, 0, 1, 0, 1, 1)\n",
            "120 (1, 0, 0, 0, 0, 1, 0, 0, 0, 0, 1, 1, 1, 1, 0, 0, 0, 0, 0, 0)\n",
            "121 (0, 1, 0, 0, 1, 1, 1, 0, 0, 1, 1, 0, 1, 0, 1, 0, 1, 1, 1, 1)\n",
            "124 (0, 0, 0, 0, 1, 1, 0, 0, 0, 0, 1, 0, 1, 0, 0, 0, 0, 1, 1, 0)\n",
            "125 (0, 0, 1, 0, 1, 0, 1, 1, 0, 1, 0, 1, 1, 0, 1, 1, 1, 1, 0, 1)\n",
            "126 (0, 0, 1, 0, 0, 0, 0, 1, 0, 1, 0, 0, 1, 0, 0, 1, 1, 0, 0, 0)\n",
            "129 (1, 0, 0, 1, 0, 0, 1, 1, 1, 1, 0, 1, 0, 1, 1, 1, 1, 1, 0, 0)\n",
            "130 (1, 0, 0, 0, 0, 0, 0, 0, 0, 1, 1, 0, 1, 0, 0, 1, 0, 1, 0, 0)\n",
            "131 (1, 0, 0, 1, 0, 0, 1, 1, 1, 1, 0, 1, 0, 1, 1, 1, 1, 0, 0, 1)\n",
            "132 (0, 0, 1, 0, 0, 1, 0, 1, 0, 0, 1, 1, 0, 0, 1, 0, 0, 0, 0, 0)\n",
            "135 (1, 0, 0, 0, 0, 0, 1, 0, 0, 0, 0, 0, 1, 0, 0, 1, 0, 1, 1, 0)\n",
            "136 (0, 0, 1, 1, 0, 1, 1, 1, 1, 0, 0, 1, 0, 1, 0, 1, 0, 1, 1, 1)\n",
            "138 (0, 0, 0, 0, 1, 1, 0, 0, 1, 0, 0, 0, 0, 0, 0, 0, 1, 1, 1, 0)\n",
            "139 (0, 1, 0, 1, 0, 1, 1, 1, 1, 1, 1, 0, 1, 0, 1, 1, 1, 0, 0, 0)\n",
            "140 (0, 1, 0, 0, 0, 0, 0, 0, 1, 0, 1, 1, 0, 0, 0, 0, 0, 1, 0, 1)\n",
            "142 (0, 1, 1, 0, 0, 0, 1, 1, 1, 1, 1, 1, 1, 0, 1, 1, 0, 1, 0, 0)\n",
            "144 (0, 0, 0, 0, 1, 0, 0, 0, 0, 0, 0, 1, 0, 1, 0, 0, 1, 1, 0, 1)\n",
            "146 (1, 0, 0, 0, 0, 0, 1, 1, 0, 1, 0, 0, 0, 1, 0, 0, 0, 0, 1, 0)\n",
            "147 (0, 0, 1, 0, 0, 1, 0, 0, 1, 0, 0, 0, 0, 1, 0, 1, 0, 0, 1, 0)\n",
            "148 (1, 0, 0, 0, 0, 1, 1, 0, 0, 1, 0, 0, 0, 1, 0, 0, 0, 0, 0, 1)\n",
            "154 (1, 1, 0, 0, 0, 1, 1, 1, 0, 1, 1, 1, 1, 0, 1, 1, 0, 1, 0, 0)\n",
            "158 (0, 0, 0, 1, 0, 0, 0, 1, 1, 0, 0, 0, 0, 0, 0, 1, 1, 0, 0, 1)\n",
            "159 (0, 0, 0, 1, 0, 0, 0, 0, 0, 1, 1, 1, 0, 0, 0, 1, 1, 0, 0, 0)\n",
            "160 (1, 0, 0, 0, 0, 0, 1, 0, 0, 1, 0, 1, 1, 0, 0, 0, 0, 0, 0, 1)\n",
            "161 (0, 0, 0, 1, 0, 0, 0, 0, 1, 0, 0, 0, 1, 0, 1, 1, 1, 0, 0, 0)\n",
            "162 (0, 0, 1, 0, 0, 0, 1, 0, 0, 0, 1, 1, 0, 1, 0, 0, 0, 1, 0, 0)\n",
            "164 (0, 0, 1, 0, 0, 0, 0, 1, 0, 0, 0, 0, 0, 1, 1, 0, 0, 1, 1, 0)\n",
            "165 (0, 0, 0, 0, 1, 1, 0, 0, 0, 0, 1, 0, 1, 0, 0, 1, 1, 0, 0, 0)\n",
            "166 (1, 0, 0, 0, 0, 1, 0, 1, 0, 0, 0, 0, 0, 0, 1, 0, 0, 1, 1, 0)\n",
            "168 (1, 0, 0, 0, 0, 0, 0, 0, 1, 1, 0, 0, 1, 0, 0, 0, 0, 0, 1, 1)\n",
            "169 (0, 0, 0, 0, 1, 0, 1, 0, 0, 0, 0, 0, 0, 1, 1, 0, 0, 0, 1, 1)\n",
            "170 (1, 0, 1, 0, 0, 1, 0, 1, 0, 0, 1, 1, 1, 1, 1, 0, 1, 0, 1, 1)\n"
          ]
        }
      ],
      "source": [
        "filename = \"../data/optimal_groups_basic_model/group1_results.txt\"\n",
        "with open(filename, \"w\") as file:\n",
        "  for t in T:\n",
        "    for h in H_t[t]:\n",
        "      if alpha[t,h].X == 1:\n",
        "        file.write(f\"{t} {a[t-1][h-1]}\\n\")\n",
        "        print(t, a[t-1][h-1])\n"
      ]
    },
    {
      "cell_type": "code",
      "execution_count": 16,
      "metadata": {},
      "outputs": [
        {
          "name": "stdout",
          "output_type": "stream",
          "text": [
            "0.0\n"
          ]
        }
      ],
      "source": [
        "print(sum(alpha[1,h].X for h in H_t[1]))"
      ]
    }
  ],
  "metadata": {
    "colab": {
      "provenance": []
    },
    "kernelspec": {
      "display_name": "Python 3",
      "name": "python3"
    },
    "language_info": {
      "codemirror_mode": {
        "name": "ipython",
        "version": 3
      },
      "file_extension": ".py",
      "mimetype": "text/x-python",
      "name": "python",
      "nbconvert_exporter": "python",
      "pygments_lexer": "ipython3",
      "version": "3.12.0"
    }
  },
  "nbformat": 4,
  "nbformat_minor": 0
}
