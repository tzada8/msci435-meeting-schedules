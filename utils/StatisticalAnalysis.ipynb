{
 "cells": [
  {
   "cell_type": "code",
   "execution_count": 1,
   "metadata": {},
   "outputs": [],
   "source": [
    "import pandas as pd"
   ]
  },
  {
   "cell_type": "code",
   "execution_count": 2,
   "metadata": {},
   "outputs": [],
   "source": [
    "# Number of Chairs\n",
    "NOC = 10\n",
    "# Number of Members\n",
    "NOM = 30"
   ]
  },
  {
   "cell_type": "code",
   "execution_count": 3,
   "metadata": {},
   "outputs": [],
   "source": [
    "def parse_line(raw_line):\n",
    "    timeslot_s, schedule_s = raw_line.split('(')\n",
    "    timeslot = int(timeslot_s)\n",
    "    schedule = [int(x) for x in schedule_s.replace(')\\n','').split(',')]\n",
    "    return timeslot, schedule\n",
    "    "
   ]
  },
  {
   "cell_type": "code",
   "execution_count": 4,
   "metadata": {},
   "outputs": [
    {
     "name": "stdout",
     "output_type": "stream",
     "text": [
      "     0   1   2   3   4   5   6   7   8   9   ...  30  31  32  33  34  35  36  \\\n",
      "1     0   0   1   0   0   0   0   0   0   0  ...   0   0   0   0   0   0   0   \n",
      "2     0   0   0   0   1   0   0   0   0   0  ...   0   0   0   0   0   0   0   \n",
      "3     1   0   0   1   0   0   0   0   0   0  ...   0   0   0   0   0   0   0   \n",
      "4     0   0   0   0   1   0   0   0   0   0  ...   0   0   0   0   0   0   0   \n",
      "7     1   0   0   0   1   0   0   0   0   0  ...   0   0   0   0   0   0   0   \n",
      "..   ..  ..  ..  ..  ..  ..  ..  ..  ..  ..  ...  ..  ..  ..  ..  ..  ..  ..   \n",
      "165   0   0   0   1   0   0   0   0   0   0  ...   0   0   0   0   0   0   0   \n",
      "166   0   0   0   0   1   0   0   0   0   0  ...   0   0   0   0   0   0   0   \n",
      "167   1   0   0   0   0   0   0   1   0   0  ...   0   0   1   1   0   1   0   \n",
      "168   0   0   1   0   0   1   0   0   0   1  ...   1   1   0   1   1   1   1   \n",
      "170   1   1   0   0   0   0   0   1   0   0  ...   1   0   0   0   1   1   0   \n",
      "\n",
      "     37  38  39  \n",
      "1     0   0   0  \n",
      "2     0   0   0  \n",
      "3     0   0   0  \n",
      "4     0   0   0  \n",
      "7     0   0   0  \n",
      "..   ..  ..  ..  \n",
      "165   0   0   0  \n",
      "166   0   0   0  \n",
      "167   0   0   0  \n",
      "168   0   1   0  \n",
      "170   0   1   0  \n",
      "\n",
      "[127 rows x 40 columns]\n"
     ]
    }
   ],
   "source": [
    "ts_list = []\n",
    "sched_list = []\n",
    "\n",
    "with open('../data/group1_results.txt', 'r') as f:\n",
    "    with open('../data/group2_results.txt', 'r') as g:\n",
    "        line1 = f.readline()\n",
    "        line2 = g.readline()\n",
    "        while line1 != '' and line2 != '':\n",
    "            # print(\"h\",line1)\n",
    "            # print(\"g\",line2)\n",
    "            ts1, sc1 = parse_line(line1)\n",
    "            ts2, sc2, = parse_line(line2)\n",
    "\n",
    "            nt = min(ts1, ts2)\n",
    "            ns = []\n",
    "            if ts1 == nt:\n",
    "                ns += sc1\n",
    "                line1 = f.readline()\n",
    "            else:\n",
    "                ns += [0]*20\n",
    "            if ts2 == nt:\n",
    "                ns += sc2\n",
    "                line2 = g.readline()\n",
    "            else:\n",
    "                ns += [0]*20\n",
    "            # print(nt, ns)\n",
    "            ts_list.append(nt)\n",
    "            sched_list.append(ns[0:5]+ns[20:25]+ns[5:20]+ns[25:40])\n",
    "\n",
    "schedule_df = pd.DataFrame(data=sched_list, index=ts_list)\n",
    "print(schedule_df)"
   ]
  },
  {
   "cell_type": "code",
   "execution_count": 5,
   "metadata": {},
   "outputs": [],
   "source": [
    "# ts_list = []\n",
    "# sched_list = []\n",
    "\n",
    "# with open('group1_results.txt', 'r') as f:\n",
    "#     for line in f:\n",
    "#         timeslot_s, schedule_s = line.split('(')\n",
    "#         timeslot = int(timeslot_s)\n",
    "#         schedule = [int(x) for x in schedule_s.replace(')\\n','').split(',')]\n",
    "#         ts_list.append(timeslot)\n",
    "#         sched_list.append(schedule)\n",
    "\n",
    "# schedule_df = pd.DataFrame(data=sched_list, index=ts_list)\n",
    "# print(schedule_df)"
   ]
  },
  {
   "cell_type": "code",
   "execution_count": 21,
   "metadata": {},
   "outputs": [
    {
     "name": "stdout",
     "output_type": "stream",
     "text": [
      "240\n"
     ]
    }
   ],
   "source": [
    "allsum = 0\n",
    "for j in schedule_df.columns:\n",
    "    allsum += sum(schedule_df[j])\n",
    "\n",
    "total_meetings = allsum//6\n",
    "print(total_meetings)"
   ]
  },
  {
   "cell_type": "code",
   "execution_count": 10,
   "metadata": {},
   "outputs": [
    {
     "name": "stdout",
     "output_type": "stream",
     "text": [
      "The chairs of this model have a total average of 24.00 meetings with a standard deviation of 3.30 giving a coefficient of variation of 0.14\n",
      "The members of this model have a total average of 40.00 meetings with a standard deviation of 0.00 giving a coefficient of variation of 0.00\n"
     ]
    }
   ],
   "source": [
    "ctm = schedule_df.iloc[:,0:NOC].sum().mean()\n",
    "ctsd = schedule_df.iloc[:,0:NOC].sum().std()\n",
    "ctcv = ctsd/ctm\n",
    "mtm = schedule_df.iloc[:,NOC:(NOC+NOM)].sum().mean()\n",
    "mtsd = schedule_df.iloc[:,NOC:(NOC+NOM)].sum().std()\n",
    "mtcv = mtsd/mtm\n",
    "\n",
    "print(f'The chairs of this model have a total average of {ctm:.2f} meetings with a standard deviation of {ctsd:.2f} giving a coefficient of variation of {ctcv:.2f}')\n",
    "print(f'The members of this model have a total average of {mtm:.2f} meetings with a standard deviation of {mtsd:.2f} giving a coefficient of variation of {mtcv:.2f}')\n",
    "\n"
   ]
  },
  {
   "cell_type": "code",
   "execution_count": 12,
   "metadata": {},
   "outputs": [
    {
     "name": "stdout",
     "output_type": "stream",
     "text": [
      "The chairs of this model have an average of 4.92 meetings per day, with a standard deviation of 0.69 giving a coefficient of variation of 0.14\n",
      "The members of this model have an average of 8.20 meetings per day, with a standard deviation of 0.20  giving a coefficient of variation of 0.02\n"
     ]
    }
   ],
   "source": [
    "\n",
    "day_list = [schedule_df.loc[34*i+1:34*(i+1)+1,:].sum() for i in range(5)]\n",
    "\n",
    "day_total = pd.DataFrame(data=day_list)\n",
    "\n",
    "cdm = day_total.iloc[:,0:NOC].mean().mean()\n",
    "cdsd = day_total.iloc[:,0:NOC].mean().std()\n",
    "cdcv = cdsd/cdm\n",
    "mdm = day_total.iloc[:,NOC:(NOC+NOM)].mean().mean()\n",
    "mdsd = day_total.iloc[:,NOC:(NOC+NOM)].mean().std()\n",
    "mdcv = mdsd/mdm\n",
    "\n",
    "\n",
    "print(f'The chairs of this model have an average of {cdm:.2f} meetings per day, with a standard deviation of {cdsd:.2f} giving a coefficient of variation of {cdcv:.2f}')\n",
    "print(f'The members of this model have an average of {mdm:.2f} meetings per day, with a standard deviation of {mdsd:.2f}  giving a coefficient of variation of {mdcv:.2f}')\n"
   ]
  },
  {
   "cell_type": "code",
   "execution_count": 23,
   "metadata": {},
   "outputs": [
    {
     "name": "stdout",
     "output_type": "stream",
     "text": [
      "0.015833333333333335\n",
      "0.042083333333333334\n"
     ]
    }
   ],
   "source": [
    "R = range(1,170)\n",
    "cm = 0\n",
    "mm = 0\n",
    "for r in R:\n",
    "    for i in schedule_df.columns:\n",
    "        if i < 10 and r in schedule_df.index and r+1 in schedule_df.index and schedule_df.loc[r,i] == 1 and schedule_df.loc[r,i] - schedule_df.loc[r+1,i] == 0:\n",
    "            cm+= 1\n",
    "        elif r in schedule_df.index and r+1 in schedule_df.index and schedule_df.loc[r,i] == 1 and schedule_df.loc[r,i] - schedule_df.loc[r+1,i] == 0:\n",
    "            mm+=1\n",
    "print(cm/(total_meetings*NOC))\n",
    "print(mm/(total_meetings*NOM))"
   ]
  },
  {
   "cell_type": "code",
   "execution_count": 9,
   "metadata": {},
   "outputs": [
    {
     "data": {
      "text/plain": [
       "0"
      ]
     },
     "execution_count": 9,
     "metadata": {},
     "output_type": "execute_result"
    }
   ],
   "source": [
    "schedule_df.loc[95,5]"
   ]
  }
 ],
 "metadata": {
  "kernelspec": {
   "display_name": "Python 3",
   "language": "python",
   "name": "python3"
  },
  "language_info": {
   "codemirror_mode": {
    "name": "ipython",
    "version": 3
   },
   "file_extension": ".py",
   "mimetype": "text/x-python",
   "name": "python",
   "nbconvert_exporter": "python",
   "pygments_lexer": "ipython3",
   "version": "3.9.4"
  }
 },
 "nbformat": 4,
 "nbformat_minor": 2
}
