{
 "cells": [
  {
   "cell_type": "code",
   "execution_count": 1,
   "metadata": {},
   "outputs": [],
   "source": [
    "import pandas as pd"
   ]
  },
  {
   "cell_type": "code",
   "execution_count": 2,
   "metadata": {},
   "outputs": [],
   "source": [
    "# Number of Chairs\n",
    "NOC = 5\n",
    "# Number of Members\n",
    "NOM = 15"
   ]
  },
  {
   "cell_type": "code",
   "execution_count": 5,
   "metadata": {},
   "outputs": [
    {
     "name": "stdout",
     "output_type": "stream",
     "text": [
      "     0   1   2   3   4   5   6   7   8   9   10  11  12  13  14  15  16  17  \\\n",
      "1     0   0   1   0   0   0   0   0   0   0   1   0   0   1   0   0   1   0   \n",
      "2     0   0   0   0   1   0   0   1   1   0   0   0   0   0   0   0   1   0   \n",
      "3     1   0   0   1   0   1   1   1   1   1   1   1   1   0   1   0   0   1   \n",
      "4     0   0   0   0   1   0   1   0   1   1   0   0   0   1   0   1   0   0   \n",
      "7     1   0   0   0   1   0   1   1   1   0   1   0   1   0   1   0   1   1   \n",
      "..   ..  ..  ..  ..  ..  ..  ..  ..  ..  ..  ..  ..  ..  ..  ..  ..  ..  ..   \n",
      "165   0   0   0   1   0   0   0   1   1   1   1   0   0   0   0   0   1   0   \n",
      "166   0   0   0   0   1   1   0   0   1   1   0   0   0   0   1   0   0   0   \n",
      "167   1   0   0   0   0   1   0   0   0   0   1   0   0   0   0   1   0   0   \n",
      "168   0   0   1   0   0   0   0   0   0   0   0   1   0   0   0   1   0   1   \n",
      "170   1   1   0   0   0   1   1   0   0   0   0   1   1   0   1   1   1   1   \n",
      "\n",
      "     18  19  \n",
      "1     1   1  \n",
      "2     1   1  \n",
      "3     0   0  \n",
      "4     0   0  \n",
      "7     1   1  \n",
      "..   ..  ..  \n",
      "165   0   0  \n",
      "166   0   1  \n",
      "167   1   1  \n",
      "168   1   1  \n",
      "170   1   1  \n",
      "\n",
      "[93 rows x 20 columns]\n"
     ]
    }
   ],
   "source": [
    "ts_list = []\n",
    "sched_list = []\n",
    "\n",
    "with open('../data/group1_results.txt', 'r') as f:\n",
    "    for line in f:\n",
    "        timeslot_s, schedule_s = line.split('(')\n",
    "        timeslot = int(timeslot_s)\n",
    "        schedule = [int(x) for x in schedule_s.replace(')\\n','').split(',')]\n",
    "        ts_list.append(timeslot)\n",
    "        sched_list.append(schedule)\n",
    "\n",
    "schedule_df = pd.DataFrame(data=sched_list, index=ts_list)\n",
    "print(schedule_df)"
   ]
  },
  {
   "cell_type": "code",
   "execution_count": 6,
   "metadata": {},
   "outputs": [
    {
     "name": "stdout",
     "output_type": "stream",
     "text": [
      "The chairs of this model have a total average of 24.00 meetings with a standard deviation of 3.16\n",
      "The members of this model have a total average of 40.00 meetings with a standard deviation of 0.00\n"
     ]
    }
   ],
   "source": [
    "print(f'The chairs of this model have a total average of {schedule_df.iloc[:,0:NOC].sum().mean():.2f} meetings with a standard deviation of {schedule_df.iloc[:,0:NOC].sum().std():.2f}')\n",
    "print(f'The members of this model have a total average of {schedule_df.iloc[:,NOC:(NOC+NOM)].sum().mean():.2f} meetings with a standard deviation of {schedule_df.iloc[:,NOC:(NOC+NOM)].sum().std():.2f}')\n",
    "\n"
   ]
  },
  {
   "cell_type": "code",
   "execution_count": 7,
   "metadata": {},
   "outputs": [
    {
     "name": "stdout",
     "output_type": "stream",
     "text": [
      "The chairs of this model have an average of 5.00 meetings per day, with a standard deviation of 1.19\n",
      "The members of this model have an average of 8.33 meetings per day, with a standard deviation of 0.47\n"
     ]
    }
   ],
   "source": [
    "\n",
    "day_list = [schedule_df.loc[34*i+1:34*(i+1)+1,:].sum() for i in range(5)]\n",
    "\n",
    "day_total = pd.DataFrame(data=day_list)\n",
    "print(f'The chairs of this model have an average of {day_total.iloc[:,0:NOC].mean().mean():.2f} meetings per day, with a standard deviation of {day_total.iloc[:,0:NOC].std().mean():.2f}')\n",
    "print(f'The members of this model have an average of {day_total.iloc[:,NOC:(NOC+NOM)].mean().mean():.2f} meetings per day, with a standard deviation of {day_total.iloc[:,NOC:(NOC+NOM)].std().mean():.2f}')\n"
   ]
  },
  {
   "cell_type": "code",
   "execution_count": 41,
   "metadata": {},
   "outputs": [
    {
     "name": "stdout",
     "output_type": "stream",
     "text": [
      "158\n"
     ]
    }
   ],
   "source": [
    "R = range(1,170)\n",
    "cm = 0\n",
    "for r in R:\n",
    "    for i in schedule_df.columns:\n",
    "        if r in schedule_df.index and r+1 in schedule_df.index and schedule_df.loc[r,i] == 1 and schedule_df.loc[r,i] - schedule_df.loc[r+1,i] == 0:\n",
    "            cm+= 1\n",
    "print(f'There are a total of {cm} adjacent meetings pairs in this schedule')\n",
    "   
   ]
  },
  {
   "cell_type": "code",
   "execution_count": 39,
   "metadata": {},
   "outputs": [
    {
     "data": {
      "text/plain": [
       "1"
      ]
     },
     "execution_count": 39,
     "metadata": {},
     "output_type": "execute_result"
    }
   ],
   "source": [
    "schedule_df.loc[95,5]"
   ]
  }
 ],
 "metadata": {
  "kernelspec": {
   "display_name": "Python 3",
   "language": "python",
   "name": "python3"
  },
  "language_info": {
   "codemirror_mode": {
    "name": "ipython",
    "version": 3
   },
   "file_extension": ".py",
   "mimetype": "text/x-python",
   "name": "python",
   "nbconvert_exporter": "python",
   "pygments_lexer": "ipython3",
   "version": "3.9.4"
  }
 },
 "nbformat": 4,
 "nbformat_minor": 2
}
