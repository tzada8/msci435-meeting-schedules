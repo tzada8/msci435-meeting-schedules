{
  "cells": [
    {
      "cell_type": "markdown",
      "metadata": {},
      "source": [
        "## Import Packages"
      ]
    },
    {
      "cell_type": "code",
      "execution_count": 1,
      "metadata": {},
      "outputs": [],
      "source": [
        "import matplotlib.pyplot as plt\n",
        "import sys\n",
        "sys.path.insert(0, \"../utils\")\n",
        "\n",
        "from timeslots import timeslot_times\n",
        "import utils_functions\n",
        "from unavailability import group1_chairs, group1_members, group1_est_unavailability, group2_chairs, group2_members, group2_est_unavailability"
      ]
    },
    {
      "cell_type": "markdown",
      "metadata": {},
      "source": [
        "## Import Optimal Data"
      ]
    },
    {
      "cell_type": "code",
      "execution_count": 2,
      "metadata": {},
      "outputs": [],
      "source": [
        "group1_optimal = utils_functions.read_optimal_txt(\"../data/group1_results.txt\")\n",
        "group2_optimal = utils_functions.read_optimal_txt(\"../data/group2_results.txt\")"
      ]
    },
    {
      "cell_type": "code",
      "execution_count": 3,
      "metadata": {},
      "outputs": [],
      "source": [
        "# Table Colours.\n",
        "header_grey = \"#ADADAD\"\n",
        "break_grey = \"#D3D3D3\""
      ]
    },
    {
      "cell_type": "markdown",
      "metadata": {},
      "source": [
        "## Schedule Generator Functions"
      ]
    },
    {
      "cell_type": "code",
      "execution_count": 23,
      "metadata": {},
      "outputs": [],
      "source": [
        "# Creates table mapping for a person.\n",
        "def person_availability_mapping(optimal_sol, person_index, group_unavailability):\n",
        "    person_availability = {}\n",
        "    person_busy = group_unavailability[person_index]\n",
        "\n",
        "    for pattern in optimal_sol:\n",
        "        if pattern[1][person_index] == 1:\n",
        "            person_availability[pattern[0]] = (\"Meeting\", \"red\")\n",
        "\n",
        "    personal_busy = utils_functions.calculate_unavailability([[person_busy[0]]])\n",
        "    for slot in personal_busy[0]:\n",
        "        person_availability[slot] = (\"Busy\", \"yellow\")\n",
        "\n",
        "    break_busy = utils_functions.calculate_unavailability([[person_busy[1], person_busy[2]]])\n",
        "    for slot in break_busy[0]:\n",
        "        person_availability[slot] = (\"BREAK\", break_grey)\n",
        "\n",
        "    lunch_busy = utils_functions.calculate_unavailability([[person_busy[3]]])\n",
        "    for slot in lunch_busy[0]:\n",
        "        person_availability[slot] = (\"LUNCH\", break_grey)\n",
        "\n",
        "    for time in range(1, 171):\n",
        "        if time not in person_availability:\n",
        "            person_availability[time] = (None, \"white\")\n",
        "    return person_availability"
      ]
    },
    {
      "cell_type": "code",
      "execution_count": 25,
      "metadata": {},
      "outputs": [],
      "source": [
        "# Setup table data for a person.\n",
        "def setup_table_schedule(person_title, availability):\n",
        "    table_data = [\n",
        "        [(person_title, \"white\"), (\"Monday\", header_grey), (\"Tuesday\", header_grey), (\"Wednesday\", header_grey), (\"Thursday\", header_grey), (\"Friday\", header_grey)],\n",
        "    ]\n",
        "    for i, time in enumerate(timeslot_times):\n",
        "        row_data = [(time, header_grey)]\n",
        "        for day in range(0, 5):\n",
        "            cell = (i + 1) + (day * len(timeslot_times))\n",
        "            row_data.append(availability[cell])\n",
        "        table_data.append(row_data)\n",
        "    return table_data"
      ]
    },
    {
      "cell_type": "code",
      "execution_count": 26,
      "metadata": {},
      "outputs": [],
      "source": [
        "# Save schedules as images.\n",
        "def save_group_schedules(group_people, optimal_sol, group_unavailability):\n",
        "    for i, person in enumerate(group_people):\n",
        "        person_title = f\"Chair {person}\" if i < 5 else f\"Member {person}\"\n",
        "        person_availability = person_availability_mapping(optimal_sol, i, group_unavailability)\n",
        "        table_data = setup_table_schedule(person_title, person_availability)\n",
        "        text_data = [[cell[0] for cell in row] for row in table_data]\n",
        "        colour_data = [[cell[1] for cell in row] for row in table_data]\n",
        "\n",
        "        # Save schedule.\n",
        "        fig, ax = plt.subplots(figsize=(8, 6))\n",
        "        ax.axis(\"off\")\n",
        "        table = ax.table(cellText=text_data, cellColours=colour_data, loc=\"center\", cellLoc=\"center\")\n",
        "        plt.savefig(f\"../data/schedules/{person_title}.png\", bbox_inches=\"tight\")\n",
        "        plt.close()\n"
      ]
    },
    {
      "cell_type": "markdown",
      "metadata": {},
      "source": [
        "## Save Schedules"
      ]
    },
    {
      "cell_type": "code",
      "execution_count": 27,
      "metadata": {},
      "outputs": [],
      "source": [
        "group1_people = [*group1_chairs, *group1_members]\n",
        "group2_people = [*group2_chairs, *group2_members]\n",
        "\n",
        "save_group_schedules(group1_people, group1_optimal, group1_est_unavailability)\n",
        "save_group_schedules(group2_people, group2_optimal, group2_est_unavailability)\n"
      ]
    }
  ],
  "metadata": {
    "colab": {
      "provenance": []
    },
    "kernelspec": {
      "display_name": "Python 3",
      "name": "python3"
    },
    "language_info": {
      "codemirror_mode": {
        "name": "ipython",
        "version": 3
      },
      "file_extension": ".py",
      "mimetype": "text/x-python",
      "name": "python",
      "nbconvert_exporter": "python",
      "pygments_lexer": "ipython3",
      "version": "3.12.0"
    }
  },
  "nbformat": 4,
  "nbformat_minor": 0
}
