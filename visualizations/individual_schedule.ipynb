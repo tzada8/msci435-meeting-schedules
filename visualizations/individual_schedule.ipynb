{
  "cells": [
    {
      "cell_type": "markdown",
      "metadata": {},
      "source": [
        "## Import Packages"
      ]
    },
    {
      "cell_type": "code",
      "execution_count": 4,
      "metadata": {},
      "outputs": [],
      "source": [
        "import sys\n",
        "sys.path.insert(0, \"../utils\")\n",
        "\n",
        "import schedules\n",
        "import utils_functions\n",
        "from unavailability import group1_chairs, group1_members, group1_est_unavailability, group2_chairs, group2_members, group2_est_unavailability"
      ]
    },
    {
      "cell_type": "markdown",
      "metadata": {},
      "source": [
        "## Import Optimal Data"
      ]
    },
    {
      "cell_type": "code",
      "execution_count": 2,
      "metadata": {},
      "outputs": [],
      "source": [
        "group1_optimal = utils_functions.read_optimal_txt(\"../data/group1_results.txt\")\n",
        "group2_optimal = utils_functions.read_optimal_txt(\"../data/group2_results.txt\")"
      ]
    },
    {
      "cell_type": "markdown",
      "metadata": {},
      "source": [
        "## Save Schedules"
      ]
    },
    {
      "cell_type": "code",
      "execution_count": 3,
      "metadata": {},
      "outputs": [],
      "source": [
        "group1_people = [*group1_chairs, *group1_members]\n",
        "group2_people = [*group2_chairs, *group2_members]\n",
        "\n",
        "prefix_path = \"../data/schedules\"\n",
        "schedules.save_group_schedules(group1_people, group1_optimal, group1_est_unavailability, prefix_path)\n",
        "schedules.save_group_schedules(group2_people, group2_optimal, group2_est_unavailability, prefix_path)"
      ]
    }
  ],
  "metadata": {
    "colab": {
      "provenance": []
    },
    "kernelspec": {
      "display_name": "Python 3",
      "name": "python3"
    },
    "language_info": {
      "codemirror_mode": {
        "name": "ipython",
        "version": 3
      },
      "file_extension": ".py",
      "mimetype": "text/x-python",
      "name": "python",
      "nbconvert_exporter": "python",
      "pygments_lexer": "ipython3",
      "version": "3.12.0"
    }
  },
  "nbformat": 4,
  "nbformat_minor": 0
}
