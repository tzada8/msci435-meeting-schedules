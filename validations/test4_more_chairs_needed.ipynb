{
  "cells": [
    {
      "cell_type": "markdown",
      "metadata": {},
      "source": [
        "## Test 4: Increase Chair to Member Ratio"
      ]
    },
    {
      "cell_type": "code",
      "execution_count": 1,
      "metadata": {},
      "outputs": [],
      "source": [
        "test_num = \"test4\"\n",
        "member_to_chair_ratio = 2\n",
        "\n",
        "save_optimal_group1_path = f\"../data/{test_num}/group1_results.txt\"\n",
        "save_optimal_group2_path = f\"../data/{test_num}/group2_results.txt\"\n",
        "save_visualizations_prefix_path = f\"../data/{test_num}\"\n",
        "master_schedule_path = f\"../data/{test_num}/master_schedule.png\""
      ]
    },
    {
      "cell_type": "code",
      "execution_count": 2,
      "metadata": {},
      "outputs": [],
      "source": [
        "chairs_unavailability = [\n",
        "    [\"M/W 13:00 to 15:00\", \"M/T/W/Th/F 12:20 to 12:40\", \"M/T/W/Th/F 17:20 to 17:40\", \"M/T/W/Th/F 15:20 to 16:00\"],\n",
        "    [\"T/Th 16:00 to 18:00\", \"M/T/W/Th/F 11:20 to 11:40\", \"M/T/W/Th/F 16:20 to 16:40\", \"M/T/W/Th/F 14:20 to 15:00\"],\n",
        "    [\"M/W 13:00 to 15:00\", \"M/T/W/Th/F 9:20 to 9:40\", \"M/T/W/Th/F 14:20 to 14:40\", \"M/T/W/Th/F 12:20 to 13:00\"],\n",
        "    [\"T/F 9:00 to 11:00\", \"M/T/W/Th/F 9:20 to 9:40\", \"M/T/W/Th/F 14:20 to 14:40\", \"M/T/W/Th/F 12:20 to 13:00\"],\n",
        "    [\"Th 11:00 to 15:00\", \"M/T/W/Th/F 12:20 to 12:40\", \"M/T/W/Th/F 17:20 to 17:40\", \"M/T/W/Th/F 15:20 to 16:00\"],\n",
        "    [\"W/F 10:00 to 12:00\", \"M/T/W/Th/F 9:20 to 9:40\", \"M/T/W/Th/F 14:20 to 14:40\", \"M/T/W/Th/F 12:20 to 13:00\"],\n",
        "    [\"T/Th 16:00 to 18:00\", \"M/T/W/Th/F 12:20 to 12:40\", \"M/T/W/Th/F 17:20 to 17:40\", \"M/T/W/Th/F 15:20 to 16:00\"],\n",
        "    [\"Th 8:00 to 12:00\", \"M/T/W/Th/F 9:20 to 9:40\", \"M/T/W/Th/F 14:20 to 14:40\", \"M/T/W/Th/F 12:20 to 13:00\"],\n",
        "    [\"T/F 10:00 to 12:00\", \"M/T/W/Th/F 9:20 to 9:40\", \"M/T/W/Th/F 14:20 to 14:40\", \"M/T/W/Th/F 12:20 to 13:00\"],\n",
        "    [\"M/F 11:00 to 14:00\", \"M/T/W/Th/F 9:20 to 9:40\", \"M/T/W/Th/F 14:20 to 14:40\", \"M/T/W/Th/F 12:20 to 13:00\"]\n",
        "]\n",
        "\n",
        "members_unavailability = [\n",
        "    [\"T/Th 14:00 to 16:00\", \"M/T/W/Th/F 9:20 to 9:40\", \"M/T/W/Th/F 14:20 to 14:40\", \"M/T/W/Th/F 12:20 to 13:00\"],\n",
        "    [\"M/W 13:00 to 15:00\", \"M/T/W/Th/F 9:20 to 9:40\", \"M/T/W/Th/F 14:20 to 14:40\", \"M/T/W/Th/F 12:20 to 13:00\"],\n",
        "    [\"T/F 9:00 to 11:00\", \"M/T/W/Th/F 9:20 to 9:40\", \"M/T/W/Th/F 14:20 to 14:40\", \"M/T/W/Th/F 12:20 to 13:00\"],\n",
        "    [\"M/Th 11:00 to 13:00\", \"M/T/W/Th/F 9:20 to 9:40\", \"M/T/W/Th/F 14:20 to 14:40\", \"M/T/W/Th/F 12:20 to 13:00\"],\n",
        "    [\"M/F 14:00 to 16:00\", \"M/T/W/Th/F 9:20 to 9:40\", \"M/T/W/Th/F 14:20 to 14:40\", \"M/T/W/Th/F 12:20 to 13:00\"],\n",
        "    [\"M/F 17:00 to 19:00\", \"M/T/W/Th/F 11:20 to 11:40\", \"M/T/W/Th/F 16:20 to 16:40\", \"M/T/W/Th/F 14:20 to 15:00\"],\n",
        "    [\"M 12:00 to 14:00\", \"M/T/W/Th/F 8:20 to 8:40\", \"M/T/W/Th/F 13:20 to 13:40\", \"M/T/W/Th/F 11:20 to 12:00\"],\n",
        "    [\"M/W 11:00 to 13:00\", \"M/T/W/Th/F 10:20 to 10:40\", \"M/T/W/Th/F 15:20 to 15:40\", \"M/T/W/Th/F 13:20 to 14:00\"],\n",
        "    [\"Th 8:00 to 12:00\", \"M/T/W/Th/F 9:20 to 9:40\", \"M/T/W/Th/F 14:20 to 14:40\", \"M/T/W/Th/F 12:20 to 13:00\"],\n",
        "    [\"F 11:00 to 13:00\", \"M/T/W/Th/F 9:20 to 9:40\", \"M/T/W/Th/F 14:20 to 14:40\", \"M/T/W/Th/F 12:20 to 13:00\"],\n",
        "    [\"M/Th 10:00 to 12:00\", \"M/T/W/Th/F 8:20 to 8:40\", \"M/T/W/Th/F 13:20 to 13:40\", \"M/T/W/Th/F 11:20 to 12:00\"],\n",
        "    [\"M/F 14:00 to 16:00\", \"M/T/W/Th/F 9:20 to 9:40\", \"M/T/W/Th/F 14:20 to 14:40\", \"M/T/W/Th/F 12:20 to 13:00\"],\n",
        "    [\"M/F 15:00 to 17:00\", \"M/T/W/Th/F 9:20 to 9:40\", \"M/T/W/Th/F 14:20 to 14:40\", \"M/T/W/Th/F 12:20 to 13:00\"],\n",
        "    [\"W 12:00 to 17:00\", \"M/T/W/Th/F 9:20 to 9:40\", \"M/T/W/Th/F 14:20 to 14:40\", \"M/T/W/Th/F 12:20 to 13:00\"],\n",
        "    [\"W/F 10:00 to 12:00\", \"M/T/W/Th/F 9:20 to 9:40\", \"M/T/W/Th/F 14:20 to 14:40\", \"M/T/W/Th/F 12:20 to 13:00\"],\n",
        "    [\"T/Th 13:00 to 15:00\", \"M/T/W/Th/F 9:20 to 9:40\", \"M/T/W/Th/F 14:20 to 14:40\", \"M/T/W/Th/F 12:20 to 13:00\"],\n",
        "    [\"M/W 10:00 to 12:00\", \"M/T/W/Th/F 9:20 to 9:40\", \"M/T/W/Th/F 14:20 to 14:40\", \"M/T/W/Th/F 12:20 to 13:00\"],\n",
        "    [\"T/F 10:00 to 12:00\", \"M/T/W/Th/F 9:20 to 9:40\", \"M/T/W/Th/F 14:20 to 14:40\", \"M/T/W/Th/F 12:20 to 13:00\"],\n",
        "    [\"Th 10:00 to 15:00\", \"M/T/W/Th/F 9:20 to 9:40\", \"M/T/W/Th/F 14:20 to 14:40\", \"M/T/W/Th/F 12:20 to 13:00\"],\n",
        "    [\"T/Th 15:00 to 17:00\", \"M/T/W/Th/F 9:20 to 9:40\", \"M/T/W/Th/F 14:20 to 14:40\", \"M/T/W/Th/F 12:20 to 13:00\"],\n",
        "    [\"M/T 8:00 to 10:00\", \"M/T/W/Th/F 4:20 to 4:40\", \"M/T/W/Th/F 9:20 to 9:40\", \"M/T/W/Th/F 7:20 to 8:00\"],\n",
        "    [\"Th 11:00 to 15:00\", \"M/T/W/Th/F 12:20 to 12:40\", \"M/T/W/Th/F 17:20 to 17:40\", \"M/T/W/Th/F 15:20 to 16:00\"],\n",
        "    [\"M/T 12:00 to 14:00\", \"M/T/W/Th/F 11:20 to 11:40\", \"M/T/W/Th/F 16:20 to 16:40\", \"M/T/W/Th/F 14:20 to 15:00\"],\n",
        "    [\"T/W 17:00 to 19:00\", \"M/T/W/Th/F 11:20 to 11:40\", \"M/T/W/Th/F 16:20 to 16:40\", \"M/T/W/Th/F 14:20 to 15:00\"],\n",
        "    [\"T/W 15:00 to 17:00\", \"M/T/W/Th/F 9:20 to 9:40\", \"M/T/W/Th/F 14:20 to 14:40\", \"M/T/W/Th/F 12:20 to 13:00\"],\n",
        "    [\"M/W 12:00 to 14:00\", \"M/T/W/Th/F 11:20 to 11:40\", \"M/T/W/Th/F 16:20 to 16:40\", \"M/T/W/Th/F 14:20 to 15:00\"],\n",
        "    [\"M/F 11:00 to 14:00\", \"M/T/W/Th/F 9:20 to 9:40\", \"M/T/W/Th/F 14:20 to 14:40\", \"M/T/W/Th/F 12:20 to 13:00\"],\n",
        "    [\"T/Th 6:00 to 8:00\", \"M/T/W/Th/F 2:20 to 2:40\", \"M/T/W/Th/F 7:20 to 7:40\", \"M/T/W/Th/F 5:20 to 6:00\"],\n",
        "    [\"F 13:00 to 17:00\", \"M/T/W/Th/F 10:20 to 10:40\", \"M/T/W/Th/F 15:20 to 15:40\", \"M/T/W/Th/F 13:20 to 14:00\"],\n",
        "    [\"T/Th 8:00 to 10:00\", \"M/T/W/Th/F 9:20 to 9:40\", \"M/T/W/Th/F 14:20 to 14:40\", \"M/T/W/Th/F 12:20 to 13:00\"],\n",
        "]"
      ]
    },
    {
      "cell_type": "markdown",
      "metadata": {},
      "source": [
        "## Import Packages"
      ]
    },
    {
      "cell_type": "code",
      "execution_count": 3,
      "metadata": {},
      "outputs": [
        {
          "name": "stdout",
          "output_type": "stream",
          "text": [
            "zsh:1: 9.5.1 not found\n"
          ]
        }
      ],
      "source": [
        "!pip install gurobipy>=9.5.1"
      ]
    },
    {
      "cell_type": "code",
      "execution_count": 4,
      "metadata": {},
      "outputs": [],
      "source": [
        "import gurobipy as gp\n",
        "from gurobipy import GRB as GRB\n",
        "import sys\n",
        "sys.path.insert(0, \"../utils\")\n",
        "\n",
        "import column_generation\n",
        "import schedules\n",
        "import unavailability\n",
        "import utils_functions"
      ]
    },
    {
      "cell_type": "markdown",
      "metadata": {
        "id": "jbfGPRhx77mu"
      },
      "source": [
        "## Column Generation"
      ]
    },
    {
      "cell_type": "code",
      "execution_count": 5,
      "metadata": {},
      "outputs": [],
      "source": [
        "groups = unavailability.form_groups(chairs_unavailability, members_unavailability)\n",
        "group1_unavailability = groups[0]\n",
        "group2_unavailability = groups[1]"
      ]
    },
    {
      "cell_type": "code",
      "execution_count": 6,
      "metadata": {},
      "outputs": [
        {
          "name": "stdout",
          "output_type": "stream",
          "text": [
            "Total possible combinations: 1048576\n",
            "Total feasible combinations: 45826\n",
            "Group 1 Unavailability Mapping: {1: [], 2: [], 3: [], 4: [], 5: [4, 12, 13, 14, 15, 16, 17, 18, 19], 6: [], 7: [], 8: [10, 11], 9: [], 10: [10, 15], 11: [3, 6, 7, 8, 9, 10, 15], 12: [10, 15], 13: [8, 9, 10, 15], 14: [0, 1, 2, 4, 5, 8, 9, 10, 12, 13, 14, 15, 16, 17, 18, 19], 15: [4, 8, 9, 10, 12, 13, 14, 15, 16, 17, 18, 19], 16: [0, 4, 8, 9, 13], 17: [0, 4, 8, 9, 10, 11, 13], 18: [0, 4, 8, 9, 10, 11, 13], 19: [0, 4, 13, 16, 19], 20: [0, 3, 4, 6, 7, 8, 9, 12, 13, 14, 15, 16, 17, 18, 19], 21: [0, 3, 4, 6, 7, 8, 9, 13, 16, 19], 22: [16, 19], 23: [0, 1, 2, 5, 10, 11, 16, 19], 24: [0, 1, 2, 5, 16, 19], 25: [], 26: [3, 6, 7, 8, 9], 27: [], 28: [6], 29: [0, 1, 2, 5, 6], 30: [6], 31: [6], 32: [6], 33: [6], 34: [], 35: [], 36: [], 37: [], 38: [14], 39: [4, 12, 13, 14, 15, 16, 17, 18, 19], 40: [14], 41: [14], 42: [10, 11, 14], 43: [14], 44: [], 45: [3, 6, 7, 8, 9], 46: [], 47: [9], 48: [0, 1, 2, 4, 5, 9, 12, 13, 14, 15, 16, 17, 18, 19], 49: [4, 9, 12, 13, 14, 15, 16, 17, 18, 19], 50: [9], 51: [9, 10, 11], 52: [9, 10, 11], 53: [12], 54: [3, 4, 6, 7, 8, 9, 12, 13, 14, 15, 16, 17, 18, 19], 55: [3, 6, 7, 8, 9, 12], 56: [12], 57: [0, 1, 2, 5, 10, 11, 12], 58: [0, 1, 2, 5, 12], 59: [2, 3], 60: [2, 3, 6, 7, 8, 9], 61: [2, 3], 62: [2, 3, 7], 63: [0, 1, 2, 3, 5, 7], 64: [2, 3, 7], 65: [7], 66: [7], 67: [7], 68: [], 69: [], 70: [], 71: [], 72: [], 73: [4, 12, 13, 14, 15, 16, 17, 18, 19], 74: [], 75: [], 76: [10, 11], 77: [], 78: [10], 79: [3, 6, 7, 8, 9, 10], 80: [10], 81: [8, 10], 82: [0, 1, 2, 4, 5, 8, 10, 12, 13, 14, 15, 16, 17, 18, 19], 83: [4, 8, 10, 12, 13, 14, 15, 16, 17, 18, 19], 84: [0, 4, 8, 13], 85: [0, 4, 8, 10, 11, 13], 86: [0, 4, 8, 10, 11, 13], 87: [0, 4, 13], 88: [0, 3, 4, 6, 7, 8, 9, 12, 13, 14, 15, 16, 17, 18, 19], 89: [0, 3, 4, 6, 7, 8, 9, 13], 90: [], 91: [0, 1, 2, 5, 10, 11], 92: [0, 1, 2, 5], 93: [], 94: [3, 6, 7, 8, 9], 95: [], 96: [7], 97: [0, 1, 2, 5, 7], 98: [7], 99: [7], 100: [7], 101: [7], 102: [], 103: [17], 104: [17], 105: [17], 106: [17], 107: [4, 12, 13, 14, 15, 16, 17, 18, 19], 108: [17], 109: [17], 110: [10, 11, 17], 111: [17], 112: [1, 5, 15, 17], 113: [1, 3, 5, 6, 7, 8, 9, 15, 17], 114: [1, 5, 15, 17], 115: [1, 5, 15], 116: [0, 1, 2, 4, 5, 12, 13, 14, 15, 16, 17, 18, 19], 117: [1, 4, 5, 12, 13, 14, 15, 16, 17, 18, 19], 118: [1, 5], 119: [1, 5, 10, 11], 120: [1, 5, 10, 11], 121: [1, 5, 12], 122: [1, 3, 4, 5, 6, 7, 8, 9, 12, 13, 14, 15, 16, 17, 18, 19], 123: [1, 3, 5, 6, 7, 8, 9, 12], 124: [12], 125: [0, 1, 2, 5, 10, 11, 12], 126: [0, 1, 2, 5, 12], 127: [2, 3], 128: [2, 3, 6, 7, 8, 9], 129: [2, 3], 130: [2, 3], 131: [0, 1, 2, 3, 5], 132: [2, 3], 133: [], 134: [], 135: [], 136: [], 137: [], 138: [], 139: [], 140: [14], 141: [4, 12, 13, 14, 15, 16, 17, 18, 19], 142: [14], 143: [14], 144: [10, 11, 14], 145: [14], 146: [18], 147: [3, 6, 7, 8, 9, 18], 148: [18], 149: [18], 150: [0, 1, 2, 4, 5, 12, 13, 14, 15, 16, 17, 18, 19], 151: [4, 12, 13, 14, 15, 16, 17, 18, 19], 152: [11], 153: [10, 11], 154: [10, 11], 155: [11, 16, 19], 156: [3, 4, 6, 7, 8, 9, 11, 12, 13, 14, 15, 16, 17, 18, 19], 157: [3, 6, 7, 8, 9, 11, 16, 19], 158: [11, 16, 19], 159: [0, 1, 2, 5, 10, 11, 16, 19], 160: [0, 1, 2, 5, 11, 16, 19], 161: [11], 162: [3, 6, 7, 8, 9, 11], 163: [11], 164: [6], 165: [0, 1, 2, 5, 6], 166: [6], 167: [6], 168: [6], 169: [6], 170: []}\n",
            "Possible Number of Combinations for Group 1 Timeslots: [45826, 45826, 45826, 45826, 211, 45826, 45826, 13586, 45826, 13586, 766, 13586, 4126, 1, 7, 1486, 631, 631, 1486, 1, 71, 13586, 211, 496, 45826, 2146, 45826, 25026, 716, 25026, 25026, 25026, 25026, 45826, 45826, 45826, 45826, 25026, 211, 25026, 25026, 7426, 25026, 45826, 2146, 45826, 25026, 1, 91, 25026, 7426, 7426, 25026, 1, 1306, 25026, 331, 716, 4096, 991, 4096, 3004, 1, 3004, 25026, 25026, 25026, 45826, 45826, 45826, 45826, 45826, 211, 45826, 45826, 13586, 45826, 25026, 1306, 25026, 13586, 1, 31, 2146, 991, 991, 3004, 1, 211, 45826, 496, 1002, 45826, 2146, 45826, 25026, 716, 25026, 25026, 25026, 25026, 45826, 25026, 25026, 25026, 25026, 211, 25026, 25026, 7426, 25026, 3466, 211, 3466, 5578, 1, 46, 9010, 3466, 3466, 5578, 1, 379, 25026, 331, 716, 4096, 991, 4096, 4096, 1, 4096, 45826, 45826, 45826, 45826, 45826, 45826, 45826, 25026, 211, 25026, 25026, 7426, 25026, 25026, 1306, 25026, 25026, 1, 211, 25026, 13586, 13586, 7426, 1, 422, 7426, 211, 331, 25026, 1306, 25026, 25026, 716, 25026, 25026, 25026, 25026, 45826]\n",
            "Group 2 Unavailability Mapping: {1: [18], 2: [16, 17, 18], 3: [18], 4: [18], 5: [0, 1, 2, 3, 4, 5, 6, 7, 8, 9, 10, 11, 12, 13, 14, 15, 18], 6: [18], 7: [9, 17], 8: [9, 17], 9: [9, 17], 10: [4, 9, 14, 17], 11: [4, 9, 14, 16, 17], 12: [4, 9, 14, 16, 17], 13: [4, 14, 16], 14: [0, 1, 2, 3, 4, 5, 6, 7, 8, 9, 10, 11, 12, 13, 14, 15, 16], 15: [0, 1, 2, 3, 4, 5, 6, 7, 8, 9, 10, 11, 12, 13, 14, 15, 16], 16: [4, 14, 16], 17: [4, 14, 16, 17], 18: [4, 14, 16], 19: [], 20: [0, 1, 2, 3, 4, 5, 6, 7, 8, 9, 10, 11, 12, 13, 14, 15], 21: [], 22: [5], 23: [5], 24: [5], 25: [5], 26: [5], 27: [5], 28: [], 29: [], 30: [], 31: [], 32: [], 33: [], 34: [], 35: [15, 18], 36: [15, 16, 17, 18], 37: [15, 18], 38: [0, 15, 18], 39: [0, 1, 2, 3, 4, 5, 6, 7, 8, 9, 10, 11, 12, 13, 14, 15, 18], 40: [0, 15, 18], 41: [0, 3, 10], 42: [0, 3, 10], 43: [0, 3, 10], 44: [3, 10], 45: [3, 10, 16, 17], 46: [3, 10, 16, 17], 47: [], 48: [0, 1, 2, 3, 4, 5, 6, 7, 8, 9, 10, 11, 12, 13, 14, 15], 49: [0, 1, 2, 3, 4, 5, 6, 7, 8, 9, 10, 11, 12, 13, 14, 15], 50: [8], 51: [8, 16, 17], 52: [8], 53: [8], 54: [0, 1, 2, 3, 4, 5, 6, 7, 8, 9, 10, 11, 12, 13, 14, 15], 55: [8], 56: [12, 13], 57: [12, 13], 58: [12, 13], 59: [12, 13], 60: [12, 13], 61: [12, 13], 62: [], 63: [], 64: [], 65: [], 66: [], 67: [], 68: [], 69: [], 70: [16, 17], 71: [], 72: [], 73: [0, 1, 2, 3, 4, 5, 6, 7, 8, 9, 10, 11, 12, 13, 14, 15, 18], 74: [], 75: [1, 7, 9], 76: [1, 7, 9], 77: [1, 7, 9], 78: [1, 7, 9], 79: [1, 7, 9, 16, 17], 80: [1, 7, 9, 16, 17], 81: [6], 82: [0, 1, 2, 3, 4, 5, 6, 7, 8, 9, 10, 11, 12, 13, 14, 15], 83: [0, 1, 2, 3, 4, 5, 6, 7, 8, 9, 10, 11, 12, 13, 14, 15], 84: [6], 85: [6, 16, 17], 86: [6], 87: [6], 88: [0, 1, 2, 3, 4, 5, 6, 7, 8, 9, 10, 11, 12, 13, 14, 15], 89: [6], 90: [6, 13], 91: [6, 13], 92: [6, 13], 93: [6, 13], 94: [6, 13], 95: [6, 13], 96: [], 97: [], 98: [], 99: [], 100: [], 101: [], 102: [], 103: [2, 15], 104: [2, 15, 16, 17], 105: [2, 15], 106: [2, 15], 107: [0, 1, 2, 3, 4, 5, 6, 7, 8, 9, 10, 11, 12, 13, 14, 15, 18], 108: [2, 15], 109: [2, 11, 17], 110: [2, 11, 17], 111: [2, 11, 17], 112: [2, 11, 17], 113: [2, 11, 16, 17], 114: [2, 11, 16, 17], 115: [11], 116: [0, 1, 2, 3, 4, 5, 6, 7, 8, 9, 10, 11, 12, 13, 14, 15], 117: [0, 1, 2, 3, 4, 5, 6, 7, 8, 9, 10, 11, 12, 13, 14, 15], 118: [8, 11], 119: [8, 11, 16, 17], 120: [8, 11], 121: [8, 11], 122: [0, 1, 2, 3, 4, 5, 6, 7, 8, 9, 10, 11, 12, 13, 14, 15], 123: [8, 11], 124: [12], 125: [12], 126: [12], 127: [12], 128: [12], 129: [12], 130: [], 131: [], 132: [], 133: [], 134: [], 135: [], 136: [], 137: [], 138: [16, 17], 139: [], 140: [0], 141: [0, 1, 2, 3, 4, 5, 6, 7, 8, 9, 10, 11, 12, 13, 14, 15, 18], 142: [0], 143: [0, 1, 3, 7, 10], 144: [0, 1, 3, 7, 10], 145: [0, 1, 3, 7, 10], 146: [1, 3, 4, 7, 10, 14], 147: [1, 3, 4, 7, 10, 14, 16, 17], 148: [1, 3, 4, 7, 10, 14, 16, 17], 149: [4, 14], 150: [0, 1, 2, 3, 4, 5, 6, 7, 8, 9, 10, 11, 12, 13, 14, 15], 151: [0, 1, 2, 3, 4, 5, 6, 7, 8, 9, 10, 11, 12, 13, 14, 15], 152: [4, 14], 153: [4, 14, 16, 17], 154: [4, 14], 155: [], 156: [0, 1, 2, 3, 4, 5, 6, 7, 8, 9, 10, 11, 12, 13, 14, 15], 157: [], 158: [5], 159: [5], 160: [5], 161: [5], 162: [5], 163: [5], 164: [], 165: [], 166: [], 167: [], 168: [], 169: [], 170: []}\n",
            "Possible Number of Combinations for Group 2 Timeslots: [25026, 7426, 25026, 25026, 1, 25026, 13586, 13586, 13586, 3466, 2146, 2146, 5578, 1, 1, 5578, 3466, 5578, 45826, 1, 45826, 25026, 25026, 25026, 25026, 25026, 25026, 45826, 45826, 45826, 45826, 45826, 45826, 45826, 13586, 4126, 13586, 5578, 1, 5578, 3004, 3004, 3004, 9010, 3466, 3466, 45826, 1, 1, 25026, 7426, 25026, 25026, 1, 25026, 13586, 13586, 13586, 13586, 13586, 13586, 45826, 45826, 45826, 45826, 45826, 45826, 45826, 45826, 13586, 45826, 45826, 1, 45826, 5578, 5578, 5578, 5578, 2146, 2146, 25026, 1, 1, 25026, 7426, 25026, 25026, 1, 25026, 13586, 13586, 13586, 13586, 13586, 13586, 45826, 45826, 45826, 45826, 45826, 45826, 45826, 9010, 3466, 9010, 9010, 1, 9010, 5578, 5578, 5578, 5578, 3466, 3466, 25026, 1, 1, 13586, 4126, 13586, 13586, 1, 13586, 25026, 25026, 25026, 25026, 25026, 25026, 45826, 45826, 45826, 45826, 45826, 45826, 45826, 45826, 13586, 45826, 14626, 1, 14626, 716, 716, 716, 496, 211, 211, 9010, 1, 1, 9010, 3466, 9010, 45826, 1, 45826, 25026, 25026, 25026, 25026, 25026, 25026, 45826, 45826, 45826, 45826, 45826, 45826, 45826]\n"
          ]
        }
      ],
      "source": [
        "generic_columns = column_generation.generic_column_generation(member_to_chair_ratio)\n",
        "group1_feasible_combinations = column_generation.group_column_generation(1, group1_unavailability, generic_columns)\n",
        "group2_feasible_combinations = column_generation.group_column_generation(2, group2_unavailability, generic_columns)"
      ]
    },
    {
      "cell_type": "markdown",
      "metadata": {
        "id": "XPDmXSbd7yXx"
      },
      "source": [
        "## Group 1 Optimization Model"
      ]
    },
    {
      "cell_type": "code",
      "execution_count": 7,
      "metadata": {
        "colab": {
          "base_uri": "https://localhost:8080/"
        },
        "id": "4fPDyvmig1PH",
        "outputId": "4744fbb1-d871-4564-b779-a74ee58b787f"
      },
      "outputs": [
        {
          "name": "stdout",
          "output_type": "stream",
          "text": [
            "Set parameter WLSAccessID\n",
            "Set parameter WLSSecret\n",
            "Set parameter LicenseID to value 868440\n",
            "Academic license 868440 - for non-commercial use only - registered to es___@uwaterloo.ca\n",
            "Set parameter Seed to value 435\n"
          ]
        }
      ],
      "source": [
        "# Setup Gurobi key\n",
        "# Create environment with WLS license\n",
        "e = gp.Env(empty=True)\n",
        "e.setParam('WLSACCESSID', '453f2da9-b8f2-448f-9f06-48081a9c3dc9')\n",
        "e.setParam('WLSSECRET', 'd5675c81-7058-45f9-b6f2-30ca3855ed22')\n",
        "e.setParam('LICENSEID', 868440)\n",
        "e.start()\n",
        "\n",
        "# Create the model within the Gurobi environment. This environment will be passed in as a parameter into all subsequent models\n",
        "model = gp.Model(env=e)\n",
        "model.setParam('Seed', 435)"
      ]
    },
    {
      "cell_type": "code",
      "execution_count": 8,
      "metadata": {
        "id": "Ytmz6IwTXDTr"
      },
      "outputs": [],
      "source": [
        "# Sets\n",
        "D = range(1,6)\n",
        "T = range(1,171)\n",
        "T_d = {d : (T[(d-1)*len(T)//len(D):(d)*len(T)//len(D)])for d in D}\n",
        "C = range(1,6)\n",
        "M = range(6,21)\n",
        "I = (*C,*M)\n",
        "H_t = {t : range(1,len(group1_feasible_combinations[t-1])) for t in T}"
      ]
    },
    {
      "cell_type": "code",
      "execution_count": 9,
      "metadata": {
        "id": "uYL_ovYJdWmx"
      },
      "outputs": [],
      "source": [
        "# penalties\n",
        "# separated to make them easier to read\n",
        "# taken from this graph: https://www.desmos.com/calculator/g5rhs6n2ke\n",
        "penalties = [(0,0), (4,4), (8, 11.31), (12, 20.78), (16, 32), (34, 99.13)]\n",
        "Q = range(1,len(penalties)+1)"
      ]
    },
    {
      "cell_type": "code",
      "execution_count": 10,
      "metadata": {
        "id": "zV_lSO51a7nW"
      },
      "outputs": [],
      "source": [
        "# Parameters\n",
        "\n",
        "# need to sort this one out with column generation\n",
        "\n",
        "a = group1_feasible_combinations\n",
        "f = [[sum(a[t-1][h-1]) // 6 for h in H_t[t]] for t in T]\n",
        "n = 8 # Need to inpute\n",
        "u = {q : penalties[q-1][1] for q in Q}\n",
        "v = {q : penalties[q-1][0] for q in Q}\n",
        "w = .001 # Need to inpute"
      ]
    },
    {
      "cell_type": "code",
      "execution_count": 11,
      "metadata": {
        "id": "6OLq1F8Tz1Pw"
      },
      "outputs": [],
      "source": [
        "indices = [(t, h) for t in T for h in H_t[t]]"
      ]
    },
    {
      "cell_type": "code",
      "execution_count": 12,
      "metadata": {
        "id": "IeqEV5qrnB91"
      },
      "outputs": [],
      "source": [
        "# Decision Varbiables\n",
        "alpha = model.addVars(indices, vtype=GRB.BINARY, name=\"alpha\")\n",
        "y = model.addVars(I, D, Q, lb=0.0, ub=1.0, vtype=GRB.CONTINUOUS, name = \"y\")"
      ]
    },
    {
      "cell_type": "code",
      "execution_count": 13,
      "metadata": {},
      "outputs": [],
      "source": [
        "for i in I:\n",
        "    for d in D:\n",
        "        model.addSOS(GRB.SOS_TYPE2, [y[i,d,q] for q in Q])"
      ]
    },
    {
      "cell_type": "code",
      "execution_count": 14,
      "metadata": {
        "id": "hLBoOX3RnUi1"
      },
      "outputs": [],
      "source": [
        "# Objective Value\n",
        "model.setObjective(sum(f[t-1][h-1]*alpha[t,h] for t in T for h in H_t[t]) - w * sum(u[q] * y[i,d,q] for i in I for d in D for q in Q),sense=GRB.MAXIMIZE)"
      ]
    },
    {
      "cell_type": "code",
      "execution_count": 15,
      "metadata": {
        "id": "HurC0aJzn3KJ"
      },
      "outputs": [
        {
          "data": {
            "text/plain": [
              "{(1, 1): <gurobi.Constr *Awaiting Model Update*>,\n",
              " (1, 2): <gurobi.Constr *Awaiting Model Update*>,\n",
              " (1, 3): <gurobi.Constr *Awaiting Model Update*>,\n",
              " (1, 4): <gurobi.Constr *Awaiting Model Update*>,\n",
              " (1, 5): <gurobi.Constr *Awaiting Model Update*>,\n",
              " (2, 1): <gurobi.Constr *Awaiting Model Update*>,\n",
              " (2, 2): <gurobi.Constr *Awaiting Model Update*>,\n",
              " (2, 3): <gurobi.Constr *Awaiting Model Update*>,\n",
              " (2, 4): <gurobi.Constr *Awaiting Model Update*>,\n",
              " (2, 5): <gurobi.Constr *Awaiting Model Update*>,\n",
              " (3, 1): <gurobi.Constr *Awaiting Model Update*>,\n",
              " (3, 2): <gurobi.Constr *Awaiting Model Update*>,\n",
              " (3, 3): <gurobi.Constr *Awaiting Model Update*>,\n",
              " (3, 4): <gurobi.Constr *Awaiting Model Update*>,\n",
              " (3, 5): <gurobi.Constr *Awaiting Model Update*>,\n",
              " (4, 1): <gurobi.Constr *Awaiting Model Update*>,\n",
              " (4, 2): <gurobi.Constr *Awaiting Model Update*>,\n",
              " (4, 3): <gurobi.Constr *Awaiting Model Update*>,\n",
              " (4, 4): <gurobi.Constr *Awaiting Model Update*>,\n",
              " (4, 5): <gurobi.Constr *Awaiting Model Update*>,\n",
              " (5, 1): <gurobi.Constr *Awaiting Model Update*>,\n",
              " (5, 2): <gurobi.Constr *Awaiting Model Update*>,\n",
              " (5, 3): <gurobi.Constr *Awaiting Model Update*>,\n",
              " (5, 4): <gurobi.Constr *Awaiting Model Update*>,\n",
              " (5, 5): <gurobi.Constr *Awaiting Model Update*>,\n",
              " (6, 1): <gurobi.Constr *Awaiting Model Update*>,\n",
              " (6, 2): <gurobi.Constr *Awaiting Model Update*>,\n",
              " (6, 3): <gurobi.Constr *Awaiting Model Update*>,\n",
              " (6, 4): <gurobi.Constr *Awaiting Model Update*>,\n",
              " (6, 5): <gurobi.Constr *Awaiting Model Update*>,\n",
              " (7, 1): <gurobi.Constr *Awaiting Model Update*>,\n",
              " (7, 2): <gurobi.Constr *Awaiting Model Update*>,\n",
              " (7, 3): <gurobi.Constr *Awaiting Model Update*>,\n",
              " (7, 4): <gurobi.Constr *Awaiting Model Update*>,\n",
              " (7, 5): <gurobi.Constr *Awaiting Model Update*>,\n",
              " (8, 1): <gurobi.Constr *Awaiting Model Update*>,\n",
              " (8, 2): <gurobi.Constr *Awaiting Model Update*>,\n",
              " (8, 3): <gurobi.Constr *Awaiting Model Update*>,\n",
              " (8, 4): <gurobi.Constr *Awaiting Model Update*>,\n",
              " (8, 5): <gurobi.Constr *Awaiting Model Update*>,\n",
              " (9, 1): <gurobi.Constr *Awaiting Model Update*>,\n",
              " (9, 2): <gurobi.Constr *Awaiting Model Update*>,\n",
              " (9, 3): <gurobi.Constr *Awaiting Model Update*>,\n",
              " (9, 4): <gurobi.Constr *Awaiting Model Update*>,\n",
              " (9, 5): <gurobi.Constr *Awaiting Model Update*>,\n",
              " (10, 1): <gurobi.Constr *Awaiting Model Update*>,\n",
              " (10, 2): <gurobi.Constr *Awaiting Model Update*>,\n",
              " (10, 3): <gurobi.Constr *Awaiting Model Update*>,\n",
              " (10, 4): <gurobi.Constr *Awaiting Model Update*>,\n",
              " (10, 5): <gurobi.Constr *Awaiting Model Update*>,\n",
              " (11, 1): <gurobi.Constr *Awaiting Model Update*>,\n",
              " (11, 2): <gurobi.Constr *Awaiting Model Update*>,\n",
              " (11, 3): <gurobi.Constr *Awaiting Model Update*>,\n",
              " (11, 4): <gurobi.Constr *Awaiting Model Update*>,\n",
              " (11, 5): <gurobi.Constr *Awaiting Model Update*>,\n",
              " (12, 1): <gurobi.Constr *Awaiting Model Update*>,\n",
              " (12, 2): <gurobi.Constr *Awaiting Model Update*>,\n",
              " (12, 3): <gurobi.Constr *Awaiting Model Update*>,\n",
              " (12, 4): <gurobi.Constr *Awaiting Model Update*>,\n",
              " (12, 5): <gurobi.Constr *Awaiting Model Update*>,\n",
              " (13, 1): <gurobi.Constr *Awaiting Model Update*>,\n",
              " (13, 2): <gurobi.Constr *Awaiting Model Update*>,\n",
              " (13, 3): <gurobi.Constr *Awaiting Model Update*>,\n",
              " (13, 4): <gurobi.Constr *Awaiting Model Update*>,\n",
              " (13, 5): <gurobi.Constr *Awaiting Model Update*>,\n",
              " (14, 1): <gurobi.Constr *Awaiting Model Update*>,\n",
              " (14, 2): <gurobi.Constr *Awaiting Model Update*>,\n",
              " (14, 3): <gurobi.Constr *Awaiting Model Update*>,\n",
              " (14, 4): <gurobi.Constr *Awaiting Model Update*>,\n",
              " (14, 5): <gurobi.Constr *Awaiting Model Update*>,\n",
              " (15, 1): <gurobi.Constr *Awaiting Model Update*>,\n",
              " (15, 2): <gurobi.Constr *Awaiting Model Update*>,\n",
              " (15, 3): <gurobi.Constr *Awaiting Model Update*>,\n",
              " (15, 4): <gurobi.Constr *Awaiting Model Update*>,\n",
              " (15, 5): <gurobi.Constr *Awaiting Model Update*>,\n",
              " (16, 1): <gurobi.Constr *Awaiting Model Update*>,\n",
              " (16, 2): <gurobi.Constr *Awaiting Model Update*>,\n",
              " (16, 3): <gurobi.Constr *Awaiting Model Update*>,\n",
              " (16, 4): <gurobi.Constr *Awaiting Model Update*>,\n",
              " (16, 5): <gurobi.Constr *Awaiting Model Update*>,\n",
              " (17, 1): <gurobi.Constr *Awaiting Model Update*>,\n",
              " (17, 2): <gurobi.Constr *Awaiting Model Update*>,\n",
              " (17, 3): <gurobi.Constr *Awaiting Model Update*>,\n",
              " (17, 4): <gurobi.Constr *Awaiting Model Update*>,\n",
              " (17, 5): <gurobi.Constr *Awaiting Model Update*>,\n",
              " (18, 1): <gurobi.Constr *Awaiting Model Update*>,\n",
              " (18, 2): <gurobi.Constr *Awaiting Model Update*>,\n",
              " (18, 3): <gurobi.Constr *Awaiting Model Update*>,\n",
              " (18, 4): <gurobi.Constr *Awaiting Model Update*>,\n",
              " (18, 5): <gurobi.Constr *Awaiting Model Update*>,\n",
              " (19, 1): <gurobi.Constr *Awaiting Model Update*>,\n",
              " (19, 2): <gurobi.Constr *Awaiting Model Update*>,\n",
              " (19, 3): <gurobi.Constr *Awaiting Model Update*>,\n",
              " (19, 4): <gurobi.Constr *Awaiting Model Update*>,\n",
              " (19, 5): <gurobi.Constr *Awaiting Model Update*>,\n",
              " (20, 1): <gurobi.Constr *Awaiting Model Update*>,\n",
              " (20, 2): <gurobi.Constr *Awaiting Model Update*>,\n",
              " (20, 3): <gurobi.Constr *Awaiting Model Update*>,\n",
              " (20, 4): <gurobi.Constr *Awaiting Model Update*>,\n",
              " (20, 5): <gurobi.Constr *Awaiting Model Update*>}"
            ]
          },
          "execution_count": 15,
          "metadata": {},
          "output_type": "execute_result"
        }
      ],
      "source": [
        "# Constraints\n",
        "model.addConstrs(sum(alpha[t,h] for h in H_t[t]) <= 1 for t in T)\n",
        "model.addConstrs(sum(a[t-1][h-1][i-1]*alpha[t,h] for t in T_d[d] for h in H_t[t]) <= n for i in I for d in D)\n",
        "model.addConstrs(sum(a[t-1][h-1][i-1]*alpha[t,h] for t in T_d[d] for h in H_t[t]) == sum(v[q]*y[i,d,q] for q in Q) for i in I for d in D)\n",
        "model.addConstrs(sum(y[i,d,q] for q in Q) == 1 for i in I for d in D)"
      ]
    },
    {
      "cell_type": "code",
      "execution_count": 16,
      "metadata": {
        "colab": {
          "base_uri": "https://localhost:8080/"
        },
        "id": "ZQzVKDAasC0l",
        "outputId": "325a488e-ab46-4ebb-f472-497b62d63eae"
      },
      "outputs": [
        {
          "name": "stdout",
          "output_type": "stream",
          "text": [
            "Gurobi Optimizer version 11.0.1 build v11.0.1rc0 (mac64[arm] - Darwin 23.4.0 23E214)\n",
            "\n",
            "CPU model: Apple M2\n",
            "Thread count: 8 physical cores, 8 logical processors, using up to 8 threads\n",
            "\n",
            "Academic license 868440 - for non-commercial use only - registered to es___@uwaterloo.ca\n",
            "Optimize a model with 470 rows, 3020458 columns and 61992246 nonzeros\n",
            "Model fingerprint: 0x15d79863\n",
            "Model has 100 SOS constraints\n",
            "Variable types: 600 continuous, 3019858 integer (3019858 binary)\n",
            "Coefficient statistics:\n",
            "  Matrix range     [1e+00, 3e+01]\n",
            "  Objective range  [4e-03, 2e+00]\n",
            "  Bounds range     [1e+00, 1e+00]\n",
            "  RHS range        [1e+00, 8e+00]\n",
            "Presolve removed 12 rows and 158 columns (presolve time = 5s) ...\n",
            "Presolve removed 12 rows and 158 columns (presolve time = 10s) ...\n",
            "Presolve removed 12 rows and 158 columns (presolve time = 16s) ...\n",
            "Presolve removed 12 rows and 158 columns (presolve time = 20s) ...\n",
            "Presolve removed 12 rows and 158 columns (presolve time = 25s) ...\n",
            "Presolve removed 12 rows and 158 columns (presolve time = 30s) ...\n",
            "Presolve removed 12 rows and 158 columns (presolve time = 36s) ...\n",
            "Presolve removed 112 rows and 158 columns (presolve time = 40s) ...\n",
            "Presolve removed 112 rows and 158 columns (presolve time = 45s) ...\n",
            "Presolve removed 478 rows and 2300311 columns (presolve time = 78s) ...\n",
            "Presolve removed 378 rows and 2300691 columns\n",
            "Presolve time: 78.48s\n",
            "Presolved: 92 rows, 719767 columns, 7870177 nonzeros\n",
            "Presolved model has 20 SOS constraint(s)\n",
            "Variable types: 120 continuous, 719647 integer (719627 binary)\n",
            "\n",
            "Root simplex log...\n",
            "\n",
            "Iteration    Objective       Primal Inf.    Dual Inf.      Time\n",
            "       0    1.3338760e+02   8.100000e+01   0.000000e+00     80s\n",
            "    1116    1.0479460e+02   2.981705e+02   0.000000e+00     85s\n",
            "    1558    9.9234500e+01   0.000000e+00   0.000000e+00     87s\n",
            "\n",
            "Root relaxation: objective 9.923450e+01, 1558 iterations, 7.31 seconds (24.85 work units)\n",
            "Total elapsed time = 92.34s (DegenMoves)\n",
            "\n",
            "    Nodes    |    Current Node    |     Objective Bounds      |     Work\n",
            " Expl Unexpl |  Obj  Depth IntInf | Incumbent    BestBd   Gap | It/Node Time\n",
            "\n",
            "*    0     0               0      99.2345000   99.23450  0.00%     -   92s\n",
            "\n",
            "Explored 1 nodes (4037 simplex iterations) in 93.13 seconds (245.09 work units)\n",
            "Thread count was 8 (of 8 available processors)\n",
            "\n",
            "Solution count 1: 99.2345 \n",
            "\n",
            "Optimal solution found (tolerance 1.00e-04)\n",
            "Best objective 9.923450000000e+01, best bound 9.923450000000e+01, gap 0.0000%\n"
          ]
        }
      ],
      "source": [
        "model.optimize()"
      ]
    },
    {
      "cell_type": "code",
      "execution_count": 17,
      "metadata": {
        "colab": {
          "base_uri": "https://localhost:8080/"
        },
        "id": "46mc9EmDsMA4",
        "outputId": "35b24764-6347-4c47-ca9c-8050fe1a01be"
      },
      "outputs": [],
      "source": [
        "with open(save_optimal_group1_path, \"w\") as file:\n",
        "  for t in T:\n",
        "    for h in H_t[t]:\n",
        "      if alpha[t,h].X == 1:\n",
        "        file.write(f\"{t} {a[t-1][h-1]}\\n\")"
      ]
    },
    {
      "cell_type": "markdown",
      "metadata": {},
      "source": [
        "## Group 2 Optimization Model"
      ]
    },
    {
      "cell_type": "code",
      "execution_count": 18,
      "metadata": {},
      "outputs": [
        {
          "name": "stdout",
          "output_type": "stream",
          "text": [
            "Set parameter WLSAccessID\n",
            "Set parameter WLSSecret\n",
            "Set parameter LicenseID to value 868440\n",
            "Academic license 868440 - for non-commercial use only - registered to es___@uwaterloo.ca\n",
            "Set parameter Seed to value 435\n"
          ]
        }
      ],
      "source": [
        "# Setup Gurobi key\n",
        "# Create environment with WLS license\n",
        "e = gp.Env(empty=True)\n",
        "e.setParam('WLSACCESSID', '453f2da9-b8f2-448f-9f06-48081a9c3dc9')\n",
        "e.setParam('WLSSECRET', 'd5675c81-7058-45f9-b6f2-30ca3855ed22')\n",
        "e.setParam('LICENSEID', 868440)\n",
        "e.start()\n",
        "\n",
        "# Create the model within the Gurobi environment. This environment will be passed in as a parameter into all subsequent models\n",
        "model = gp.Model(env=e)\n",
        "model.setParam('Seed', 435)"
      ]
    },
    {
      "cell_type": "code",
      "execution_count": 19,
      "metadata": {},
      "outputs": [],
      "source": [
        "# Sets\n",
        "D = range(1,6)\n",
        "T = range(1,171)\n",
        "T_d = {d : (T[(d-1)*len(T)//len(D):(d)*len(T)//len(D)])for d in D}\n",
        "C = range(1,6)\n",
        "M = range(6,21)\n",
        "I = (*C,*M)\n",
        "H_t = {t : range(1,len(group2_feasible_combinations[t-1])) for t in T}"
      ]
    },
    {
      "cell_type": "code",
      "execution_count": 20,
      "metadata": {},
      "outputs": [],
      "source": [
        "# penalties\n",
        "# separated to make them easier to read\n",
        "# taken from this graph: https://www.desmos.com/calculator/g5rhs6n2ke\n",
        "penalties = [(0,0), (4,4), (8, 11.31), (12, 20.78), (16, 32), (34, 99.13)]\n",
        "Q = range(1,len(penalties)+1)"
      ]
    },
    {
      "cell_type": "code",
      "execution_count": 21,
      "metadata": {},
      "outputs": [],
      "source": [
        "# Parameters\n",
        "\n",
        "# need to sort this one out with column generation\n",
        "\n",
        "a = group2_feasible_combinations\n",
        "f = [[sum(a[t-1][h-1]) // 6 for h in H_t[t]] for t in T]\n",
        "n = 8 # Need to inpute\n",
        "u = {q : penalties[q-1][1] for q in Q}\n",
        "v = {q : penalties[q-1][0] for q in Q}\n",
        "w = .001 # Need to inpute"
      ]
    },
    {
      "cell_type": "code",
      "execution_count": 22,
      "metadata": {},
      "outputs": [],
      "source": [
        "indices = [(t, h) for t in T for h in H_t[t]]"
      ]
    },
    {
      "cell_type": "code",
      "execution_count": 23,
      "metadata": {},
      "outputs": [],
      "source": [
        "# Decision Varbiables\n",
        "alpha = model.addVars(indices, vtype=GRB.BINARY, name=\"alpha\")\n",
        "y = model.addVars(I, D, Q, lb=0.0, ub=1.0, vtype=GRB.CONTINUOUS, name = \"y\")"
      ]
    },
    {
      "cell_type": "code",
      "execution_count": 24,
      "metadata": {},
      "outputs": [],
      "source": [
        "for i in I:\n",
        "    for d in D:\n",
        "        model.addSOS(GRB.SOS_TYPE2, [y[i,d,q] for q in Q])"
      ]
    },
    {
      "cell_type": "code",
      "execution_count": 25,
      "metadata": {},
      "outputs": [],
      "source": [
        "# Objective Value\n",
        "model.setObjective(sum(f[t-1][h-1]*alpha[t,h] for t in T for h in H_t[t]) - w * sum(u[q] * y[i,d,q] for i in I for d in D for q in Q),sense=GRB.MAXIMIZE)"
      ]
    },
    {
      "cell_type": "code",
      "execution_count": 26,
      "metadata": {},
      "outputs": [
        {
          "data": {
            "text/plain": [
              "{(1, 1): <gurobi.Constr *Awaiting Model Update*>,\n",
              " (1, 2): <gurobi.Constr *Awaiting Model Update*>,\n",
              " (1, 3): <gurobi.Constr *Awaiting Model Update*>,\n",
              " (1, 4): <gurobi.Constr *Awaiting Model Update*>,\n",
              " (1, 5): <gurobi.Constr *Awaiting Model Update*>,\n",
              " (2, 1): <gurobi.Constr *Awaiting Model Update*>,\n",
              " (2, 2): <gurobi.Constr *Awaiting Model Update*>,\n",
              " (2, 3): <gurobi.Constr *Awaiting Model Update*>,\n",
              " (2, 4): <gurobi.Constr *Awaiting Model Update*>,\n",
              " (2, 5): <gurobi.Constr *Awaiting Model Update*>,\n",
              " (3, 1): <gurobi.Constr *Awaiting Model Update*>,\n",
              " (3, 2): <gurobi.Constr *Awaiting Model Update*>,\n",
              " (3, 3): <gurobi.Constr *Awaiting Model Update*>,\n",
              " (3, 4): <gurobi.Constr *Awaiting Model Update*>,\n",
              " (3, 5): <gurobi.Constr *Awaiting Model Update*>,\n",
              " (4, 1): <gurobi.Constr *Awaiting Model Update*>,\n",
              " (4, 2): <gurobi.Constr *Awaiting Model Update*>,\n",
              " (4, 3): <gurobi.Constr *Awaiting Model Update*>,\n",
              " (4, 4): <gurobi.Constr *Awaiting Model Update*>,\n",
              " (4, 5): <gurobi.Constr *Awaiting Model Update*>,\n",
              " (5, 1): <gurobi.Constr *Awaiting Model Update*>,\n",
              " (5, 2): <gurobi.Constr *Awaiting Model Update*>,\n",
              " (5, 3): <gurobi.Constr *Awaiting Model Update*>,\n",
              " (5, 4): <gurobi.Constr *Awaiting Model Update*>,\n",
              " (5, 5): <gurobi.Constr *Awaiting Model Update*>,\n",
              " (6, 1): <gurobi.Constr *Awaiting Model Update*>,\n",
              " (6, 2): <gurobi.Constr *Awaiting Model Update*>,\n",
              " (6, 3): <gurobi.Constr *Awaiting Model Update*>,\n",
              " (6, 4): <gurobi.Constr *Awaiting Model Update*>,\n",
              " (6, 5): <gurobi.Constr *Awaiting Model Update*>,\n",
              " (7, 1): <gurobi.Constr *Awaiting Model Update*>,\n",
              " (7, 2): <gurobi.Constr *Awaiting Model Update*>,\n",
              " (7, 3): <gurobi.Constr *Awaiting Model Update*>,\n",
              " (7, 4): <gurobi.Constr *Awaiting Model Update*>,\n",
              " (7, 5): <gurobi.Constr *Awaiting Model Update*>,\n",
              " (8, 1): <gurobi.Constr *Awaiting Model Update*>,\n",
              " (8, 2): <gurobi.Constr *Awaiting Model Update*>,\n",
              " (8, 3): <gurobi.Constr *Awaiting Model Update*>,\n",
              " (8, 4): <gurobi.Constr *Awaiting Model Update*>,\n",
              " (8, 5): <gurobi.Constr *Awaiting Model Update*>,\n",
              " (9, 1): <gurobi.Constr *Awaiting Model Update*>,\n",
              " (9, 2): <gurobi.Constr *Awaiting Model Update*>,\n",
              " (9, 3): <gurobi.Constr *Awaiting Model Update*>,\n",
              " (9, 4): <gurobi.Constr *Awaiting Model Update*>,\n",
              " (9, 5): <gurobi.Constr *Awaiting Model Update*>,\n",
              " (10, 1): <gurobi.Constr *Awaiting Model Update*>,\n",
              " (10, 2): <gurobi.Constr *Awaiting Model Update*>,\n",
              " (10, 3): <gurobi.Constr *Awaiting Model Update*>,\n",
              " (10, 4): <gurobi.Constr *Awaiting Model Update*>,\n",
              " (10, 5): <gurobi.Constr *Awaiting Model Update*>,\n",
              " (11, 1): <gurobi.Constr *Awaiting Model Update*>,\n",
              " (11, 2): <gurobi.Constr *Awaiting Model Update*>,\n",
              " (11, 3): <gurobi.Constr *Awaiting Model Update*>,\n",
              " (11, 4): <gurobi.Constr *Awaiting Model Update*>,\n",
              " (11, 5): <gurobi.Constr *Awaiting Model Update*>,\n",
              " (12, 1): <gurobi.Constr *Awaiting Model Update*>,\n",
              " (12, 2): <gurobi.Constr *Awaiting Model Update*>,\n",
              " (12, 3): <gurobi.Constr *Awaiting Model Update*>,\n",
              " (12, 4): <gurobi.Constr *Awaiting Model Update*>,\n",
              " (12, 5): <gurobi.Constr *Awaiting Model Update*>,\n",
              " (13, 1): <gurobi.Constr *Awaiting Model Update*>,\n",
              " (13, 2): <gurobi.Constr *Awaiting Model Update*>,\n",
              " (13, 3): <gurobi.Constr *Awaiting Model Update*>,\n",
              " (13, 4): <gurobi.Constr *Awaiting Model Update*>,\n",
              " (13, 5): <gurobi.Constr *Awaiting Model Update*>,\n",
              " (14, 1): <gurobi.Constr *Awaiting Model Update*>,\n",
              " (14, 2): <gurobi.Constr *Awaiting Model Update*>,\n",
              " (14, 3): <gurobi.Constr *Awaiting Model Update*>,\n",
              " (14, 4): <gurobi.Constr *Awaiting Model Update*>,\n",
              " (14, 5): <gurobi.Constr *Awaiting Model Update*>,\n",
              " (15, 1): <gurobi.Constr *Awaiting Model Update*>,\n",
              " (15, 2): <gurobi.Constr *Awaiting Model Update*>,\n",
              " (15, 3): <gurobi.Constr *Awaiting Model Update*>,\n",
              " (15, 4): <gurobi.Constr *Awaiting Model Update*>,\n",
              " (15, 5): <gurobi.Constr *Awaiting Model Update*>,\n",
              " (16, 1): <gurobi.Constr *Awaiting Model Update*>,\n",
              " (16, 2): <gurobi.Constr *Awaiting Model Update*>,\n",
              " (16, 3): <gurobi.Constr *Awaiting Model Update*>,\n",
              " (16, 4): <gurobi.Constr *Awaiting Model Update*>,\n",
              " (16, 5): <gurobi.Constr *Awaiting Model Update*>,\n",
              " (17, 1): <gurobi.Constr *Awaiting Model Update*>,\n",
              " (17, 2): <gurobi.Constr *Awaiting Model Update*>,\n",
              " (17, 3): <gurobi.Constr *Awaiting Model Update*>,\n",
              " (17, 4): <gurobi.Constr *Awaiting Model Update*>,\n",
              " (17, 5): <gurobi.Constr *Awaiting Model Update*>,\n",
              " (18, 1): <gurobi.Constr *Awaiting Model Update*>,\n",
              " (18, 2): <gurobi.Constr *Awaiting Model Update*>,\n",
              " (18, 3): <gurobi.Constr *Awaiting Model Update*>,\n",
              " (18, 4): <gurobi.Constr *Awaiting Model Update*>,\n",
              " (18, 5): <gurobi.Constr *Awaiting Model Update*>,\n",
              " (19, 1): <gurobi.Constr *Awaiting Model Update*>,\n",
              " (19, 2): <gurobi.Constr *Awaiting Model Update*>,\n",
              " (19, 3): <gurobi.Constr *Awaiting Model Update*>,\n",
              " (19, 4): <gurobi.Constr *Awaiting Model Update*>,\n",
              " (19, 5): <gurobi.Constr *Awaiting Model Update*>,\n",
              " (20, 1): <gurobi.Constr *Awaiting Model Update*>,\n",
              " (20, 2): <gurobi.Constr *Awaiting Model Update*>,\n",
              " (20, 3): <gurobi.Constr *Awaiting Model Update*>,\n",
              " (20, 4): <gurobi.Constr *Awaiting Model Update*>,\n",
              " (20, 5): <gurobi.Constr *Awaiting Model Update*>}"
            ]
          },
          "execution_count": 26,
          "metadata": {},
          "output_type": "execute_result"
        }
      ],
      "source": [
        "# Constraints\n",
        "model.addConstrs(sum(alpha[t,h] for h in H_t[t]) <= 1 for t in T)\n",
        "model.addConstrs(sum(a[t-1][h-1][i-1]*alpha[t,h] for t in T_d[d] for h in H_t[t]) <= n for i in I for d in D)\n",
        "model.addConstrs(sum(a[t-1][h-1][i-1]*alpha[t,h] for t in T_d[d] for h in H_t[t]) == sum(v[q]*y[i,d,q] for q in Q) for i in I for d in D)\n",
        "model.addConstrs(sum(y[i,d,q] for q in Q) == 1 for i in I for d in D)"
      ]
    },
    {
      "cell_type": "code",
      "execution_count": 27,
      "metadata": {},
      "outputs": [
        {
          "name": "stdout",
          "output_type": "stream",
          "text": [
            "Gurobi Optimizer version 11.0.1 build v11.0.1rc0 (mac64[arm] - Darwin 23.4.0 23E214)\n",
            "\n",
            "CPU model: Apple M2\n",
            "Thread count: 8 physical cores, 8 logical processors, using up to 8 threads\n",
            "\n",
            "Academic license 868440 - for non-commercial use only - registered to es___@uwaterloo.ca\n",
            "Optimize a model with 470 rows, 3474522 columns and 71268854 nonzeros\n",
            "Model fingerprint: 0xc6231940\n",
            "Model has 100 SOS constraints\n",
            "Variable types: 600 continuous, 3473922 integer (3473922 binary)\n",
            "Coefficient statistics:\n",
            "  Matrix range     [1e+00, 3e+01]\n",
            "  Objective range  [4e-03, 2e+00]\n",
            "  Bounds range     [1e+00, 1e+00]\n",
            "  RHS range        [1e+00, 8e+00]\n",
            "Presolve removed 20 rows and 150 columns (presolve time = 6s) ...\n",
            "Presolve removed 20 rows and 150 columns (presolve time = 10s) ...\n",
            "Presolve removed 20 rows and 150 columns (presolve time = 15s) ...\n",
            "Presolve removed 20 rows and 150 columns (presolve time = 20s) ...\n",
            "Presolve removed 20 rows and 150 columns (presolve time = 25s) ...\n",
            "Presolve removed 20 rows and 150 columns (presolve time = 30s) ...\n",
            "Presolve removed 20 rows and 150 columns (presolve time = 35s) ...\n",
            "Presolve removed 20 rows and 150 columns (presolve time = 40s) ...\n",
            "Presolve removed 20 rows and 150 columns (presolve time = 45s) ...\n",
            "Presolve removed 20 rows and 150 columns (presolve time = 50s) ...\n",
            "Presolve removed 20 rows and 150 columns (presolve time = 56s) ...\n",
            "Presolve removed 120 rows and 150 columns (presolve time = 60s) ...\n",
            "Presolve removed 120 rows and 150 columns (presolve time = 65s) ...\n",
            "Presolve removed 480 rows and 2715714 columns (presolve time = 122s) ...\n",
            "Presolve removed 380 rows and 2716094 columns\n",
            "Presolve time: 122.76s\n",
            "Presolved: 90 rows, 758428 columns, 8200084 nonzeros\n",
            "Presolved model has 20 SOS constraint(s)\n",
            "Variable types: 120 continuous, 758308 integer (758288 binary)\n",
            "\n",
            "Root simplex log...\n",
            "\n",
            "Iteration    Objective       Primal Inf.    Dual Inf.      Time\n",
            "       0    1.3938760e+02   9.000000e+01   0.000000e+00    125s\n",
            "      66    1.1653395e+02   1.733275e+02   0.000000e+00    125s\n",
            "     810    9.9234500e+01   0.000000e+00   0.000000e+00    130s\n",
            "\n",
            "Root relaxation: objective 9.923450e+01, 810 iterations, 4.95 seconds (17.02 work units)\n",
            "\n",
            "    Nodes    |    Current Node    |     Objective Bounds      |     Work\n",
            " Expl Unexpl |  Obj  Depth IntInf | Incumbent    BestBd   Gap | It/Node Time\n",
            "\n",
            "*    0     0               0      99.2345000   99.23450  0.00%     -  135s\n",
            "\n",
            "Explored 1 nodes (7123 simplex iterations) in 136.62 seconds (290.96 work units)\n",
            "Thread count was 8 (of 8 available processors)\n",
            "\n",
            "Solution count 1: 99.2345 \n",
            "\n",
            "Optimal solution found (tolerance 1.00e-04)\n",
            "Best objective 9.923450000000e+01, best bound 9.923450000000e+01, gap 0.0000%\n"
          ]
        }
      ],
      "source": [
        "model.optimize()"
      ]
    },
    {
      "cell_type": "code",
      "execution_count": 28,
      "metadata": {},
      "outputs": [],
      "source": [
        "with open(save_optimal_group2_path, \"w\") as file:\n",
        "  for t in T:\n",
        "    for h in H_t[t]:\n",
        "      if alpha[t,h].X == 1:\n",
        "        file.write(f\"{t} {a[t-1][h-1]}\\n\")"
      ]
    },
    {
      "cell_type": "markdown",
      "metadata": {},
      "source": [
        "## Save Schedule Results"
      ]
    },
    {
      "cell_type": "code",
      "execution_count": 29,
      "metadata": {},
      "outputs": [],
      "source": [
        "group1_optimal = utils_functions.read_optimal_txt(save_optimal_group1_path)\n",
        "group2_optimal = utils_functions.read_optimal_txt(save_optimal_group2_path)"
      ]
    },
    {
      "cell_type": "code",
      "execution_count": 30,
      "metadata": {},
      "outputs": [],
      "source": [
        "group1_people = [*unavailability.group1_chairs, *unavailability.group1_members]\n",
        "group2_people = [*unavailability.group2_chairs, *unavailability.group2_members]\n",
        "\n",
        "schedules.save_group_schedules(group1_people, group1_optimal, group1_unavailability, save_visualizations_prefix_path)\n",
        "schedules.save_group_schedules(group2_people, group2_optimal, group2_unavailability, save_visualizations_prefix_path)"
      ]
    },
    {
      "cell_type": "code",
      "execution_count": 31,
      "metadata": {},
      "outputs": [
        {
          "name": "stdout",
          "output_type": "stream",
          "text": [
            "Rooms per Timeslot: {1: 2, 2: 1, 3: 1, 4: 2, 5: 1, 6: 2, 7: 2, 8: 1, 10: 2, 11: 1, 13: 1, 16: 2, 17: 2, 18: 1, 19: 1, 22: 2, 23: 2, 24: 1, 25: 2, 27: 2, 28: 1, 29: 3, 30: 1, 31: 2, 32: 1, 34: 1, 35: 2, 36: 3, 37: 2, 38: 1, 39: 1, 40: 1, 41: 2, 42: 2, 43: 2, 44: 2, 47: 2, 51: 2, 52: 2, 53: 1, 55: 1, 56: 2, 59: 2, 61: 1, 62: 2, 63: 2, 64: 1, 66: 1, 67: 2, 68: 1, 69: 2, 70: 2, 71: 2, 72: 2, 73: 1, 74: 3, 75: 1, 76: 1, 77: 1, 78: 1, 79: 2, 81: 1, 84: 1, 85: 1, 87: 2, 89: 1, 90: 2, 93: 2, 95: 2, 97: 2, 98: 1, 99: 1, 100: 1, 101: 2, 102: 3, 103: 1, 104: 1, 105: 1, 107: 1, 108: 2, 109: 2, 110: 2, 112: 2, 113: 2, 114: 1, 115: 1, 119: 2, 120: 1, 123: 1, 124: 1, 125: 1, 126: 1, 128: 2, 129: 1, 130: 2, 131: 1, 132: 2, 133: 4, 134: 1, 135: 3, 136: 1, 137: 1, 138: 1, 139: 1, 140: 1, 141: 1, 142: 1, 144: 2, 145: 2, 146: 3, 148: 2, 149: 2, 152: 3, 153: 2, 155: 1, 157: 2, 158: 4, 159: 1, 160: 1, 161: 1, 162: 1, 163: 1, 165: 1, 166: 1, 167: 1, 169: 2, 170: 1}\n"
          ]
        },
        {
          "data": {
            "image/png": "[encoded data removed]",
            "text/plain": [
              "<Figure size 1000x1200 with 1 Axes>"
            ]
          },
          "metadata": {},
          "output_type": "display_data"
        }
      ],
      "source": [
        "rooms_per_timeslot = schedules.map_timeslots_to_num_rooms(group1_optimal, group2_optimal)\n",
        "schedules.display_master_schedule(rooms_per_timeslot, master_schedule_path)"
      ]
    }
  ],
  "metadata": {
    "colab": {
      "provenance": []
    },
    "kernelspec": {
      "display_name": "Python 3",
      "name": "python3"
    },
    "language_info": {
      "codemirror_mode": {
        "name": "ipython",
        "version": 3
      },
      "file_extension": ".py",
      "mimetype": "text/x-python",
      "name": "python",
      "nbconvert_exporter": "python",
      "pygments_lexer": "ipython3",
      "version": "3.12.0"
    }
  },
  "nbformat": 4,
  "nbformat_minor": 0
}
