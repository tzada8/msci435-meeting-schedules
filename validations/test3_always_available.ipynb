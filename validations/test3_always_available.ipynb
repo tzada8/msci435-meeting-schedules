{
  "cells": [
    {
      "cell_type": "markdown",
      "metadata": {},
      "source": [
        "## Test 3: Always Availabile"
      ]
    },
    {
      "cell_type": "code",
      "execution_count": 1,
      "metadata": {},
      "outputs": [],
      "source": [
        "test_num = \"test3\"\n",
        "member_to_chair_ratio = 5\n",
        "\n",
        "save_optimal_group1_path = f\"../data/{test_num}/group1_results.txt\"\n",
        "save_optimal_group2_path = f\"../data/{test_num}/group2_results.txt\"\n",
        "save_visualizations_prefix_path = f\"../data/{test_num}\"\n",
        "master_schedule_path = f\"../data/{test_num}/master_schedule.png\""
      ]
    },
    {
      "cell_type": "code",
      "execution_count": 2,
      "metadata": {},
      "outputs": [],
      "source": [
        "chairs_unavailability = [\n",
        "    [],\n",
        "    [],\n",
        "    [],\n",
        "    [],\n",
        "    [],\n",
        "    [],\n",
        "    [],\n",
        "    [],\n",
        "    [],\n",
        "    [],\n",
        "]\n",
        "\n",
        "members_unavailability = [\n",
        "    [],\n",
        "    [],\n",
        "    [],\n",
        "    [],\n",
        "    [],\n",
        "    [],\n",
        "    [],\n",
        "    [],\n",
        "    [],\n",
        "    [],\n",
        "    [],\n",
        "    [],\n",
        "    [],\n",
        "    [],\n",
        "    [],\n",
        "    [],\n",
        "    [],\n",
        "    [],\n",
        "    [],\n",
        "    [],\n",
        "    [],\n",
        "    [],\n",
        "    [],\n",
        "    [],\n",
        "    [],\n",
        "    [],\n",
        "    [],\n",
        "    [],\n",
        "    [],\n",
        "    [],\n",
        "]"
      ]
    },
    {
      "cell_type": "markdown",
      "metadata": {},
      "source": [
        "## Import Packages"
      ]
    },
    {
      "cell_type": "code",
      "execution_count": 3,
      "metadata": {},
      "outputs": [
        {
          "name": "stdout",
          "output_type": "stream",
          "text": [
            "zsh:1: 9.5.1 not found\n"
          ]
        }
      ],
      "source": [
        "!pip install gurobipy>=9.5.1"
      ]
    },
    {
      "cell_type": "code",
      "execution_count": 4,
      "metadata": {},
      "outputs": [],
      "source": [
        "import gurobipy as gp\n",
        "from gurobipy import GRB as GRB\n",
        "import sys\n",
        "sys.path.insert(0, \"../utils\")\n",
        "\n",
        "import column_generation\n",
        "import schedules\n",
        "import unavailability\n",
        "import utils_functions"
      ]
    },
    {
      "cell_type": "markdown",
      "metadata": {
        "id": "jbfGPRhx77mu"
      },
      "source": [
        "## Column Generation"
      ]
    },
    {
      "cell_type": "code",
      "execution_count": 5,
      "metadata": {},
      "outputs": [],
      "source": [
        "groups = unavailability.form_groups(chairs_unavailability, members_unavailability)\n",
        "group1_unavailability = groups[0]\n",
        "group2_unavailability = groups[1]"
      ]
    },
    {
      "cell_type": "code",
      "execution_count": 6,
      "metadata": {},
      "outputs": [
        {
          "name": "stdout",
          "output_type": "stream",
          "text": [
            "Total possible combinations: 1048576\n",
            "Total feasible combinations: 45046\n",
            "Group 1 Unavailability Mapping: {1: [], 2: [], 3: [], 4: [], 5: [], 6: [], 7: [], 8: [], 9: [], 10: [], 11: [], 12: [], 13: [], 14: [], 15: [], 16: [], 17: [], 18: [], 19: [], 20: [], 21: [], 22: [], 23: [], 24: [], 25: [], 26: [], 27: [], 28: [], 29: [], 30: [], 31: [], 32: [], 33: [], 34: [], 35: [], 36: [], 37: [], 38: [], 39: [], 40: [], 41: [], 42: [], 43: [], 44: [], 45: [], 46: [], 47: [], 48: [], 49: [], 50: [], 51: [], 52: [], 53: [], 54: [], 55: [], 56: [], 57: [], 58: [], 59: [], 60: [], 61: [], 62: [], 63: [], 64: [], 65: [], 66: [], 67: [], 68: [], 69: [], 70: [], 71: [], 72: [], 73: [], 74: [], 75: [], 76: [], 77: [], 78: [], 79: [], 80: [], 81: [], 82: [], 83: [], 84: [], 85: [], 86: [], 87: [], 88: [], 89: [], 90: [], 91: [], 92: [], 93: [], 94: [], 95: [], 96: [], 97: [], 98: [], 99: [], 100: [], 101: [], 102: [], 103: [], 104: [], 105: [], 106: [], 107: [], 108: [], 109: [], 110: [], 111: [], 112: [], 113: [], 114: [], 115: [], 116: [], 117: [], 118: [], 119: [], 120: [], 121: [], 122: [], 123: [], 124: [], 125: [], 126: [], 127: [], 128: [], 129: [], 130: [], 131: [], 132: [], 133: [], 134: [], 135: [], 136: [], 137: [], 138: [], 139: [], 140: [], 141: [], 142: [], 143: [], 144: [], 145: [], 146: [], 147: [], 148: [], 149: [], 150: [], 151: [], 152: [], 153: [], 154: [], 155: [], 156: [], 157: [], 158: [], 159: [], 160: [], 161: [], 162: [], 163: [], 164: [], 165: [], 166: [], 167: [], 168: [], 169: [], 170: []}\n",
            "Possible Number of Combinations for Group 1 Timeslots: [45046, 45046, 45046, 45046, 45046, 45046, 45046, 45046, 45046, 45046, 45046, 45046, 45046, 45046, 45046, 45046, 45046, 45046, 45046, 45046, 45046, 45046, 45046, 45046, 45046, 45046, 45046, 45046, 45046, 45046, 45046, 45046, 45046, 45046, 45046, 45046, 45046, 45046, 45046, 45046, 45046, 45046, 45046, 45046, 45046, 45046, 45046, 45046, 45046, 45046, 45046, 45046, 45046, 45046, 45046, 45046, 45046, 45046, 45046, 45046, 45046, 45046, 45046, 45046, 45046, 45046, 45046, 45046, 45046, 45046, 45046, 45046, 45046, 45046, 45046, 45046, 45046, 45046, 45046, 45046, 45046, 45046, 45046, 45046, 45046, 45046, 45046, 45046, 45046, 45046, 45046, 45046, 45046, 45046, 45046, 45046, 45046, 45046, 45046, 45046, 45046, 45046, 45046, 45046, 45046, 45046, 45046, 45046, 45046, 45046, 45046, 45046, 45046, 45046, 45046, 45046, 45046, 45046, 45046, 45046, 45046, 45046, 45046, 45046, 45046, 45046, 45046, 45046, 45046, 45046, 45046, 45046, 45046, 45046, 45046, 45046, 45046, 45046, 45046, 45046, 45046, 45046, 45046, 45046, 45046, 45046, 45046, 45046, 45046, 45046, 45046, 45046, 45046, 45046, 45046, 45046, 45046, 45046, 45046, 45046, 45046, 45046, 45046, 45046, 45046, 45046, 45046, 45046, 45046, 45046]\n",
            "Group 2 Unavailability Mapping: {1: [], 2: [], 3: [], 4: [], 5: [], 6: [], 7: [], 8: [], 9: [], 10: [], 11: [], 12: [], 13: [], 14: [], 15: [], 16: [], 17: [], 18: [], 19: [], 20: [], 21: [], 22: [], 23: [], 24: [], 25: [], 26: [], 27: [], 28: [], 29: [], 30: [], 31: [], 32: [], 33: [], 34: [], 35: [], 36: [], 37: [], 38: [], 39: [], 40: [], 41: [], 42: [], 43: [], 44: [], 45: [], 46: [], 47: [], 48: [], 49: [], 50: [], 51: [], 52: [], 53: [], 54: [], 55: [], 56: [], 57: [], 58: [], 59: [], 60: [], 61: [], 62: [], 63: [], 64: [], 65: [], 66: [], 67: [], 68: [], 69: [], 70: [], 71: [], 72: [], 73: [], 74: [], 75: [], 76: [], 77: [], 78: [], 79: [], 80: [], 81: [], 82: [], 83: [], 84: [], 85: [], 86: [], 87: [], 88: [], 89: [], 90: [], 91: [], 92: [], 93: [], 94: [], 95: [], 96: [], 97: [], 98: [], 99: [], 100: [], 101: [], 102: [], 103: [], 104: [], 105: [], 106: [], 107: [], 108: [], 109: [], 110: [], 111: [], 112: [], 113: [], 114: [], 115: [], 116: [], 117: [], 118: [], 119: [], 120: [], 121: [], 122: [], 123: [], 124: [], 125: [], 126: [], 127: [], 128: [], 129: [], 130: [], 131: [], 132: [], 133: [], 134: [], 135: [], 136: [], 137: [], 138: [], 139: [], 140: [], 141: [], 142: [], 143: [], 144: [], 145: [], 146: [], 147: [], 148: [], 149: [], 150: [], 151: [], 152: [], 153: [], 154: [], 155: [], 156: [], 157: [], 158: [], 159: [], 160: [], 161: [], 162: [], 163: [], 164: [], 165: [], 166: [], 167: [], 168: [], 169: [], 170: []}\n",
            "Possible Number of Combinations for Group 2 Timeslots: [45046, 45046, 45046, 45046, 45046, 45046, 45046, 45046, 45046, 45046, 45046, 45046, 45046, 45046, 45046, 45046, 45046, 45046, 45046, 45046, 45046, 45046, 45046, 45046, 45046, 45046, 45046, 45046, 45046, 45046, 45046, 45046, 45046, 45046, 45046, 45046, 45046, 45046, 45046, 45046, 45046, 45046, 45046, 45046, 45046, 45046, 45046, 45046, 45046, 45046, 45046, 45046, 45046, 45046, 45046, 45046, 45046, 45046, 45046, 45046, 45046, 45046, 45046, 45046, 45046, 45046, 45046, 45046, 45046, 45046, 45046, 45046, 45046, 45046, 45046, 45046, 45046, 45046, 45046, 45046, 45046, 45046, 45046, 45046, 45046, 45046, 45046, 45046, 45046, 45046, 45046, 45046, 45046, 45046, 45046, 45046, 45046, 45046, 45046, 45046, 45046, 45046, 45046, 45046, 45046, 45046, 45046, 45046, 45046, 45046, 45046, 45046, 45046, 45046, 45046, 45046, 45046, 45046, 45046, 45046, 45046, 45046, 45046, 45046, 45046, 45046, 45046, 45046, 45046, 45046, 45046, 45046, 45046, 45046, 45046, 45046, 45046, 45046, 45046, 45046, 45046, 45046, 45046, 45046, 45046, 45046, 45046, 45046, 45046, 45046, 45046, 45046, 45046, 45046, 45046, 45046, 45046, 45046, 45046, 45046, 45046, 45046, 45046, 45046, 45046, 45046, 45046, 45046, 45046, 45046]\n"
          ]
        }
      ],
      "source": [
        "generic_columns = column_generation.generic_column_generation(member_to_chair_ratio)\n",
        "group1_feasible_combinations = column_generation.group_column_generation(1, group1_unavailability, generic_columns)\n",
        "group2_feasible_combinations = column_generation.group_column_generation(2, group2_unavailability, generic_columns)"
      ]
    },
    {
      "cell_type": "markdown",
      "metadata": {
        "id": "XPDmXSbd7yXx"
      },
      "source": [
        "## Group 1 Optimization Model"
      ]
    },
    {
      "cell_type": "code",
      "execution_count": 7,
      "metadata": {
        "colab": {
          "base_uri": "https://localhost:8080/"
        },
        "id": "4fPDyvmig1PH",
        "outputId": "4744fbb1-d871-4564-b779-a74ee58b787f"
      },
      "outputs": [
        {
          "name": "stdout",
          "output_type": "stream",
          "text": [
            "Set parameter WLSAccessID\n",
            "Set parameter WLSSecret\n",
            "Set parameter LicenseID to value 868440\n",
            "Academic license 868440 - for non-commercial use only - registered to es___@uwaterloo.ca\n",
            "Set parameter Seed to value 435\n"
          ]
        }
      ],
      "source": [
        "# Setup Gurobi key\n",
        "# Create environment with WLS license\n",
        "e = gp.Env(empty=True)\n",
        "e.setParam('WLSACCESSID', '453f2da9-b8f2-448f-9f06-48081a9c3dc9')\n",
        "e.setParam('WLSSECRET', 'd5675c81-7058-45f9-b6f2-30ca3855ed22')\n",
        "e.setParam('LICENSEID', 868440)\n",
        "e.start()\n",
        "\n",
        "# Create the model within the Gurobi environment. This environment will be passed in as a parameter into all subsequent models\n",
        "model = gp.Model(env=e)\n",
        "model.setParam('Seed', 435)"
      ]
    },
    {
      "cell_type": "code",
      "execution_count": 8,
      "metadata": {
        "id": "Ytmz6IwTXDTr"
      },
      "outputs": [],
      "source": [
        "# Sets\n",
        "D = range(1,6)\n",
        "T = range(1,171)\n",
        "T_d = {d : (T[(d-1)*len(T)//len(D):(d)*len(T)//len(D)])for d in D}\n",
        "C = range(1,6)\n",
        "M = range(6,21)\n",
        "I = (*C,*M)\n",
        "H_t = {t : range(1,len(group1_feasible_combinations[t-1])) for t in T}"
      ]
    },
    {
      "cell_type": "code",
      "execution_count": 9,
      "metadata": {
        "id": "uYL_ovYJdWmx"
      },
      "outputs": [],
      "source": [
        "# penalties\n",
        "# separated to make them easier to read\n",
        "# taken from this graph: https://www.desmos.com/calculator/g5rhs6n2ke\n",
        "penalties = [(0,0), (4,4), (8, 11.31), (12, 20.78), (16, 32), (34, 99.13)]\n",
        "Q = range(1,len(penalties)+1)"
      ]
    },
    {
      "cell_type": "code",
      "execution_count": 10,
      "metadata": {
        "id": "zV_lSO51a7nW"
      },
      "outputs": [],
      "source": [
        "# Parameters\n",
        "\n",
        "# need to sort this one out with column generation\n",
        "\n",
        "a = group1_feasible_combinations\n",
        "f = [[sum(a[t-1][h-1]) // 6 for h in H_t[t]] for t in T]\n",
        "n = 8 # Need to inpute\n",
        "u = {q : penalties[q-1][1] for q in Q}\n",
        "v = {q : penalties[q-1][0] for q in Q}\n",
        "w = .001 # Need to inpute"
      ]
    },
    {
      "cell_type": "code",
      "execution_count": 11,
      "metadata": {
        "id": "6OLq1F8Tz1Pw"
      },
      "outputs": [],
      "source": [
        "indices = [(t, h) for t in T for h in H_t[t]]"
      ]
    },
    {
      "cell_type": "code",
      "execution_count": 12,
      "metadata": {
        "id": "IeqEV5qrnB91"
      },
      "outputs": [],
      "source": [
        "# Decision Varbiables\n",
        "alpha = model.addVars(indices, vtype=GRB.BINARY, name=\"alpha\")\n",
        "y = model.addVars(I, D, Q, lb=0.0, ub=1.0, vtype=GRB.CONTINUOUS, name = \"y\")"
      ]
    },
    {
      "cell_type": "code",
      "execution_count": 13,
      "metadata": {},
      "outputs": [],
      "source": [
        "for i in I:\n",
        "    for d in D:\n",
        "        model.addSOS(GRB.SOS_TYPE2, [y[i,d,q] for q in Q])"
      ]
    },
    {
      "cell_type": "code",
      "execution_count": 14,
      "metadata": {
        "id": "hLBoOX3RnUi1"
      },
      "outputs": [],
      "source": [
        "# Objective Value\n",
        "model.setObjective(sum(f[t-1][h-1]*alpha[t,h] for t in T for h in H_t[t]) - w * sum(u[q] * y[i,d,q] for i in I for d in D for q in Q),sense=GRB.MAXIMIZE)"
      ]
    },
    {
      "cell_type": "code",
      "execution_count": 15,
      "metadata": {
        "id": "HurC0aJzn3KJ"
      },
      "outputs": [
        {
          "data": {
            "text/plain": [
              "{(1, 1): <gurobi.Constr *Awaiting Model Update*>,\n",
              " (1, 2): <gurobi.Constr *Awaiting Model Update*>,\n",
              " (1, 3): <gurobi.Constr *Awaiting Model Update*>,\n",
              " (1, 4): <gurobi.Constr *Awaiting Model Update*>,\n",
              " (1, 5): <gurobi.Constr *Awaiting Model Update*>,\n",
              " (2, 1): <gurobi.Constr *Awaiting Model Update*>,\n",
              " (2, 2): <gurobi.Constr *Awaiting Model Update*>,\n",
              " (2, 3): <gurobi.Constr *Awaiting Model Update*>,\n",
              " (2, 4): <gurobi.Constr *Awaiting Model Update*>,\n",
              " (2, 5): <gurobi.Constr *Awaiting Model Update*>,\n",
              " (3, 1): <gurobi.Constr *Awaiting Model Update*>,\n",
              " (3, 2): <gurobi.Constr *Awaiting Model Update*>,\n",
              " (3, 3): <gurobi.Constr *Awaiting Model Update*>,\n",
              " (3, 4): <gurobi.Constr *Awaiting Model Update*>,\n",
              " (3, 5): <gurobi.Constr *Awaiting Model Update*>,\n",
              " (4, 1): <gurobi.Constr *Awaiting Model Update*>,\n",
              " (4, 2): <gurobi.Constr *Awaiting Model Update*>,\n",
              " (4, 3): <gurobi.Constr *Awaiting Model Update*>,\n",
              " (4, 4): <gurobi.Constr *Awaiting Model Update*>,\n",
              " (4, 5): <gurobi.Constr *Awaiting Model Update*>,\n",
              " (5, 1): <gurobi.Constr *Awaiting Model Update*>,\n",
              " (5, 2): <gurobi.Constr *Awaiting Model Update*>,\n",
              " (5, 3): <gurobi.Constr *Awaiting Model Update*>,\n",
              " (5, 4): <gurobi.Constr *Awaiting Model Update*>,\n",
              " (5, 5): <gurobi.Constr *Awaiting Model Update*>,\n",
              " (6, 1): <gurobi.Constr *Awaiting Model Update*>,\n",
              " (6, 2): <gurobi.Constr *Awaiting Model Update*>,\n",
              " (6, 3): <gurobi.Constr *Awaiting Model Update*>,\n",
              " (6, 4): <gurobi.Constr *Awaiting Model Update*>,\n",
              " (6, 5): <gurobi.Constr *Awaiting Model Update*>,\n",
              " (7, 1): <gurobi.Constr *Awaiting Model Update*>,\n",
              " (7, 2): <gurobi.Constr *Awaiting Model Update*>,\n",
              " (7, 3): <gurobi.Constr *Awaiting Model Update*>,\n",
              " (7, 4): <gurobi.Constr *Awaiting Model Update*>,\n",
              " (7, 5): <gurobi.Constr *Awaiting Model Update*>,\n",
              " (8, 1): <gurobi.Constr *Awaiting Model Update*>,\n",
              " (8, 2): <gurobi.Constr *Awaiting Model Update*>,\n",
              " (8, 3): <gurobi.Constr *Awaiting Model Update*>,\n",
              " (8, 4): <gurobi.Constr *Awaiting Model Update*>,\n",
              " (8, 5): <gurobi.Constr *Awaiting Model Update*>,\n",
              " (9, 1): <gurobi.Constr *Awaiting Model Update*>,\n",
              " (9, 2): <gurobi.Constr *Awaiting Model Update*>,\n",
              " (9, 3): <gurobi.Constr *Awaiting Model Update*>,\n",
              " (9, 4): <gurobi.Constr *Awaiting Model Update*>,\n",
              " (9, 5): <gurobi.Constr *Awaiting Model Update*>,\n",
              " (10, 1): <gurobi.Constr *Awaiting Model Update*>,\n",
              " (10, 2): <gurobi.Constr *Awaiting Model Update*>,\n",
              " (10, 3): <gurobi.Constr *Awaiting Model Update*>,\n",
              " (10, 4): <gurobi.Constr *Awaiting Model Update*>,\n",
              " (10, 5): <gurobi.Constr *Awaiting Model Update*>,\n",
              " (11, 1): <gurobi.Constr *Awaiting Model Update*>,\n",
              " (11, 2): <gurobi.Constr *Awaiting Model Update*>,\n",
              " (11, 3): <gurobi.Constr *Awaiting Model Update*>,\n",
              " (11, 4): <gurobi.Constr *Awaiting Model Update*>,\n",
              " (11, 5): <gurobi.Constr *Awaiting Model Update*>,\n",
              " (12, 1): <gurobi.Constr *Awaiting Model Update*>,\n",
              " (12, 2): <gurobi.Constr *Awaiting Model Update*>,\n",
              " (12, 3): <gurobi.Constr *Awaiting Model Update*>,\n",
              " (12, 4): <gurobi.Constr *Awaiting Model Update*>,\n",
              " (12, 5): <gurobi.Constr *Awaiting Model Update*>,\n",
              " (13, 1): <gurobi.Constr *Awaiting Model Update*>,\n",
              " (13, 2): <gurobi.Constr *Awaiting Model Update*>,\n",
              " (13, 3): <gurobi.Constr *Awaiting Model Update*>,\n",
              " (13, 4): <gurobi.Constr *Awaiting Model Update*>,\n",
              " (13, 5): <gurobi.Constr *Awaiting Model Update*>,\n",
              " (14, 1): <gurobi.Constr *Awaiting Model Update*>,\n",
              " (14, 2): <gurobi.Constr *Awaiting Model Update*>,\n",
              " (14, 3): <gurobi.Constr *Awaiting Model Update*>,\n",
              " (14, 4): <gurobi.Constr *Awaiting Model Update*>,\n",
              " (14, 5): <gurobi.Constr *Awaiting Model Update*>,\n",
              " (15, 1): <gurobi.Constr *Awaiting Model Update*>,\n",
              " (15, 2): <gurobi.Constr *Awaiting Model Update*>,\n",
              " (15, 3): <gurobi.Constr *Awaiting Model Update*>,\n",
              " (15, 4): <gurobi.Constr *Awaiting Model Update*>,\n",
              " (15, 5): <gurobi.Constr *Awaiting Model Update*>,\n",
              " (16, 1): <gurobi.Constr *Awaiting Model Update*>,\n",
              " (16, 2): <gurobi.Constr *Awaiting Model Update*>,\n",
              " (16, 3): <gurobi.Constr *Awaiting Model Update*>,\n",
              " (16, 4): <gurobi.Constr *Awaiting Model Update*>,\n",
              " (16, 5): <gurobi.Constr *Awaiting Model Update*>,\n",
              " (17, 1): <gurobi.Constr *Awaiting Model Update*>,\n",
              " (17, 2): <gurobi.Constr *Awaiting Model Update*>,\n",
              " (17, 3): <gurobi.Constr *Awaiting Model Update*>,\n",
              " (17, 4): <gurobi.Constr *Awaiting Model Update*>,\n",
              " (17, 5): <gurobi.Constr *Awaiting Model Update*>,\n",
              " (18, 1): <gurobi.Constr *Awaiting Model Update*>,\n",
              " (18, 2): <gurobi.Constr *Awaiting Model Update*>,\n",
              " (18, 3): <gurobi.Constr *Awaiting Model Update*>,\n",
              " (18, 4): <gurobi.Constr *Awaiting Model Update*>,\n",
              " (18, 5): <gurobi.Constr *Awaiting Model Update*>,\n",
              " (19, 1): <gurobi.Constr *Awaiting Model Update*>,\n",
              " (19, 2): <gurobi.Constr *Awaiting Model Update*>,\n",
              " (19, 3): <gurobi.Constr *Awaiting Model Update*>,\n",
              " (19, 4): <gurobi.Constr *Awaiting Model Update*>,\n",
              " (19, 5): <gurobi.Constr *Awaiting Model Update*>,\n",
              " (20, 1): <gurobi.Constr *Awaiting Model Update*>,\n",
              " (20, 2): <gurobi.Constr *Awaiting Model Update*>,\n",
              " (20, 3): <gurobi.Constr *Awaiting Model Update*>,\n",
              " (20, 4): <gurobi.Constr *Awaiting Model Update*>,\n",
              " (20, 5): <gurobi.Constr *Awaiting Model Update*>}"
            ]
          },
          "execution_count": 15,
          "metadata": {},
          "output_type": "execute_result"
        }
      ],
      "source": [
        "# Constraints\n",
        "model.addConstrs(sum(alpha[t,h] for h in H_t[t]) <= 1 for t in T)\n",
        "model.addConstrs(sum(a[t-1][h-1][i-1]*alpha[t,h] for t in T_d[d] for h in H_t[t]) <= n for i in I for d in D)\n",
        "model.addConstrs(sum(a[t-1][h-1][i-1]*alpha[t,h] for t in T_d[d] for h in H_t[t]) == sum(v[q]*y[i,d,q] for q in Q) for i in I for d in D)\n",
        "model.addConstrs(sum(y[i,d,q] for q in Q) == 1 for i in I for d in D)"
      ]
    },
    {
      "cell_type": "code",
      "execution_count": 16,
      "metadata": {
        "colab": {
          "base_uri": "https://localhost:8080/"
        },
        "id": "ZQzVKDAasC0l",
        "outputId": "325a488e-ab46-4ebb-f472-497b62d63eae"
      },
      "outputs": [
        {
          "name": "stdout",
          "output_type": "stream",
          "text": [
            "Gurobi Optimizer version 11.0.1 build v11.0.1rc0 (mac64[arm] - Darwin 23.4.0 23E214)\n",
            "\n",
            "CPU model: Apple M2\n",
            "Thread count: 8 physical cores, 8 logical processors, using up to 8 threads\n",
            "\n",
            "Academic license 868440 - for non-commercial use only - registered to es___@uwaterloo.ca\n",
            "Optimize a model with 470 rows, 7658250 columns and 160807670 nonzeros\n",
            "Model fingerprint: 0x3120b6ee\n",
            "Model has 100 SOS constraints\n",
            "Variable types: 600 continuous, 7657650 integer (7657650 binary)\n",
            "Coefficient statistics:\n",
            "  Matrix range     [1e+00, 3e+01]\n",
            "  Objective range  [4e-03, 2e+00]\n",
            "  Bounds range     [1e+00, 1e+00]\n",
            "  RHS range        [1e+00, 8e+00]\n",
            "Presolve removed 0 rows and 0 columns (presolve time = 3203s) ...\n",
            "Presolve removed 0 rows and 0 columns (presolve time = 3292s) ...\n",
            "\n",
            "Interrupt request received\n"
          ]
        }
      ],
      "source": [
        "model.optimize()"
      ]
    },
    {
      "cell_type": "code",
      "execution_count": null,
      "metadata": {
        "colab": {
          "base_uri": "https://localhost:8080/"
        },
        "id": "46mc9EmDsMA4",
        "outputId": "35b24764-6347-4c47-ca9c-8050fe1a01be"
      },
      "outputs": [],
      "source": [
        "with open(save_optimal_group1_path, \"w\") as file:\n",
        "  for t in T:\n",
        "    for h in H_t[t]:\n",
        "      if alpha[t,h].X == 1:\n",
        "        file.write(f\"{t} {a[t-1][h-1]}\\n\")"
      ]
    },
    {
      "cell_type": "markdown",
      "metadata": {},
      "source": [
        "## Group 2 Optimization Model"
      ]
    },
    {
      "cell_type": "code",
      "execution_count": null,
      "metadata": {},
      "outputs": [],
      "source": [
        "# Guaranteed same results from both models since no individual busy times.\n",
        "with open(save_optimal_group2_path, \"w\") as file:\n",
        "  for t in T:\n",
        "    for h in H_t[t]:\n",
        "      if alpha[t,h].X == 1:\n",
        "        file.write(f\"{t} {a[t-1][h-1]}\\n\")"
      ]
    },
    {
      "cell_type": "markdown",
      "metadata": {},
      "source": [
        "## Save Schedule Results"
      ]
    },
    {
      "cell_type": "code",
      "execution_count": null,
      "metadata": {},
      "outputs": [],
      "source": [
        "group1_optimal = utils_functions.read_optimal_txt(save_optimal_group1_path)\n",
        "group2_optimal = utils_functions.read_optimal_txt(save_optimal_group2_path)"
      ]
    },
    {
      "cell_type": "code",
      "execution_count": null,
      "metadata": {},
      "outputs": [],
      "source": [
        "group1_people = [*unavailability.group1_chairs, *unavailability.group1_members]\n",
        "group2_people = [*unavailability.group2_chairs, *unavailability.group2_members]\n",
        "\n",
        "schedules.save_group_schedules(group1_people, group1_optimal, group1_unavailability, save_visualizations_prefix_path)\n",
        "schedules.save_group_schedules(group2_people, group2_optimal, group2_unavailability, save_visualizations_prefix_path)"
      ]
    },
    {
      "cell_type": "code",
      "execution_count": null,
      "metadata": {},
      "outputs": [],
      "source": [
        "rooms_per_timeslot = schedules.map_timeslots_to_num_rooms(group1_optimal, group2_optimal)\n",
        "schedules.display_master_schedule(rooms_per_timeslot, master_schedule_path)"
      ]
    }
  ],
  "metadata": {
    "colab": {
      "provenance": []
    },
    "kernelspec": {
      "display_name": "Python 3",
      "name": "python3"
    },
    "language_info": {
      "codemirror_mode": {
        "name": "ipython",
        "version": 3
      },
      "file_extension": ".py",
      "mimetype": "text/x-python",
      "name": "python",
      "nbconvert_exporter": "python",
      "pygments_lexer": "ipython3",
      "version": "3.12.0"
    }
  },
  "nbformat": 4,
  "nbformat_minor": 0
}
